{
  "nbformat": 4,
  "nbformat_minor": 0,
  "metadata": {
    "colab": {
      "provenance": []
    },
    "kernelspec": {
      "name": "python3",
      "display_name": "Python 3"
    },
    "language_info": {
      "name": "python"
    }
  },
  "cells": [
    {
      "cell_type": "markdown",
      "metadata": {
        "id": "f5iBcowrvgTT"
      },
      "source": [
        "## Импорт библиотек"
      ]
    },
    {
      "cell_type": "code",
      "execution_count": null,
      "metadata": {
        "colab": {
          "base_uri": "https://localhost:8080/"
        },
        "id": "DqShdtHevczV",
        "outputId": "288c32ff-a3f2-43c5-a7bc-7fa50488bcfe"
      },
      "outputs": [
        {
          "output_type": "stream",
          "name": "stdout",
          "text": [
            "Looking in indexes: https://pypi.org/simple, https://us-python.pkg.dev/colab-wheels/public/simple/\n",
            "Requirement already satisfied: implicit in /usr/local/lib/python3.7/dist-packages (0.6.1)\n",
            "Requirement already satisfied: tqdm>=4.27 in /usr/local/lib/python3.7/dist-packages (from implicit) (4.64.0)\n",
            "Requirement already satisfied: scipy>=0.16 in /usr/local/lib/python3.7/dist-packages (from implicit) (1.7.3)\n",
            "Requirement already satisfied: numpy in /usr/local/lib/python3.7/dist-packages (from implicit) (1.21.6)\n"
          ]
        }
      ],
      "source": [
        "  # Библиотека с API для рекомендательных моделей\n",
        "!pip install implicit"
      ]
    },
    {
      "cell_type": "code",
      "execution_count": null,
      "metadata": {
        "colab": {
          "base_uri": "https://localhost:8080/"
        },
        "id": "Z1_KwWy6yWX5",
        "outputId": "949a7f33-a4d0-4ef6-a0ac-be4086121cd3"
      },
      "outputs": [
        {
          "output_type": "stream",
          "name": "stdout",
          "text": [
            "Looking in indexes: https://pypi.org/simple, https://us-python.pkg.dev/colab-wheels/public/simple/\n",
            "Requirement already satisfied: rankfm in /usr/local/lib/python3.7/dist-packages (0.2.5)\n",
            "Requirement already satisfied: pandas>=0.24 in /usr/local/lib/python3.7/dist-packages (from rankfm) (1.3.5)\n",
            "Requirement already satisfied: numpy>=1.15 in /usr/local/lib/python3.7/dist-packages (from rankfm) (1.21.6)\n",
            "Requirement already satisfied: python-dateutil>=2.7.3 in /usr/local/lib/python3.7/dist-packages (from pandas>=0.24->rankfm) (2.8.2)\n",
            "Requirement already satisfied: pytz>=2017.3 in /usr/local/lib/python3.7/dist-packages (from pandas>=0.24->rankfm) (2022.2.1)\n",
            "Requirement already satisfied: six>=1.5 in /usr/local/lib/python3.7/dist-packages (from python-dateutil>=2.7.3->pandas>=0.24->rankfm) (1.15.0)\n"
          ]
        }
      ],
      "source": [
        "# Библиотека с API для рекомендательных моделей\n",
        "!pip install rankfm"
      ]
    },
    {
      "cell_type": "code",
      "execution_count": null,
      "metadata": {
        "colab": {
          "base_uri": "https://localhost:8080/"
        },
        "id": "zBXnIMdbHOJg",
        "outputId": "b4eb27ef-7a3f-4929-c02c-cc8602c3754d"
      },
      "outputs": [
        {
          "output_type": "stream",
          "name": "stdout",
          "text": [
            "Looking in indexes: https://pypi.org/simple, https://us-python.pkg.dev/colab-wheels/public/simple/\n",
            "Requirement already satisfied: pymorphy2 in /usr/local/lib/python3.7/dist-packages (0.9.1)\n",
            "Requirement already satisfied: pymorphy2-dicts-ru<3.0,>=2.4 in /usr/local/lib/python3.7/dist-packages (from pymorphy2) (2.4.417127.4579844)\n",
            "Requirement already satisfied: dawg-python>=0.7.1 in /usr/local/lib/python3.7/dist-packages (from pymorphy2) (0.7.2)\n",
            "Requirement already satisfied: docopt>=0.6 in /usr/local/lib/python3.7/dist-packages (from pymorphy2) (0.6.2)\n"
          ]
        }
      ],
      "source": [
        "# Для обработки текста и лемматизации\n",
        "!pip install pymorphy2"
      ]
    },
    {
      "cell_type": "code",
      "execution_count": null,
      "metadata": {
        "id": "xCPgrUJEEgaP"
      },
      "outputs": [],
      "source": [
        "import pandas as pd\n",
        "import numpy as np\n",
        "from scipy.sparse import csr_matrix\n",
        "import scipy.sparse as sparse\n",
        "from sklearn.model_selection import train_test_split\n",
        "from tqdm.notebook import tqdm\n",
        "\n",
        "# Сохранение и загрузка моделей\n",
        "import pickle\n",
        "\n",
        "# Графики\n",
        "import matplotlib.pyplot as plt\n",
        "import seaborn as sns\n",
        "\n",
        "# Библиотека для рекомендаций Implicit\n",
        "from implicit.als import AlternatingLeastSquares\n",
        "from implicit.bpr import BayesianPersonalizedRanking\n",
        "\n",
        "# Библиотека для рекомендаций RankFM\n",
        "from rankfm.rankfm import RankFM\n",
        "from rankfm import evaluation\n",
        "\n",
        "# Векторизация текстов\n",
        "from sklearn.feature_extraction.text import TfidfVectorizer\n",
        "\n",
        "from sklearn.metrics.pairwise import cosine_similarity\n",
        "import sklearn.preprocessing as pp\n",
        "\n",
        "# Обработка текста и работа со словарями\n",
        "import nltk\n",
        "import pymorphy2\n",
        "import requests"
      ]
    },
    {
      "cell_type": "code",
      "execution_count": null,
      "metadata": {
        "colab": {
          "base_uri": "https://localhost:8080/"
        },
        "id": "669anMljDXqQ",
        "outputId": "ec512731-c475-4dcb-80e2-7c9bdd280efe"
      },
      "outputs": [
        {
          "output_type": "stream",
          "name": "stderr",
          "text": [
            "[nltk_data] Downloading package stopwords to /root/nltk_data...\n",
            "[nltk_data]   Package stopwords is already up-to-date!\n"
          ]
        }
      ],
      "source": [
        "nltk.download('stopwords')\n",
        "from nltk.corpus import stopwords as nltk_stopwords"
      ]
    },
    {
      "cell_type": "markdown",
      "metadata": {
        "id": "baCp74M-WNxy"
      },
      "source": [
        "Немного модернизируем решение, предложенное в Baseline.\n",
        "\n",
        "- В исходную функцию для подсчета метрик добавим **количество угаданных книг**\n",
        "\n",
        "- В функцию перевода датафрейма в csr-матрицу добавим `словари`, чтобы не использовать внешние переменные"
      ]
    },
    {
      "cell_type": "code",
      "execution_count": null,
      "metadata": {
        "id": "Xr1uX1EL6ap0"
      },
      "outputs": [],
      "source": [
        "###############################################\n",
        "# Исходные функции для модели с рекомендациями\n",
        "##############################################\n",
        "\n",
        "def contest_metric(df_solution, df_grd, print_report=True):\n",
        "\n",
        "  \"\"\"\n",
        "  Возвращает метрики Recall, Precision, F1-score и количество угаданных книг  \n",
        "  \"\"\"\n",
        "\n",
        "  pred = set(df_solution['chb'] + '_' + df_solution['sys_numb'].values)\n",
        "  true = set(df_grd['chb'] + '_' + df_grd['sys_numb'].values) \n",
        "  recall = len(pred.intersection(true)) / len(true)\n",
        "  precision = len(pred.intersection(true)) / (20 * len(df_grd['chb'].unique()))\n",
        "  \n",
        "  f1_score = 2 * (precision * recall) / (precision + recall)\n",
        "  true_pairs_count = len(pred.intersection(true))\n",
        "\n",
        "  if print_report == True:\n",
        "    print(f\"Угаданных книг: {true_pairs_count}\")\n",
        "    print(f\"Recall: {round(recall, 5)}\")\n",
        "    print(f\"Precision: {round(precision, 5)}\")\n",
        "    print(f\"F1-score: {round(f1_score, 5)}\")  \n",
        "\n",
        "  return [true_pairs_count, recall, precision, f1_score]\n",
        "\n",
        "\n",
        "def df_to_sparse(df, user_index_dict, item_index_dict):\n",
        "  \"\"\"\n",
        "  Создает sparse-матрицу из датафрейма\n",
        "\n",
        "  Данные о пользователях в столбце 'chb', данные о книгах - в столбце 'sys_numb`\n",
        "  Внешние словари используются для получения ID каждого пользователя и книги\n",
        "  \"\"\"\n",
        "  row = []\n",
        "  col = []\n",
        "  data = []\n",
        "\n",
        "  for line in df.itertuples():\n",
        "    row.append(user_index_dict[line.chb])\n",
        "    col.append(item_index_dict[line.sys_numb])\n",
        "    data.append(1)\n",
        "  \n",
        "  return csr_matrix((data, (row, col)))\n"
      ]
    },
    {
      "cell_type": "markdown",
      "metadata": {
        "id": "w33Da8I_TMCc"
      },
      "source": [
        "## Загрузка файлов"
      ]
    },
    {
      "cell_type": "code",
      "execution_count": null,
      "metadata": {
        "colab": {
          "base_uri": "https://localhost:8080/"
        },
        "id": "XTFHRtl68d40",
        "outputId": "adbb43ab-0e18-4b6d-cf96-b1213e5510b8"
      },
      "outputs": [
        {
          "output_type": "stream",
          "name": "stdout",
          "text": [
            "Drive already mounted at /content/drive; to attempt to forcibly remount, call drive.mount(\"/content/drive\", force_remount=True).\n"
          ]
        }
      ],
      "source": [
        "# Доступ к файлам на colab\n",
        "import glob\n",
        "import os\n",
        "\n",
        "# Библиотека для работы с google drive\n",
        "from google.colab import drive\n",
        "\n",
        "# Монтируем диск\n",
        "drive.mount('/content/drive')\n",
        "\n",
        "# Смотрим файлы в директории\n",
        "# !ls \"/content/drive/My Drive/Colab Notebooks\""
      ]
    },
    {
      "cell_type": "code",
      "execution_count": null,
      "metadata": {
        "id": "7lfTaeUtQncv"
      },
      "outputs": [],
      "source": [
        "# Меняем домашнюю директорию\n",
        "# для доступа к датасетам\n",
        "os.chdir(\"/content/drive/My Drive/Colab Notebooks\")"
      ]
    },
    {
      "cell_type": "code",
      "execution_count": null,
      "metadata": {
        "id": "8mfp-NaFD6KW"
      },
      "outputs": [],
      "source": [
        "# Cчитывание данных\n",
        "\n",
        "# читатели\n",
        "users = pd.read_csv(\n",
        "    './users.csv', sep=';', index_col=None, \n",
        "     dtype={'age': str, 'chb': str, 'chit_type': str, 'gender': str})\n",
        "\n",
        "# книги\n",
        "items = pd.read_csv(\n",
        "    'items.csv', sep=';', index_col=None, \n",
        "     dtype={'author': str, 'bbk': str, 'izd': str, \n",
        "           'sys_numb': str, 'title': str, 'year_izd': str})\n",
        "\n",
        "# история книг в библиотеке\n",
        "transactions = pd.read_csv(\n",
        "    'train_transactions_extended.csv', \n",
        "    sep=';', index_col=None,\n",
        "    dtype={'chb': str, 'date_1': str, 'is_printed': str, \n",
        "            'is_real': str, 'source': str, 'sys_numb': str, 'type': str})"
      ]
    },
    {
      "cell_type": "markdown",
      "metadata": {
        "id": "mkwb9bcnSznP"
      },
      "source": [
        "## ЭТАП 1. ALS - Базовая модель для Colloborative Filtering\n",
        "\n",
        "\n"
      ]
    },
    {
      "cell_type": "markdown",
      "metadata": {
        "id": "oeFGsy1ILy-G"
      },
      "source": [
        "### (1.1) Вводные"
      ]
    },
    {
      "cell_type": "markdown",
      "metadata": {
        "id": "Bih0ZsylLLvR"
      },
      "source": [
        "Результаты первых испытаний Baseline:\n",
        "\n",
        "1. В целом результаты ALS-модели оказались достаточно низкими \n",
        "  - подтвердилась наша гипотеза о новых пользователях\n",
        "\n",
        "2.  На тесте платформы мы получили F1-Score = 0.000690, а на кросс-валидации 0.00290\n",
        "\n",
        "  - возможно, стоит изменить подход к разбиению выборки и включить всех читателей в train и test\n",
        "\n",
        "3. Общее время обучения модели ~2-3 минуты, подбор рекомендаций очень долгий, минимум 6 минут.\n",
        "---\n",
        "План работы:\n",
        "\n",
        "- Подготовить функции для экспериментов с моделями и рекомендаций\n",
        "\n",
        "- Попробовать улучшить качество и скорость базовой модели\n",
        "\n",
        "\n"
      ]
    },
    {
      "cell_type": "markdown",
      "metadata": {
        "id": "eaHQcRcFTCGI"
      },
      "source": [
        "### (1.2) Подготовка данных"
      ]
    },
    {
      "cell_type": "markdown",
      "metadata": {
        "id": "uXyCXNuNmQGd"
      },
      "source": [
        "#### Словари для маппинга ID"
      ]
    },
    {
      "cell_type": "code",
      "execution_count": null,
      "metadata": {
        "colab": {
          "base_uri": "https://localhost:8080/"
        },
        "id": "C6L-vQgH5Sbe",
        "outputId": "27856ab4-1cd9-4cfb-9703-77b91f695eac"
      },
      "outputs": [
        {
          "name": "stdout",
          "output_type": "stream",
          "text": [
            "Информация о датасетах библиотеки:\n",
            "\n",
            "Кол-во пользователей: 16753\n",
            "Кол-во документов в истории пользователей: 194666\n",
            "Общее кол-во документов: 354355\n"
          ]
        }
      ],
      "source": [
        "print(\"Информация о датасетах библиотеки:\\n\")\n",
        "print(f\"Кол-во пользователей: {len(transactions['chb'].unique())}\")\n",
        "print(f\"Кол-во документов в истории пользователей: {len(transactions['sys_numb'].unique())}\")\n",
        "print(f\"Общее кол-во документов: {len(items['sys_numb'].unique())}\")"
      ]
    },
    {
      "cell_type": "code",
      "execution_count": null,
      "metadata": {
        "id": "o9n3aWsU4Qp_"
      },
      "outputs": [],
      "source": [
        "# Удаляем дубликаты\n",
        "df_ML = transactions[['chb', 'sys_numb']].drop_duplicates()\n",
        "\n",
        "# Словари для получения идексов user и book (для модели)\n",
        "find_user_index = {user_name: index for index, user_name \n",
        "                   in enumerate(df_ML['chb'].unique())}\n",
        "\n",
        "find_book_index = {item_name: index for index, item_name \n",
        "                     in enumerate(items['sys_numb'].unique())}\n",
        "\n",
        "# Словари для поиска user и book по индексу (для обратного маппинга)\n",
        "find_user_chb = {index: user_name for index, user_name \n",
        "                    in enumerate(df_ML['chb'].unique())}\n",
        "\n",
        "find_book_numb = {index: book_name for index, book_name \n",
        "                    in enumerate(items['sys_numb'].unique())}\n",
        "\n",
        "model_dicts = {'user_index': find_user_index ,\n",
        "               'book_index': find_book_index,\n",
        "               'user_chb': find_user_chb ,\n",
        "               'book_numb': find_book_numb,\n",
        "               }"
      ]
    },
    {
      "cell_type": "markdown",
      "metadata": {
        "id": "agtZqIORpECj"
      },
      "source": [
        "- Теперь все 4 словаря собраны в одном, так мы их не потеряем и сможем быстро передавать в функции"
      ]
    },
    {
      "cell_type": "code",
      "execution_count": null,
      "metadata": {
        "colab": {
          "base_uri": "https://localhost:8080/"
        },
        "id": "C0gaq-SoobnU",
        "outputId": "bbeb2c7c-963b-46dd-9f38-74bb63a15b41"
      },
      "outputs": [
        {
          "name": "stdout",
          "output_type": "stream",
          "text": [
            "Пример поиска со словарем\n",
            "\n",
            "Индекс пользователя '300001020830': 12581\n",
            "Идентификатор пользователя с индексом 5: 100000681262\n"
          ]
        }
      ],
      "source": [
        "# Проверяем, как работают словари\n",
        "\n",
        "print(\"Пример поиска со словарем\\n\")\n",
        "print(\"Индекс пользователя '300001020830':\",\n",
        "      f\"{model_dicts['user_index']['300001020830']}\")\n",
        "\n",
        "print(\"Идентификатор пользователя с индексом 5:\",\n",
        "      f\"{model_dicts['user_chb'][5]}\")"
      ]
    },
    {
      "cell_type": "markdown",
      "metadata": {
        "id": "EdeW1IFgnGWo"
      },
      "source": [
        "#### Разделение на выборки"
      ]
    },
    {
      "cell_type": "markdown",
      "metadata": {
        "id": "3DPq2GZjr79D"
      },
      "source": [
        "- Для равномерного распределения пользователей по датасетам попробуем добавить параметр `stratify`"
      ]
    },
    {
      "cell_type": "code",
      "execution_count": null,
      "metadata": {
        "id": "hLBb6KL_8H8U"
      },
      "outputs": [],
      "source": [
        "# Предварительно удаляем дубликаты\n",
        "df_ML = transactions[['chb', 'sys_numb']].drop_duplicates()\n",
        "\n",
        "# Делим данные на тренировочный и тестовый наборы\n",
        "train_data, test_data = train_test_split(\n",
        "    df_ML,\n",
        "    test_size=0.3, \n",
        "    stratify=df_ML['chb'],\n",
        "    random_state=777)"
      ]
    },
    {
      "cell_type": "markdown",
      "metadata": {
        "id": "f5odsUUqpsPY"
      },
      "source": [
        "- Проверим количество пользователей в выборках"
      ]
    },
    {
      "cell_type": "code",
      "execution_count": null,
      "metadata": {
        "colab": {
          "base_uri": "https://localhost:8080/"
        },
        "id": "dSyFiABD8PQX",
        "outputId": "42204f4f-3717-40dc-fa2f-88b9912fcdaa"
      },
      "outputs": [
        {
          "name": "stdout",
          "output_type": "stream",
          "text": [
            "Кол-во уникальных пользователей: 16753\n",
            "Кол-во уникальных пользвоателей в выборке для обучения: 16753\n",
            "Кол-во уникальных пользвоателей в выборке для тестирования: 16753\n"
          ]
        }
      ],
      "source": [
        "print(f\"Кол-во уникальных пользователей: {len(df_ML['chb'].unique())}\")\n",
        "print(f\"Кол-во уникальных пользвоателей в выборке для обучения: {len(train_data['chb'].unique())}\")\n",
        "print(f\"Кол-во уникальных пользвоателей в выборке для тестирования: {len(test_data['chb'].unique())}\")"
      ]
    },
    {
      "cell_type": "markdown",
      "metadata": {
        "id": "iswA3JklqAs6"
      },
      "source": [
        "- Отлично! Такой вариант подойдет для первых экспериментов\n",
        "\n",
        "- Далее можно будет воспользоваться подходом \"leave-one-out\""
      ]
    },
    {
      "cell_type": "markdown",
      "metadata": {
        "id": "To_FpEmvB5GB"
      },
      "source": [
        "#### Sparse матрица (users, books)"
      ]
    },
    {
      "cell_type": "markdown",
      "metadata": {
        "id": "ZxowgKssraeM"
      },
      "source": [
        "- Попробуем добавить к матрицам параметр alpha"
      ]
    },
    {
      "cell_type": "code",
      "execution_count": null,
      "metadata": {
        "id": "sIioYN2Pnw1e"
      },
      "outputs": [],
      "source": [
        "# Создаем sparse матрицу для обучающей выборки\n",
        "train_data_sparse = df_to_sparse(train_data, \n",
        "                                 model_dicts['user_index'], \n",
        "                                 model_dicts['book_index'])\n",
        "# Добавляем alpha\n",
        "alpha = 40\n",
        "train_data_sparse = (train_data_sparse * alpha).astype('double')\n",
        "\n",
        "# Матрица для полного train датасета\n",
        "full_train_sparse = df_to_sparse(transactions,\n",
        "                                 model_dicts['user_index'], \n",
        "                                 model_dicts['book_index'])\n",
        "\n",
        "full_train_sparse_data = (full_train_sparse * alpha).astype('double')"
      ]
    },
    {
      "cell_type": "markdown",
      "metadata": {
        "id": "Wr5ukLLVT2dD"
      },
      "source": [
        "### (1.3) Обучаем модель"
      ]
    },
    {
      "cell_type": "code",
      "execution_count": null,
      "metadata": {
        "colab": {
          "base_uri": "https://localhost:8080/",
          "height": 49,
          "referenced_widgets": [
            "f82c6cf832fd4867a5190748802dc93b",
            "cf0951c032f9429e80d1a9f8fac0ed7f",
            "0baceff97d0f45a39478154e810c8f84",
            "5cc28866d010434fb91278b649beb8da",
            "d080614dd23e4c1898312fd88268aea8",
            "a0d777987d5144a1aeddd7cc7ee5dbd2",
            "82dba1b866814dc6bb1d565e434108f8",
            "17a57a8f17994ac08bb8204f8a447386",
            "c897cf257c704b7388f124b2b127ea70",
            "1eba7ea7312f40cc9c9025318b80855f",
            "c20dfc4dc1c34b4d88ec791d0a0f1c4b"
          ]
        },
        "id": "X62dRVnjo5RH",
        "outputId": "ef3e30f2-f027-4ee1-ea58-f0b8948cc9eb"
      },
      "outputs": [
        {
          "data": {
            "application/vnd.jupyter.widget-view+json": {
              "model_id": "f82c6cf832fd4867a5190748802dc93b",
              "version_major": 2,
              "version_minor": 0
            },
            "text/plain": [
              "  0%|          | 0/15 [00:00<?, ?it/s]"
            ]
          },
          "metadata": {},
          "output_type": "display_data"
        }
      ],
      "source": [
        "model = AlternatingLeastSquares(factors=200, random_state=1234)\n",
        "\n",
        "# Для кросс-валидации\n",
        "model.fit(train_data_sparse)\n",
        "\n",
        "# Полная обучающая выборка\n",
        "# model.fit(full_train_sparse_data)"
      ]
    },
    {
      "cell_type": "markdown",
      "metadata": {
        "id": "Me6qdQc-smgS"
      },
      "source": [
        "- Можно сохранить модель, чтобы сэкномить время и ресурсы"
      ]
    },
    {
      "cell_type": "code",
      "execution_count": null,
      "metadata": {
        "id": "hY_ZEBJpG3Do"
      },
      "outputs": [],
      "source": [
        "with open('als_model_alpha_40.pickle', 'wb') as fle:\n",
        "    pickle.dump(model, fle, protocol=pickle.HIGHEST_PROTOCOL)"
      ]
    },
    {
      "cell_type": "markdown",
      "metadata": {
        "id": "g5TqAsshTts8"
      },
      "source": [
        "### (1.4) Формируем рекомендации\n"
      ]
    },
    {
      "cell_type": "markdown",
      "metadata": {
        "id": "c6fINF4UHn2I"
      },
      "source": [
        "#### Базовый подход\n",
        "\n",
        "\n"
      ]
    },
    {
      "cell_type": "markdown",
      "metadata": {
        "id": "-G8XtehBVzBW"
      },
      "source": [
        "Еще раз протестируем подход к генерации рекомендаций, предложенный в Baseline решении конкурса."
      ]
    },
    {
      "cell_type": "code",
      "execution_count": null,
      "metadata": {
        "colab": {
          "base_uri": "https://localhost:8080/",
          "height": 989
        },
        "id": "qsjyPGJE9iqL",
        "outputId": "b8671948-0edd-4447-d605-950933fe0eac"
      },
      "outputs": [
        {
          "data": {
            "text/html": [
              "\n",
              "  <div id=\"df-6a0eb4f3-45ee-4145-bdc4-a0ff72fc30f0\">\n",
              "    <div class=\"colab-df-container\">\n",
              "      <div>\n",
              "<style scoped>\n",
              "    .dataframe tbody tr th:only-of-type {\n",
              "        vertical-align: middle;\n",
              "    }\n",
              "\n",
              "    .dataframe tbody tr th {\n",
              "        vertical-align: top;\n",
              "    }\n",
              "\n",
              "    .dataframe thead th {\n",
              "        text-align: right;\n",
              "    }\n",
              "</style>\n",
              "<table border=\"1\" class=\"dataframe\">\n",
              "  <thead>\n",
              "    <tr style=\"text-align: right;\">\n",
              "      <th></th>\n",
              "      <th>sys_numb</th>\n",
              "      <th>score</th>\n",
              "      <th>already_liked</th>\n",
              "    </tr>\n",
              "  </thead>\n",
              "  <tbody>\n",
              "    <tr>\n",
              "      <th>0</th>\n",
              "      <td>RSL01005451231</td>\n",
              "      <td>0.926025</td>\n",
              "      <td>True</td>\n",
              "    </tr>\n",
              "    <tr>\n",
              "      <th>1</th>\n",
              "      <td>RSL01008149020</td>\n",
              "      <td>0.840277</td>\n",
              "      <td>True</td>\n",
              "    </tr>\n",
              "    <tr>\n",
              "      <th>2</th>\n",
              "      <td>RSL07000377296</td>\n",
              "      <td>0.829643</td>\n",
              "      <td>True</td>\n",
              "    </tr>\n",
              "    <tr>\n",
              "      <th>3</th>\n",
              "      <td>RSL01004330579</td>\n",
              "      <td>0.807117</td>\n",
              "      <td>True</td>\n",
              "    </tr>\n",
              "    <tr>\n",
              "      <th>4</th>\n",
              "      <td>RSL01004381224</td>\n",
              "      <td>0.774433</td>\n",
              "      <td>True</td>\n",
              "    </tr>\n",
              "    <tr>\n",
              "      <th>5</th>\n",
              "      <td>RSL01002726050</td>\n",
              "      <td>0.754422</td>\n",
              "      <td>True</td>\n",
              "    </tr>\n",
              "    <tr>\n",
              "      <th>6</th>\n",
              "      <td>RSL01007498961</td>\n",
              "      <td>0.661444</td>\n",
              "      <td>True</td>\n",
              "    </tr>\n",
              "    <tr>\n",
              "      <th>7</th>\n",
              "      <td>RSL01003300384</td>\n",
              "      <td>0.661443</td>\n",
              "      <td>True</td>\n",
              "    </tr>\n",
              "    <tr>\n",
              "      <th>8</th>\n",
              "      <td>RSL01001653118</td>\n",
              "      <td>0.661443</td>\n",
              "      <td>True</td>\n",
              "    </tr>\n",
              "    <tr>\n",
              "      <th>9</th>\n",
              "      <td>RSL01002447381</td>\n",
              "      <td>0.661441</td>\n",
              "      <td>True</td>\n",
              "    </tr>\n",
              "    <tr>\n",
              "      <th>10</th>\n",
              "      <td>RSL07000374375</td>\n",
              "      <td>0.661441</td>\n",
              "      <td>True</td>\n",
              "    </tr>\n",
              "    <tr>\n",
              "      <th>11</th>\n",
              "      <td>RSL01001319731</td>\n",
              "      <td>0.661440</td>\n",
              "      <td>True</td>\n",
              "    </tr>\n",
              "    <tr>\n",
              "      <th>12</th>\n",
              "      <td>RSL01007576113</td>\n",
              "      <td>0.661440</td>\n",
              "      <td>True</td>\n",
              "    </tr>\n",
              "    <tr>\n",
              "      <th>13</th>\n",
              "      <td>RSL01000056367</td>\n",
              "      <td>0.661440</td>\n",
              "      <td>True</td>\n",
              "    </tr>\n",
              "    <tr>\n",
              "      <th>14</th>\n",
              "      <td>RSL07000380171</td>\n",
              "      <td>0.661439</td>\n",
              "      <td>True</td>\n",
              "    </tr>\n",
              "    <tr>\n",
              "      <th>15</th>\n",
              "      <td>RSL01009844332</td>\n",
              "      <td>0.661439</td>\n",
              "      <td>True</td>\n",
              "    </tr>\n",
              "    <tr>\n",
              "      <th>16</th>\n",
              "      <td>RSL01007212803</td>\n",
              "      <td>0.661439</td>\n",
              "      <td>True</td>\n",
              "    </tr>\n",
              "    <tr>\n",
              "      <th>17</th>\n",
              "      <td>RSL01000336647</td>\n",
              "      <td>0.661439</td>\n",
              "      <td>True</td>\n",
              "    </tr>\n",
              "    <tr>\n",
              "      <th>18</th>\n",
              "      <td>RSL01009772128</td>\n",
              "      <td>0.661438</td>\n",
              "      <td>True</td>\n",
              "    </tr>\n",
              "    <tr>\n",
              "      <th>19</th>\n",
              "      <td>RSL01005050776</td>\n",
              "      <td>0.661438</td>\n",
              "      <td>True</td>\n",
              "    </tr>\n",
              "    <tr>\n",
              "      <th>20</th>\n",
              "      <td>RSL01006728755</td>\n",
              "      <td>0.661438</td>\n",
              "      <td>True</td>\n",
              "    </tr>\n",
              "    <tr>\n",
              "      <th>21</th>\n",
              "      <td>RSL01006679462</td>\n",
              "      <td>0.661437</td>\n",
              "      <td>True</td>\n",
              "    </tr>\n",
              "    <tr>\n",
              "      <th>22</th>\n",
              "      <td>RSL01001066438</td>\n",
              "      <td>0.661436</td>\n",
              "      <td>True</td>\n",
              "    </tr>\n",
              "    <tr>\n",
              "      <th>23</th>\n",
              "      <td>RSL01007901287</td>\n",
              "      <td>0.661436</td>\n",
              "      <td>True</td>\n",
              "    </tr>\n",
              "    <tr>\n",
              "      <th>24</th>\n",
              "      <td>RSL01002978195</td>\n",
              "      <td>0.661436</td>\n",
              "      <td>True</td>\n",
              "    </tr>\n",
              "    <tr>\n",
              "      <th>25</th>\n",
              "      <td>RSL01008530444</td>\n",
              "      <td>0.661436</td>\n",
              "      <td>True</td>\n",
              "    </tr>\n",
              "    <tr>\n",
              "      <th>26</th>\n",
              "      <td>RSL01005555444</td>\n",
              "      <td>0.661434</td>\n",
              "      <td>True</td>\n",
              "    </tr>\n",
              "    <tr>\n",
              "      <th>27</th>\n",
              "      <td>RSL01004365713</td>\n",
              "      <td>0.661431</td>\n",
              "      <td>True</td>\n",
              "    </tr>\n",
              "    <tr>\n",
              "      <th>28</th>\n",
              "      <td>RSL01002588972</td>\n",
              "      <td>0.661431</td>\n",
              "      <td>True</td>\n",
              "    </tr>\n",
              "    <tr>\n",
              "      <th>29</th>\n",
              "      <td>RSL01008261117</td>\n",
              "      <td>0.586036</td>\n",
              "      <td>False</td>\n",
              "    </tr>\n",
              "  </tbody>\n",
              "</table>\n",
              "</div>\n",
              "      <button class=\"colab-df-convert\" onclick=\"convertToInteractive('df-6a0eb4f3-45ee-4145-bdc4-a0ff72fc30f0')\"\n",
              "              title=\"Convert this dataframe to an interactive table.\"\n",
              "              style=\"display:none;\">\n",
              "        \n",
              "  <svg xmlns=\"http://www.w3.org/2000/svg\" height=\"24px\"viewBox=\"0 0 24 24\"\n",
              "       width=\"24px\">\n",
              "    <path d=\"M0 0h24v24H0V0z\" fill=\"none\"/>\n",
              "    <path d=\"M18.56 5.44l.94 2.06.94-2.06 2.06-.94-2.06-.94-.94-2.06-.94 2.06-2.06.94zm-11 1L8.5 8.5l.94-2.06 2.06-.94-2.06-.94L8.5 2.5l-.94 2.06-2.06.94zm10 10l.94 2.06.94-2.06 2.06-.94-2.06-.94-.94-2.06-.94 2.06-2.06.94z\"/><path d=\"M17.41 7.96l-1.37-1.37c-.4-.4-.92-.59-1.43-.59-.52 0-1.04.2-1.43.59L10.3 9.45l-7.72 7.72c-.78.78-.78 2.05 0 2.83L4 21.41c.39.39.9.59 1.41.59.51 0 1.02-.2 1.41-.59l7.78-7.78 2.81-2.81c.8-.78.8-2.07 0-2.86zM5.41 20L4 18.59l7.72-7.72 1.47 1.35L5.41 20z\"/>\n",
              "  </svg>\n",
              "      </button>\n",
              "      \n",
              "  <style>\n",
              "    .colab-df-container {\n",
              "      display:flex;\n",
              "      flex-wrap:wrap;\n",
              "      gap: 12px;\n",
              "    }\n",
              "\n",
              "    .colab-df-convert {\n",
              "      background-color: #E8F0FE;\n",
              "      border: none;\n",
              "      border-radius: 50%;\n",
              "      cursor: pointer;\n",
              "      display: none;\n",
              "      fill: #1967D2;\n",
              "      height: 32px;\n",
              "      padding: 0 0 0 0;\n",
              "      width: 32px;\n",
              "    }\n",
              "\n",
              "    .colab-df-convert:hover {\n",
              "      background-color: #E2EBFA;\n",
              "      box-shadow: 0px 1px 2px rgba(60, 64, 67, 0.3), 0px 1px 3px 1px rgba(60, 64, 67, 0.15);\n",
              "      fill: #174EA6;\n",
              "    }\n",
              "\n",
              "    [theme=dark] .colab-df-convert {\n",
              "      background-color: #3B4455;\n",
              "      fill: #D2E3FC;\n",
              "    }\n",
              "\n",
              "    [theme=dark] .colab-df-convert:hover {\n",
              "      background-color: #434B5C;\n",
              "      box-shadow: 0px 1px 3px 1px rgba(0, 0, 0, 0.15);\n",
              "      filter: drop-shadow(0px 1px 2px rgba(0, 0, 0, 0.3));\n",
              "      fill: #FFFFFF;\n",
              "    }\n",
              "  </style>\n",
              "\n",
              "      <script>\n",
              "        const buttonEl =\n",
              "          document.querySelector('#df-6a0eb4f3-45ee-4145-bdc4-a0ff72fc30f0 button.colab-df-convert');\n",
              "        buttonEl.style.display =\n",
              "          google.colab.kernel.accessAllowed ? 'block' : 'none';\n",
              "\n",
              "        async function convertToInteractive(key) {\n",
              "          const element = document.querySelector('#df-6a0eb4f3-45ee-4145-bdc4-a0ff72fc30f0');\n",
              "          const dataTable =\n",
              "            await google.colab.kernel.invokeFunction('convertToInteractive',\n",
              "                                                     [key], {});\n",
              "          if (!dataTable) return;\n",
              "\n",
              "          const docLinkHtml = 'Like what you see? Visit the ' +\n",
              "            '<a target=\"_blank\" href=https://colab.research.google.com/notebooks/data_table.ipynb>data table notebook</a>'\n",
              "            + ' to learn more about interactive tables.';\n",
              "          element.innerHTML = '';\n",
              "          dataTable['output_type'] = 'display_data';\n",
              "          await google.colab.output.renderOutput(dataTable, element);\n",
              "          const docLink = document.createElement('div');\n",
              "          docLink.innerHTML = docLinkHtml;\n",
              "          element.appendChild(docLink);\n",
              "        }\n",
              "      </script>\n",
              "    </div>\n",
              "  </div>\n",
              "  "
            ],
            "text/plain": [
              "          sys_numb     score  already_liked\n",
              "0   RSL01005451231  0.926025           True\n",
              "1   RSL01008149020  0.840277           True\n",
              "2   RSL07000377296  0.829643           True\n",
              "3   RSL01004330579  0.807117           True\n",
              "4   RSL01004381224  0.774433           True\n",
              "5   RSL01002726050  0.754422           True\n",
              "6   RSL01007498961  0.661444           True\n",
              "7   RSL01003300384  0.661443           True\n",
              "8   RSL01001653118  0.661443           True\n",
              "9   RSL01002447381  0.661441           True\n",
              "10  RSL07000374375  0.661441           True\n",
              "11  RSL01001319731  0.661440           True\n",
              "12  RSL01007576113  0.661440           True\n",
              "13  RSL01000056367  0.661440           True\n",
              "14  RSL07000380171  0.661439           True\n",
              "15  RSL01009844332  0.661439           True\n",
              "16  RSL01007212803  0.661439           True\n",
              "17  RSL01000336647  0.661439           True\n",
              "18  RSL01009772128  0.661438           True\n",
              "19  RSL01005050776  0.661438           True\n",
              "20  RSL01006728755  0.661438           True\n",
              "21  RSL01006679462  0.661437           True\n",
              "22  RSL01001066438  0.661436           True\n",
              "23  RSL01007901287  0.661436           True\n",
              "24  RSL01002978195  0.661436           True\n",
              "25  RSL01008530444  0.661436           True\n",
              "26  RSL01005555444  0.661434           True\n",
              "27  RSL01004365713  0.661431           True\n",
              "28  RSL01002588972  0.661431           True\n",
              "29  RSL01008261117  0.586036          False"
            ]
          },
          "execution_count": 50,
          "metadata": {},
          "output_type": "execute_result"
        }
      ],
      "source": [
        "# Получим рекомендации для конкретного пользователя \n",
        "userid = 5000\n",
        "ids, scores = model.recommend(userid, train_data_sparse[userid], N=30, filter_already_liked_items=False)\n",
        "\n",
        "# Отобразим рекомендации в DataFrame\n",
        "top20recom_df = pd.DataFrame({\"sys_numb\": [find_book_numb[id] for id in ids],\n",
        "                              \"score\": scores, \n",
        "                              \"already_liked\": np.in1d(ids, train_data_sparse[userid].indices)})\n",
        "\n",
        "top20recom_df"
      ]
    },
    {
      "cell_type": "code",
      "execution_count": null,
      "metadata": {
        "id": "H49XugRXoZsm"
      },
      "outputs": [],
      "source": [
        "# Поиск рекомендаций для одного пользователя\n",
        "def get_recom(userid):\n",
        "  ids, scores = model.recommend(userid, train_data_sparse[userid], \n",
        "                                N=20, filter_already_liked_items=True) \n",
        "\n",
        "  top20recom_df = pd.DataFrame({\n",
        "      \"sys_numb\": [model_dicts['book_numb'][id] for id in ids], \n",
        "      \"score\": scores,\n",
        "      \"already_liked\": np.in1d(ids, train_data_sparse[userid].indices)})\n",
        "  \n",
        "  return top20recom_df['sys_numb'].values"
      ]
    },
    {
      "cell_type": "code",
      "execution_count": null,
      "metadata": {
        "id": "pIDlJb2joZsy"
      },
      "outputs": [],
      "source": [
        "# Подбор рекомендаций для всех пользователей \n",
        "\n",
        "def get_all_recommendations_baseline (user_item_sparse_data):\n",
        "  all_rec = []\n",
        "\n",
        "  for userid in tqdm(range(user_item_sparse_data.shape[0])):    \n",
        "    user_chb = model_dicts['user_chb'][userid]\n",
        "    user_rec = get_recom(userid)\n",
        "    for rec in user_rec:\n",
        "      all_rec.append([user_chb, rec])\n",
        "\n",
        "  return all_rec"
      ]
    },
    {
      "cell_type": "code",
      "execution_count": null,
      "metadata": {
        "colab": {
          "base_uri": "https://localhost:8080/",
          "height": 49,
          "referenced_widgets": [
            "deb8a2d8356341b199d4c1967e8af03b",
            "5601f36e7e8542caa51fda44b0a7fc63",
            "e9343511bf9e4c8ea263ac62303504df",
            "8f6a4138c2804e25b6eadb72e146ddbe",
            "55bf505ee5c14c5f943c6b11651a787d",
            "b68057870ad34349a4af8089ab92348a",
            "8aa314d7f58047f39d4cd177707a9b31",
            "7def86372d5142c587a88562785b2956",
            "c02c023473e0442e81a2848783a93f79",
            "c3e5df9bd3134b08816a1cd97cd126f7",
            "16f0d9d7f4c24030bace137e92e3d84a"
          ]
        },
        "id": "rrePTSNMWtwo",
        "outputId": "db3c2a6a-27a7-45ed-9001-e9c9c55a53a5"
      },
      "outputs": [
        {
          "data": {
            "application/vnd.jupyter.widget-view+json": {
              "model_id": "deb8a2d8356341b199d4c1967e8af03b",
              "version_major": 2,
              "version_minor": 0
            },
            "text/plain": [
              "  0%|          | 0/16753 [00:00<?, ?it/s]"
            ]
          },
          "metadata": {},
          "output_type": "display_data"
        }
      ],
      "source": [
        "# Генерируем рекомендации (базовая реализация)\n",
        "baseline_recommendations = pd.DataFrame(\n",
        "    get_all_recommendations_baseline(train_data_sparse),\n",
        "    columns=[\"chb\", \"sys_numb\"])"
      ]
    },
    {
      "cell_type": "markdown",
      "metadata": {
        "id": "xgVnbXMsW_wY"
      },
      "source": [
        "**Вывод**\n",
        "\n",
        "- На генерацию рекомендаций ушло ~8 минут!\n",
        "\n",
        "- Для полной обучающей выборки времени потребуется еще больше"
      ]
    },
    {
      "cell_type": "markdown",
      "metadata": {
        "id": "x2QsyDwJ3if_"
      },
      "source": [
        "#### Ускоряем генерацию рекомендаций"
      ]
    },
    {
      "cell_type": "markdown",
      "metadata": {
        "id": "z84lhTxN3tGD"
      },
      "source": [
        "1. Первая имплементация функции обучения работает очень медленно\n",
        "\n",
        "  - будем использовать встроенную функцию  `recommend` со списком пользователей\n",
        "  - для получения массива рекомендаций [user1_id, [item1_id, item2_id, ..]] \n",
        "\n",
        "2. Для оценки качества модели нам нужен список пар [user_id, item_id]. \n",
        "\n",
        "  - Переведем 2D-массив в 1D с помощью ravel (без циклов и создания копий)\n",
        "  - Добавим столбец с идентификаторами пользователей\n",
        "\n",
        "3. Раскодируем идентификаторы и сравним результат с набором предсказаний из исходной функции."
      ]
    },
    {
      "cell_type": "code",
      "execution_count": null,
      "metadata": {
        "id": "6M0e_WZGvv3d"
      },
      "outputs": [],
      "source": [
        "# Генерируем набор из ТОП-20 рекомендаций\n",
        "# для всех пользователей (на входе подаем список индексов)\n",
        "ids, scores = model.recommend(list(range(0, len(model_dicts['user_index']))), \n",
        "                              train_data_sparse, \n",
        "                              N=20, filter_already_liked_items=True)\n",
        "\n",
        "  "
      ]
    },
    {
      "cell_type": "markdown",
      "metadata": {
        "id": "fSppHCDcu9Gj"
      },
      "source": [
        "- Получили рекоменадации меньше чем за минуту, в 8-10 раз быстрее!"
      ]
    },
    {
      "cell_type": "code",
      "execution_count": null,
      "metadata": {
        "colab": {
          "base_uri": "https://localhost:8080/",
          "height": 143
        },
        "id": "AP_oP0ED1rFG",
        "outputId": "d8da31b1-7295-4dff-97d8-af9bef4f33c3"
      },
      "outputs": [
        {
          "data": {
            "text/html": [
              "\n",
              "  <div id=\"df-b6e16d9a-549e-4286-ad2d-b81460c6d8c1\">\n",
              "    <div class=\"colab-df-container\">\n",
              "      <div>\n",
              "<style scoped>\n",
              "    .dataframe tbody tr th:only-of-type {\n",
              "        vertical-align: middle;\n",
              "    }\n",
              "\n",
              "    .dataframe tbody tr th {\n",
              "        vertical-align: top;\n",
              "    }\n",
              "\n",
              "    .dataframe thead th {\n",
              "        text-align: right;\n",
              "    }\n",
              "</style>\n",
              "<table border=\"1\" class=\"dataframe\">\n",
              "  <thead>\n",
              "    <tr style=\"text-align: right;\">\n",
              "      <th></th>\n",
              "      <th>book_id</th>\n",
              "    </tr>\n",
              "  </thead>\n",
              "  <tbody>\n",
              "    <tr>\n",
              "      <th>0</th>\n",
              "      <td>7592</td>\n",
              "    </tr>\n",
              "    <tr>\n",
              "      <th>1</th>\n",
              "      <td>78088</td>\n",
              "    </tr>\n",
              "    <tr>\n",
              "      <th>2</th>\n",
              "      <td>383</td>\n",
              "    </tr>\n",
              "  </tbody>\n",
              "</table>\n",
              "</div>\n",
              "      <button class=\"colab-df-convert\" onclick=\"convertToInteractive('df-b6e16d9a-549e-4286-ad2d-b81460c6d8c1')\"\n",
              "              title=\"Convert this dataframe to an interactive table.\"\n",
              "              style=\"display:none;\">\n",
              "        \n",
              "  <svg xmlns=\"http://www.w3.org/2000/svg\" height=\"24px\"viewBox=\"0 0 24 24\"\n",
              "       width=\"24px\">\n",
              "    <path d=\"M0 0h24v24H0V0z\" fill=\"none\"/>\n",
              "    <path d=\"M18.56 5.44l.94 2.06.94-2.06 2.06-.94-2.06-.94-.94-2.06-.94 2.06-2.06.94zm-11 1L8.5 8.5l.94-2.06 2.06-.94-2.06-.94L8.5 2.5l-.94 2.06-2.06.94zm10 10l.94 2.06.94-2.06 2.06-.94-2.06-.94-.94-2.06-.94 2.06-2.06.94z\"/><path d=\"M17.41 7.96l-1.37-1.37c-.4-.4-.92-.59-1.43-.59-.52 0-1.04.2-1.43.59L10.3 9.45l-7.72 7.72c-.78.78-.78 2.05 0 2.83L4 21.41c.39.39.9.59 1.41.59.51 0 1.02-.2 1.41-.59l7.78-7.78 2.81-2.81c.8-.78.8-2.07 0-2.86zM5.41 20L4 18.59l7.72-7.72 1.47 1.35L5.41 20z\"/>\n",
              "  </svg>\n",
              "      </button>\n",
              "      \n",
              "  <style>\n",
              "    .colab-df-container {\n",
              "      display:flex;\n",
              "      flex-wrap:wrap;\n",
              "      gap: 12px;\n",
              "    }\n",
              "\n",
              "    .colab-df-convert {\n",
              "      background-color: #E8F0FE;\n",
              "      border: none;\n",
              "      border-radius: 50%;\n",
              "      cursor: pointer;\n",
              "      display: none;\n",
              "      fill: #1967D2;\n",
              "      height: 32px;\n",
              "      padding: 0 0 0 0;\n",
              "      width: 32px;\n",
              "    }\n",
              "\n",
              "    .colab-df-convert:hover {\n",
              "      background-color: #E2EBFA;\n",
              "      box-shadow: 0px 1px 2px rgba(60, 64, 67, 0.3), 0px 1px 3px 1px rgba(60, 64, 67, 0.15);\n",
              "      fill: #174EA6;\n",
              "    }\n",
              "\n",
              "    [theme=dark] .colab-df-convert {\n",
              "      background-color: #3B4455;\n",
              "      fill: #D2E3FC;\n",
              "    }\n",
              "\n",
              "    [theme=dark] .colab-df-convert:hover {\n",
              "      background-color: #434B5C;\n",
              "      box-shadow: 0px 1px 3px 1px rgba(0, 0, 0, 0.15);\n",
              "      filter: drop-shadow(0px 1px 2px rgba(0, 0, 0, 0.3));\n",
              "      fill: #FFFFFF;\n",
              "    }\n",
              "  </style>\n",
              "\n",
              "      <script>\n",
              "        const buttonEl =\n",
              "          document.querySelector('#df-b6e16d9a-549e-4286-ad2d-b81460c6d8c1 button.colab-df-convert');\n",
              "        buttonEl.style.display =\n",
              "          google.colab.kernel.accessAllowed ? 'block' : 'none';\n",
              "\n",
              "        async function convertToInteractive(key) {\n",
              "          const element = document.querySelector('#df-b6e16d9a-549e-4286-ad2d-b81460c6d8c1');\n",
              "          const dataTable =\n",
              "            await google.colab.kernel.invokeFunction('convertToInteractive',\n",
              "                                                     [key], {});\n",
              "          if (!dataTable) return;\n",
              "\n",
              "          const docLinkHtml = 'Like what you see? Visit the ' +\n",
              "            '<a target=\"_blank\" href=https://colab.research.google.com/notebooks/data_table.ipynb>data table notebook</a>'\n",
              "            + ' to learn more about interactive tables.';\n",
              "          element.innerHTML = '';\n",
              "          dataTable['output_type'] = 'display_data';\n",
              "          await google.colab.output.renderOutput(dataTable, element);\n",
              "          const docLink = document.createElement('div');\n",
              "          docLink.innerHTML = docLinkHtml;\n",
              "          element.appendChild(docLink);\n",
              "        }\n",
              "      </script>\n",
              "    </div>\n",
              "  </div>\n",
              "  "
            ],
            "text/plain": [
              "   book_id\n",
              "0     7592\n",
              "1    78088\n",
              "2      383"
            ]
          },
          "execution_count": 57,
          "metadata": {},
          "output_type": "execute_result"
        }
      ],
      "source": [
        "# Переводим 2D набор из рекомендованных книг в 1D список\n",
        "# Важен порядок - 20 книг для 1-го пользователя, 20 книг для 2-го пользователя и т.д.\n",
        "user_item_predictions = pd.DataFrame(ids.ravel(), columns=['book_id'])\n",
        "user_item_predictions.head(3)"
      ]
    },
    {
      "cell_type": "code",
      "execution_count": null,
      "metadata": {
        "colab": {
          "base_uri": "https://localhost:8080/",
          "height": 198
        },
        "id": "MF8IQLIGUL4Q",
        "outputId": "9950c137-7a8b-4283-8a96-80eaafcf3add"
      },
      "outputs": [
        {
          "name": "stdout",
          "output_type": "stream",
          "text": [
            "Уникальные индексы пользователей\n",
            "[    0     1     2 ... 16750 16751 16752]\n",
            "\n"
          ]
        },
        {
          "data": {
            "text/html": [
              "\n",
              "  <div id=\"df-a1e257fc-99e2-48eb-b476-d0d1f38d83ea\">\n",
              "    <div class=\"colab-df-container\">\n",
              "      <div>\n",
              "<style scoped>\n",
              "    .dataframe tbody tr th:only-of-type {\n",
              "        vertical-align: middle;\n",
              "    }\n",
              "\n",
              "    .dataframe tbody tr th {\n",
              "        vertical-align: top;\n",
              "    }\n",
              "\n",
              "    .dataframe thead th {\n",
              "        text-align: right;\n",
              "    }\n",
              "</style>\n",
              "<table border=\"1\" class=\"dataframe\">\n",
              "  <thead>\n",
              "    <tr style=\"text-align: right;\">\n",
              "      <th></th>\n",
              "      <th>book_id</th>\n",
              "      <th>user_id</th>\n",
              "    </tr>\n",
              "  </thead>\n",
              "  <tbody>\n",
              "    <tr>\n",
              "      <th>0</th>\n",
              "      <td>7592</td>\n",
              "      <td>0</td>\n",
              "    </tr>\n",
              "    <tr>\n",
              "      <th>1</th>\n",
              "      <td>78088</td>\n",
              "      <td>0</td>\n",
              "    </tr>\n",
              "    <tr>\n",
              "      <th>2</th>\n",
              "      <td>383</td>\n",
              "      <td>0</td>\n",
              "    </tr>\n",
              "  </tbody>\n",
              "</table>\n",
              "</div>\n",
              "      <button class=\"colab-df-convert\" onclick=\"convertToInteractive('df-a1e257fc-99e2-48eb-b476-d0d1f38d83ea')\"\n",
              "              title=\"Convert this dataframe to an interactive table.\"\n",
              "              style=\"display:none;\">\n",
              "        \n",
              "  <svg xmlns=\"http://www.w3.org/2000/svg\" height=\"24px\"viewBox=\"0 0 24 24\"\n",
              "       width=\"24px\">\n",
              "    <path d=\"M0 0h24v24H0V0z\" fill=\"none\"/>\n",
              "    <path d=\"M18.56 5.44l.94 2.06.94-2.06 2.06-.94-2.06-.94-.94-2.06-.94 2.06-2.06.94zm-11 1L8.5 8.5l.94-2.06 2.06-.94-2.06-.94L8.5 2.5l-.94 2.06-2.06.94zm10 10l.94 2.06.94-2.06 2.06-.94-2.06-.94-.94-2.06-.94 2.06-2.06.94z\"/><path d=\"M17.41 7.96l-1.37-1.37c-.4-.4-.92-.59-1.43-.59-.52 0-1.04.2-1.43.59L10.3 9.45l-7.72 7.72c-.78.78-.78 2.05 0 2.83L4 21.41c.39.39.9.59 1.41.59.51 0 1.02-.2 1.41-.59l7.78-7.78 2.81-2.81c.8-.78.8-2.07 0-2.86zM5.41 20L4 18.59l7.72-7.72 1.47 1.35L5.41 20z\"/>\n",
              "  </svg>\n",
              "      </button>\n",
              "      \n",
              "  <style>\n",
              "    .colab-df-container {\n",
              "      display:flex;\n",
              "      flex-wrap:wrap;\n",
              "      gap: 12px;\n",
              "    }\n",
              "\n",
              "    .colab-df-convert {\n",
              "      background-color: #E8F0FE;\n",
              "      border: none;\n",
              "      border-radius: 50%;\n",
              "      cursor: pointer;\n",
              "      display: none;\n",
              "      fill: #1967D2;\n",
              "      height: 32px;\n",
              "      padding: 0 0 0 0;\n",
              "      width: 32px;\n",
              "    }\n",
              "\n",
              "    .colab-df-convert:hover {\n",
              "      background-color: #E2EBFA;\n",
              "      box-shadow: 0px 1px 2px rgba(60, 64, 67, 0.3), 0px 1px 3px 1px rgba(60, 64, 67, 0.15);\n",
              "      fill: #174EA6;\n",
              "    }\n",
              "\n",
              "    [theme=dark] .colab-df-convert {\n",
              "      background-color: #3B4455;\n",
              "      fill: #D2E3FC;\n",
              "    }\n",
              "\n",
              "    [theme=dark] .colab-df-convert:hover {\n",
              "      background-color: #434B5C;\n",
              "      box-shadow: 0px 1px 3px 1px rgba(0, 0, 0, 0.15);\n",
              "      filter: drop-shadow(0px 1px 2px rgba(0, 0, 0, 0.3));\n",
              "      fill: #FFFFFF;\n",
              "    }\n",
              "  </style>\n",
              "\n",
              "      <script>\n",
              "        const buttonEl =\n",
              "          document.querySelector('#df-a1e257fc-99e2-48eb-b476-d0d1f38d83ea button.colab-df-convert');\n",
              "        buttonEl.style.display =\n",
              "          google.colab.kernel.accessAllowed ? 'block' : 'none';\n",
              "\n",
              "        async function convertToInteractive(key) {\n",
              "          const element = document.querySelector('#df-a1e257fc-99e2-48eb-b476-d0d1f38d83ea');\n",
              "          const dataTable =\n",
              "            await google.colab.kernel.invokeFunction('convertToInteractive',\n",
              "                                                     [key], {});\n",
              "          if (!dataTable) return;\n",
              "\n",
              "          const docLinkHtml = 'Like what you see? Visit the ' +\n",
              "            '<a target=\"_blank\" href=https://colab.research.google.com/notebooks/data_table.ipynb>data table notebook</a>'\n",
              "            + ' to learn more about interactive tables.';\n",
              "          element.innerHTML = '';\n",
              "          dataTable['output_type'] = 'display_data';\n",
              "          await google.colab.output.renderOutput(dataTable, element);\n",
              "          const docLink = document.createElement('div');\n",
              "          docLink.innerHTML = docLinkHtml;\n",
              "          element.appendChild(docLink);\n",
              "        }\n",
              "      </script>\n",
              "    </div>\n",
              "  </div>\n",
              "  "
            ],
            "text/plain": [
              "   book_id  user_id\n",
              "0     7592        0\n",
              "1    78088        0\n",
              "2      383        0"
            ]
          },
          "execution_count": 58,
          "metadata": {},
          "output_type": "execute_result"
        }
      ],
      "source": [
        "# Добавляем индексы пользователей (в порядке, заданном исходной матрицей user-book)\n",
        "# первые 20 книг - 0, следующие 20 книг - 1 и т.д.\n",
        "user_item_predictions['user_id'] = user_item_predictions.index  // 20\n",
        "\n",
        "print(\"Уникальные индексы пользователей\")\n",
        "print(user_item_predictions.user_id.unique())\n",
        "print()\n",
        "\n",
        "user_item_predictions.head(3)"
      ]
    },
    {
      "cell_type": "code",
      "execution_count": null,
      "metadata": {
        "id": "7YLOLEdSC0NV"
      },
      "outputs": [],
      "source": [
        "# Добавляем столбцы с исходными идентификаторами книг и пользователей \n",
        "# используем маппинг по индексам\n",
        "user_item_predictions['sys_numb'] = user_item_predictions['book_id'].map(model_dicts['book_numb'])\n",
        "user_item_predictions['chb'] = user_item_predictions['user_id'].map(model_dicts['user_chb'])"
      ]
    },
    {
      "cell_type": "markdown",
      "metadata": {
        "id": "IpRidTLHDUnl"
      },
      "source": [
        "- Прежде чем использовать новый вариант функции, убедимся, сравним результаты)"
      ]
    },
    {
      "cell_type": "code",
      "execution_count": null,
      "metadata": {
        "colab": {
          "base_uri": "https://localhost:8080/",
          "height": 423
        },
        "id": "wsxP6vahlhLj",
        "outputId": "f595a805-1ade-42a7-bea7-0cc0cfd976bd"
      },
      "outputs": [
        {
          "data": {
            "text/html": [
              "\n",
              "  <div id=\"df-26707f5d-023b-4adb-9377-f4446aa8bf28\">\n",
              "    <div class=\"colab-df-container\">\n",
              "      <div>\n",
              "<style scoped>\n",
              "    .dataframe tbody tr th:only-of-type {\n",
              "        vertical-align: middle;\n",
              "    }\n",
              "\n",
              "    .dataframe tbody tr th {\n",
              "        vertical-align: top;\n",
              "    }\n",
              "\n",
              "    .dataframe thead th {\n",
              "        text-align: right;\n",
              "    }\n",
              "</style>\n",
              "<table border=\"1\" class=\"dataframe\">\n",
              "  <thead>\n",
              "    <tr style=\"text-align: right;\">\n",
              "      <th></th>\n",
              "      <th>chb</th>\n",
              "      <th>sys_numb</th>\n",
              "      <th>chb</th>\n",
              "      <th>sys_numb</th>\n",
              "      <th>user_id</th>\n",
              "      <th>book_id</th>\n",
              "    </tr>\n",
              "  </thead>\n",
              "  <tbody>\n",
              "    <tr>\n",
              "      <th>0</th>\n",
              "      <td>100000641403</td>\n",
              "      <td>RSL01002840579</td>\n",
              "      <td>100000641403</td>\n",
              "      <td>RSL01002840579</td>\n",
              "      <td>0</td>\n",
              "      <td>7592</td>\n",
              "    </tr>\n",
              "    <tr>\n",
              "      <th>1</th>\n",
              "      <td>100000641403</td>\n",
              "      <td>RSL01007980442</td>\n",
              "      <td>100000641403</td>\n",
              "      <td>RSL01007980442</td>\n",
              "      <td>0</td>\n",
              "      <td>78088</td>\n",
              "    </tr>\n",
              "    <tr>\n",
              "      <th>2</th>\n",
              "      <td>100000641403</td>\n",
              "      <td>RSL01001848685</td>\n",
              "      <td>100000641403</td>\n",
              "      <td>RSL01001848685</td>\n",
              "      <td>0</td>\n",
              "      <td>383</td>\n",
              "    </tr>\n",
              "    <tr>\n",
              "      <th>3</th>\n",
              "      <td>100000641403</td>\n",
              "      <td>RSL07000445436</td>\n",
              "      <td>100000641403</td>\n",
              "      <td>RSL07000445436</td>\n",
              "      <td>0</td>\n",
              "      <td>7433</td>\n",
              "    </tr>\n",
              "    <tr>\n",
              "      <th>4</th>\n",
              "      <td>100000641403</td>\n",
              "      <td>RSL01002805785</td>\n",
              "      <td>100000641403</td>\n",
              "      <td>RSL01002805785</td>\n",
              "      <td>0</td>\n",
              "      <td>195640</td>\n",
              "    </tr>\n",
              "    <tr>\n",
              "      <th>...</th>\n",
              "      <td>...</td>\n",
              "      <td>...</td>\n",
              "      <td>...</td>\n",
              "      <td>...</td>\n",
              "      <td>...</td>\n",
              "      <td>...</td>\n",
              "    </tr>\n",
              "    <tr>\n",
              "      <th>335055</th>\n",
              "      <td>400001035059</td>\n",
              "      <td>RSL01010152161</td>\n",
              "      <td>400001035059</td>\n",
              "      <td>RSL01010152161</td>\n",
              "      <td>16752</td>\n",
              "      <td>238294</td>\n",
              "    </tr>\n",
              "    <tr>\n",
              "      <th>335056</th>\n",
              "      <td>400001035059</td>\n",
              "      <td>RSL01007980442</td>\n",
              "      <td>400001035059</td>\n",
              "      <td>RSL01007980442</td>\n",
              "      <td>16752</td>\n",
              "      <td>78088</td>\n",
              "    </tr>\n",
              "    <tr>\n",
              "      <th>335057</th>\n",
              "      <td>400001035059</td>\n",
              "      <td>RSL01003016669</td>\n",
              "      <td>400001035059</td>\n",
              "      <td>RSL01003016669</td>\n",
              "      <td>16752</td>\n",
              "      <td>15056</td>\n",
              "    </tr>\n",
              "    <tr>\n",
              "      <th>335058</th>\n",
              "      <td>400001035059</td>\n",
              "      <td>RSL01000911620</td>\n",
              "      <td>400001035059</td>\n",
              "      <td>RSL01000911620</td>\n",
              "      <td>16752</td>\n",
              "      <td>114828</td>\n",
              "    </tr>\n",
              "    <tr>\n",
              "      <th>335059</th>\n",
              "      <td>400001035059</td>\n",
              "      <td>RSL01004420677</td>\n",
              "      <td>400001035059</td>\n",
              "      <td>RSL01004420677</td>\n",
              "      <td>16752</td>\n",
              "      <td>303755</td>\n",
              "    </tr>\n",
              "  </tbody>\n",
              "</table>\n",
              "<p>335060 rows × 6 columns</p>\n",
              "</div>\n",
              "      <button class=\"colab-df-convert\" onclick=\"convertToInteractive('df-26707f5d-023b-4adb-9377-f4446aa8bf28')\"\n",
              "              title=\"Convert this dataframe to an interactive table.\"\n",
              "              style=\"display:none;\">\n",
              "        \n",
              "  <svg xmlns=\"http://www.w3.org/2000/svg\" height=\"24px\"viewBox=\"0 0 24 24\"\n",
              "       width=\"24px\">\n",
              "    <path d=\"M0 0h24v24H0V0z\" fill=\"none\"/>\n",
              "    <path d=\"M18.56 5.44l.94 2.06.94-2.06 2.06-.94-2.06-.94-.94-2.06-.94 2.06-2.06.94zm-11 1L8.5 8.5l.94-2.06 2.06-.94-2.06-.94L8.5 2.5l-.94 2.06-2.06.94zm10 10l.94 2.06.94-2.06 2.06-.94-2.06-.94-.94-2.06-.94 2.06-2.06.94z\"/><path d=\"M17.41 7.96l-1.37-1.37c-.4-.4-.92-.59-1.43-.59-.52 0-1.04.2-1.43.59L10.3 9.45l-7.72 7.72c-.78.78-.78 2.05 0 2.83L4 21.41c.39.39.9.59 1.41.59.51 0 1.02-.2 1.41-.59l7.78-7.78 2.81-2.81c.8-.78.8-2.07 0-2.86zM5.41 20L4 18.59l7.72-7.72 1.47 1.35L5.41 20z\"/>\n",
              "  </svg>\n",
              "      </button>\n",
              "      \n",
              "  <style>\n",
              "    .colab-df-container {\n",
              "      display:flex;\n",
              "      flex-wrap:wrap;\n",
              "      gap: 12px;\n",
              "    }\n",
              "\n",
              "    .colab-df-convert {\n",
              "      background-color: #E8F0FE;\n",
              "      border: none;\n",
              "      border-radius: 50%;\n",
              "      cursor: pointer;\n",
              "      display: none;\n",
              "      fill: #1967D2;\n",
              "      height: 32px;\n",
              "      padding: 0 0 0 0;\n",
              "      width: 32px;\n",
              "    }\n",
              "\n",
              "    .colab-df-convert:hover {\n",
              "      background-color: #E2EBFA;\n",
              "      box-shadow: 0px 1px 2px rgba(60, 64, 67, 0.3), 0px 1px 3px 1px rgba(60, 64, 67, 0.15);\n",
              "      fill: #174EA6;\n",
              "    }\n",
              "\n",
              "    [theme=dark] .colab-df-convert {\n",
              "      background-color: #3B4455;\n",
              "      fill: #D2E3FC;\n",
              "    }\n",
              "\n",
              "    [theme=dark] .colab-df-convert:hover {\n",
              "      background-color: #434B5C;\n",
              "      box-shadow: 0px 1px 3px 1px rgba(0, 0, 0, 0.15);\n",
              "      filter: drop-shadow(0px 1px 2px rgba(0, 0, 0, 0.3));\n",
              "      fill: #FFFFFF;\n",
              "    }\n",
              "  </style>\n",
              "\n",
              "      <script>\n",
              "        const buttonEl =\n",
              "          document.querySelector('#df-26707f5d-023b-4adb-9377-f4446aa8bf28 button.colab-df-convert');\n",
              "        buttonEl.style.display =\n",
              "          google.colab.kernel.accessAllowed ? 'block' : 'none';\n",
              "\n",
              "        async function convertToInteractive(key) {\n",
              "          const element = document.querySelector('#df-26707f5d-023b-4adb-9377-f4446aa8bf28');\n",
              "          const dataTable =\n",
              "            await google.colab.kernel.invokeFunction('convertToInteractive',\n",
              "                                                     [key], {});\n",
              "          if (!dataTable) return;\n",
              "\n",
              "          const docLinkHtml = 'Like what you see? Visit the ' +\n",
              "            '<a target=\"_blank\" href=https://colab.research.google.com/notebooks/data_table.ipynb>data table notebook</a>'\n",
              "            + ' to learn more about interactive tables.';\n",
              "          element.innerHTML = '';\n",
              "          dataTable['output_type'] = 'display_data';\n",
              "          await google.colab.output.renderOutput(dataTable, element);\n",
              "          const docLink = document.createElement('div');\n",
              "          docLink.innerHTML = docLinkHtml;\n",
              "          element.appendChild(docLink);\n",
              "        }\n",
              "      </script>\n",
              "    </div>\n",
              "  </div>\n",
              "  "
            ],
            "text/plain": [
              "                 chb        sys_numb           chb        sys_numb  user_id  \\\n",
              "0       100000641403  RSL01002840579  100000641403  RSL01002840579        0   \n",
              "1       100000641403  RSL01007980442  100000641403  RSL01007980442        0   \n",
              "2       100000641403  RSL01001848685  100000641403  RSL01001848685        0   \n",
              "3       100000641403  RSL07000445436  100000641403  RSL07000445436        0   \n",
              "4       100000641403  RSL01002805785  100000641403  RSL01002805785        0   \n",
              "...              ...             ...           ...             ...      ...   \n",
              "335055  400001035059  RSL01010152161  400001035059  RSL01010152161    16752   \n",
              "335056  400001035059  RSL01007980442  400001035059  RSL01007980442    16752   \n",
              "335057  400001035059  RSL01003016669  400001035059  RSL01003016669    16752   \n",
              "335058  400001035059  RSL01000911620  400001035059  RSL01000911620    16752   \n",
              "335059  400001035059  RSL01004420677  400001035059  RSL01004420677    16752   \n",
              "\n",
              "        book_id  \n",
              "0          7592  \n",
              "1         78088  \n",
              "2           383  \n",
              "3          7433  \n",
              "4        195640  \n",
              "...         ...  \n",
              "335055   238294  \n",
              "335056    78088  \n",
              "335057    15056  \n",
              "335058   114828  \n",
              "335059   303755  \n",
              "\n",
              "[335060 rows x 6 columns]"
            ]
          },
          "execution_count": 86,
          "metadata": {},
          "output_type": "execute_result"
        }
      ],
      "source": [
        "# Объединяем результаты обеих функций\n",
        "pd.concat([\n",
        "    baseline_recommendations, \n",
        "    user_item_predictions[['chb', 'sys_numb', 'user_id', 'book_id']]\n",
        "], axis=1)\n"
      ]
    },
    {
      "cell_type": "markdown",
      "metadata": {
        "id": "DwGxhLm8EOwB"
      },
      "source": [
        "### (1.5) Оценка качества и сохранение результатов"
      ]
    },
    {
      "cell_type": "code",
      "execution_count": null,
      "metadata": {
        "colab": {
          "base_uri": "https://localhost:8080/"
        },
        "id": "ighjaDXHEZN1",
        "outputId": "bea20e63-fa43-47cf-d9e5-b180567eb0cd"
      },
      "outputs": [
        {
          "name": "stdout",
          "output_type": "stream",
          "text": [
            "Угаданных книг: 597\n",
            "Recall: 0.00869\n",
            "Precision: 0.00178\n",
            "F1-score: 0.00296\n"
          ]
        }
      ],
      "source": [
        "# Считаем метрики (f1-score, precision и recall)\n",
        "_ = contest_metric(baseline_recommendations, test_data)"
      ]
    },
    {
      "cell_type": "code",
      "execution_count": null,
      "metadata": {
        "colab": {
          "base_uri": "https://localhost:8080/"
        },
        "id": "MrQNq8mBtRyQ",
        "outputId": "bb34e898-d0ca-4734-a2c6-c57297728393"
      },
      "outputs": [
        {
          "data": {
            "text/plain": [
              "335060"
            ]
          },
          "execution_count": 90,
          "metadata": {},
          "output_type": "execute_result"
        }
      ],
      "source": [
        "# Датафрейм с рекомендациями\n",
        "solution = user_item_predictions[['chb', 'sys_numb']]\n",
        "len(solution)"
      ]
    },
    {
      "cell_type": "code",
      "execution_count": null,
      "metadata": {
        "id": "5wgnbzQs-4LH"
      },
      "outputs": [],
      "source": [
        "# Сохраняем предсказания в csv файл\n",
        "solution.to_csv(\"recs_train_als_alpha_40.csv\", index=False, sep=';')\n",
        "\n",
        "\"\"\"\n",
        "# Загружаем результаты\n",
        "user_item_predictions = pd.read_csv(\n",
        "    \"recs_train_als_alpha_40.csv\", sep=';',\n",
        "    dtype={'chb':str, 'sys_numb':str}\n",
        ")\n",
        "\"\"\""
      ]
    },
    {
      "cell_type": "markdown",
      "metadata": {
        "id": "JJqH07YR_2Ta"
      },
      "source": [
        "**Вывод**\n",
        "\n",
        "- На тесте платформы мы получили более высокий результат f1-score = 0.00558\n",
        "\n",
        "- Сохранили результат предсказаний для новых экспериментов (с текущими параметрами модели) "
      ]
    },
    {
      "cell_type": "markdown",
      "metadata": {
        "id": "N36hCqlUBb97"
      },
      "source": [
        "### => Набор новых функций <=\n"
      ]
    },
    {
      "cell_type": "markdown",
      "metadata": {
        "id": "qW516uRAFTNG"
      },
      "source": [
        "Запишем все шаги, которые мы протестировали, в итоговый набор функций для дальнейших экспериментов."
      ]
    },
    {
      "cell_type": "code",
      "execution_count": null,
      "metadata": {
        "id": "D5OFhfIMDY9y"
      },
      "outputs": [],
      "source": [
        "##############################################################################\n",
        "# Функции для работы с библиотекой Implicit и методами Colloborative Filtering\n",
        "##############################################################################\n",
        "\n",
        "def matrix_recs_to_pairs(recs_matrix_df, \n",
        "                         user_col_name, item_col_name):\n",
        "  \"\"\"\n",
        "  Переводит матрицу рекомендаций в датафрейм с парами user-item\n",
        "  \n",
        "  \n",
        "  Параметры:\n",
        "  --------\n",
        "  recs_matrix_df - каждая строка [u]- список рекомендованных \n",
        "                   items для пользователя [u]  \n",
        "  user_col_name - название столбца для user\n",
        "  item_col_name - название столбца для item\n",
        "\n",
        "  Возвращает датафрейм с двумя столбцами.\n",
        "  \"\"\"\n",
        "  # Переводим 2D набор items в 1D список\n",
        "  pairs_df= pd.DataFrame(recs_matrix_df.values.ravel(), \n",
        "                         columns=[item_col_name])\n",
        "  \n",
        "  # Количество столбцов = количество рекомендаций\n",
        "  top_n = recs_matrix_df.shape[1]\n",
        "\n",
        "  # Добавляем индексы пользователей по порядку\n",
        "  # одинаковый индекс для каждых top_n строк\n",
        "  pairs_df[user_col_name] = pairs_df.index  // top_n\n",
        "\n",
        "  \n",
        "  # Маппинг индексов в имена пользователей\n",
        "  # используем матрицу рекомендаций \n",
        "  pairs_df[user_col_name] = pairs_df[user_col_name].map(\n",
        "      (recs_matrix_df.reset_index()\n",
        "       .rename(columns={'index':user_col_name})[user_col_name].to_dict())\n",
        "  )\n",
        "\n",
        "  return pairs_df\n",
        "\n",
        "\n",
        "def recs_stratified_split(df, user_col, test_size, random_state=777):\n",
        "  \"\"\"\n",
        "  Возвращает train и test, разделенные по полю user_col\n",
        "  \"\"\"\n",
        "\n",
        "  # Делим данные на тренировочный и тестовый наборы\n",
        "  train, test = train_test_split(df, \n",
        "                                 test_size=test_size,\n",
        "                                 stratify=df[user_col],\n",
        "                                 random_state=random_state)\n",
        "  return train, test\n",
        "\n",
        "def get_model_scores(df_solution, df_test):\n",
        "\n",
        "  \"\"\"Возвращает список метрик - Recall, Precision и F1-score \"\"\"\n",
        "\n",
        "  pred = set(df_solution['chb'] + '_' + df_solution['sys_numb'].values)\n",
        "  true = set(df_test['chb'] + '_' + df_test['sys_numb'].values)\n",
        "\n",
        "  recall = len(pred.intersection(true)) / len(true)\n",
        "  precision = len(pred.intersection(true)) / (20 * len(df_test['chb'].unique()))\n",
        "  \n",
        "  f1_score = 2 * (precision * recall) / (precision + recall)\n",
        "  \n",
        "  return [round(recall, 5), round(precision,5), round(f1_score, 5)]\n",
        "\n",
        "\n",
        "def get_item_recommendations(implicit_model, \n",
        "                             user_name_dict, item_name_dict,                               \n",
        "                             user_item_matrix,\n",
        "                             user_col='user', item_col='item',                            \n",
        "                             top_n=20):  \n",
        "  \"\"\"\n",
        "  Возвращает ТОП-N рекомендаций, используя обученную модель implicit\n",
        "  \"\"\"\n",
        "  \n",
        "  # Список идентификаторов всех пользователей\n",
        "  # в user_item_matrix\n",
        "  # предполагается, что это тот же набор, на котором обучалась модель\n",
        "  user_ids_list = list(range(0, user_item_matrix.shape[0]))\n",
        " \n",
        "  # Получаем набор рекомендаций для пользователей в user_ids_list\n",
        "  # Пары (user-item = 1) из матрицы user_item_matrix исключаются\n",
        "  ids, scores = implicit_model.recommend(user_ids_list, \n",
        "                                         user_item_matrix, N=top_n, \n",
        "                                         filter_already_liked_items=True)\n",
        "\n",
        "  # Переводим 2D набор items в 1D список\n",
        "  recommendations = pd.DataFrame(ids.ravel(), columns=['item_id'])\n",
        "\n",
        "  # Добавляем индексы пользователей по порядку\n",
        "  # одинаковый индекс для каждых top_n строк\n",
        "  recommendations['user_id'] = recommendations.index  // top_n\n",
        "\n",
        "  # Выполняем обратное кодирование user_id -> user, book_id -> book\n",
        "  # Сохраняем в отдельных столбцах\n",
        "  recommendations[user_col] = recommendations['user_id'].map(user_name_dict)\n",
        "  recommendations[item_col] = recommendations['item_id'].map(item_name_dict)\n",
        "  \n",
        "\n",
        "  return recommendations\n",
        "\n",
        "##############################################################################\n",
        "# Функции для моделирования\n",
        "##############################################################################\n",
        "\n",
        "def als_model_experiment(data, \n",
        "                         mapping_dicts,\n",
        "                         test_size=0.2, \n",
        "                         alpha_value=40, factors_count=200, top_n=10):\n",
        "  \n",
        "  \"\"\"\n",
        "  Обучает ALS модель на датасете data (с разбиением выборок)  \n",
        "\n",
        "  Возвращает ТОП-20 рекомендаций и результаты на тесте\n",
        "  \"\"\"\n",
        "\n",
        "  # Разделяем выборки \n",
        "  train, test = recs_stratified_split(data, 'chb',test_size)\n",
        "  \n",
        "  # Создаем sparse матрицу для обучающей выборки\n",
        "  train_sparse_matrix = df_to_sparse(train, \n",
        "                                     mapping_dicts['user_index'],\n",
        "                                     mapping_dicts['book_index'])\n",
        "  \n",
        "  # Умножаем матрицу на alpha_value\n",
        "  train_sparse_matrix = (train_sparse_matrix * alpha_value).astype('double')\n",
        "\n",
        "  # Обучаем модель\n",
        "  als_model = AlternatingLeastSquares(factors_count, random_state=1234)\n",
        "  als_model.fit(train_sparse_matrix)\n",
        "  \n",
        "  # Генерируем рекомендации с помощью модели\n",
        "  # Получаем набор пар {user-chb, book-sys_numb}\n",
        "  predicted_books = get_item_recommendations(als_model, \n",
        "                                             mapping_dicts['user_chb'],\n",
        "                                             mapping_dicts['book_numb'],                                              \n",
        "                                             train_sparse_matrix,\n",
        "                                             'chb', 'sys_numb',\n",
        "                                             top_n=top_n)      \n",
        "                                             \n",
        "  # Считаем качество модели\n",
        "  # и выводим результат\n",
        "  contest_metric(predicted_books, test)\n",
        "\n",
        "  return predicted_books, get_model_scores(predicted_books, test), test \n",
        "\n",
        "\n",
        "def get_als_recommendations(data, \n",
        "                            mapping_dicts, \n",
        "                            alpha_value=40, factors_count=200, top_n=20):  \n",
        "  \"\"\"\n",
        "  Обучает ALS модель на датасете data \n",
        "\n",
        "  Возвращает ТОП-20 рекомендаций\n",
        "  \"\"\"\n",
        "\n",
        "\n",
        "  # Создаем sparse матрицу для обучения\n",
        "  train_sparse_matrix = df_to_sparse(data, \n",
        "                                     mapping_dicts['user_index'],\n",
        "                                     mapping_dicts['book_index'])\n",
        "  \n",
        "  # Умножаем матрицу на alpha_value\n",
        "  train_sparse_matrix = (train_sparse_matrix * alpha_value).astype('double')\n",
        "\n",
        "  # Обучаем модель\n",
        "  als_model = AlternatingLeastSquares(factors_count, random_state=1234)\n",
        "  als_model.fit(train_sparse_matrix)\n",
        "  \n",
        "  # Генерируем рекомендации с помощью модели\n",
        "  # Получаем набор пар {user-chb, book-sys_numb}\n",
        "  predicted_books = get_item_recommendations(als_model, \n",
        "                                             mapping_dicts['user_chb'],\n",
        "                                             mapping_dicts['book_numb'],                                              \n",
        "                                             train_sparse_matrix,\n",
        "                                             'chb', 'sys_numb', top_n=top_n)    \n",
        "\n",
        "  return predicted_books         "
      ]
    },
    {
      "cell_type": "markdown",
      "metadata": {
        "id": "_vIcTR13CIRr"
      },
      "source": [
        "- Проверим работу функции для экспериментов с ALS моделью"
      ]
    },
    {
      "cell_type": "code",
      "execution_count": null,
      "metadata": {
        "colab": {
          "base_uri": "https://localhost:8080/",
          "height": 122,
          "referenced_widgets": [
            "7fe4fe3d6b8149f682fb28a5004cbe03",
            "847e7618ea464c408d6a1f80668a5154",
            "a8ef31556d2941ce9ff5427549b19d9d",
            "4c8d39ba2d73467c94f5a6e42c2c4c08",
            "edbee233444b462fbdb5542f68ba0c25",
            "1b257741746e43659245f0f4cf8260fa",
            "b9dab626f4744fd9a8076df20c4d7429",
            "79d80ab82ab140359441412cfad9236a",
            "9762ab9787ef42f4941fc62f02205855",
            "d1dd7be21e124616b3123564c1b4dc94",
            "75052fc3f9d44e75b57d5abdb0a8cc9d"
          ]
        },
        "id": "p7ksbZpNCHMi",
        "outputId": "dba5506e-e79d-4161-cff9-3ee525ed7c09"
      },
      "outputs": [
        {
          "output_type": "display_data",
          "data": {
            "text/plain": [
              "  0%|          | 0/15 [00:00<?, ?it/s]"
            ],
            "application/vnd.jupyter.widget-view+json": {
              "version_major": 2,
              "version_minor": 0,
              "model_id": "7fe4fe3d6b8149f682fb28a5004cbe03"
            }
          },
          "metadata": {}
        },
        {
          "output_type": "stream",
          "name": "stdout",
          "text": [
            "Угаданных книг: 467\n",
            "Recall: 0.0102\n",
            "Precision: 0.00162\n",
            "F1-score: 0.00279\n"
          ]
        }
      ],
      "source": [
        "# Обучаем ALS-модель с подобранными параметрами \n",
        "all_users_predictions, results, _ = als_model_experiment(\n",
        "    transactions[['chb', 'sys_numb']].drop_duplicates(), \n",
        "    model_dicts, top_n=20\n",
        ")"
      ]
    },
    {
      "cell_type": "markdown",
      "metadata": {
        "id": "VnAv239S2byQ"
      },
      "source": [
        "- Метрика ниже, но это потому, что мы добавили новую функцию для разделения выборок\n",
        "\n",
        "- В каждом датасете одинаковое количество пользователей (параметр `stratify`)"
      ]
    },
    {
      "cell_type": "code",
      "execution_count": null,
      "metadata": {
        "id": "CgE9av1Q3N4d"
      },
      "outputs": [],
      "source": [
        "# Сохраняем метрики на кросс-валидации\n",
        "results_df = pd.DataFrame(index=['Recall', 'Precision', 'F1-score'])\n",
        "results_df['als_tuned'] = results"
      ]
    },
    {
      "cell_type": "markdown",
      "metadata": {
        "id": "_BIOObLJKdrk"
      },
      "source": [
        "**Вывод**\n",
        "\n",
        "- Получили хороший набор функций для будущего **класса**!\n",
        "\n"
      ]
    },
    {
      "cell_type": "markdown",
      "metadata": {
        "id": "MkhqQFKoGs_R"
      },
      "source": [
        "### (1.6) Общий вывод\n"
      ]
    },
    {
      "cell_type": "code",
      "execution_count": null,
      "metadata": {
        "id": "eIjP_eRg382P",
        "colab": {
          "base_uri": "https://localhost:8080/",
          "height": 143
        },
        "outputId": "9714ed9c-bac4-40b5-be62-543946a66841"
      },
      "outputs": [
        {
          "output_type": "execute_result",
          "data": {
            "text/plain": [
              "           als_tuned\n",
              "Recall       0.01020\n",
              "Precision    0.00162\n",
              "F1-score     0.00279"
            ],
            "text/html": [
              "\n",
              "  <div id=\"df-67e7a0d9-454b-4ddb-ae3e-ddfa0d846963\">\n",
              "    <div class=\"colab-df-container\">\n",
              "      <div>\n",
              "<style scoped>\n",
              "    .dataframe tbody tr th:only-of-type {\n",
              "        vertical-align: middle;\n",
              "    }\n",
              "\n",
              "    .dataframe tbody tr th {\n",
              "        vertical-align: top;\n",
              "    }\n",
              "\n",
              "    .dataframe thead th {\n",
              "        text-align: right;\n",
              "    }\n",
              "</style>\n",
              "<table border=\"1\" class=\"dataframe\">\n",
              "  <thead>\n",
              "    <tr style=\"text-align: right;\">\n",
              "      <th></th>\n",
              "      <th>als_tuned</th>\n",
              "    </tr>\n",
              "  </thead>\n",
              "  <tbody>\n",
              "    <tr>\n",
              "      <th>Recall</th>\n",
              "      <td>0.01020</td>\n",
              "    </tr>\n",
              "    <tr>\n",
              "      <th>Precision</th>\n",
              "      <td>0.00162</td>\n",
              "    </tr>\n",
              "    <tr>\n",
              "      <th>F1-score</th>\n",
              "      <td>0.00279</td>\n",
              "    </tr>\n",
              "  </tbody>\n",
              "</table>\n",
              "</div>\n",
              "      <button class=\"colab-df-convert\" onclick=\"convertToInteractive('df-67e7a0d9-454b-4ddb-ae3e-ddfa0d846963')\"\n",
              "              title=\"Convert this dataframe to an interactive table.\"\n",
              "              style=\"display:none;\">\n",
              "        \n",
              "  <svg xmlns=\"http://www.w3.org/2000/svg\" height=\"24px\"viewBox=\"0 0 24 24\"\n",
              "       width=\"24px\">\n",
              "    <path d=\"M0 0h24v24H0V0z\" fill=\"none\"/>\n",
              "    <path d=\"M18.56 5.44l.94 2.06.94-2.06 2.06-.94-2.06-.94-.94-2.06-.94 2.06-2.06.94zm-11 1L8.5 8.5l.94-2.06 2.06-.94-2.06-.94L8.5 2.5l-.94 2.06-2.06.94zm10 10l.94 2.06.94-2.06 2.06-.94-2.06-.94-.94-2.06-.94 2.06-2.06.94z\"/><path d=\"M17.41 7.96l-1.37-1.37c-.4-.4-.92-.59-1.43-.59-.52 0-1.04.2-1.43.59L10.3 9.45l-7.72 7.72c-.78.78-.78 2.05 0 2.83L4 21.41c.39.39.9.59 1.41.59.51 0 1.02-.2 1.41-.59l7.78-7.78 2.81-2.81c.8-.78.8-2.07 0-2.86zM5.41 20L4 18.59l7.72-7.72 1.47 1.35L5.41 20z\"/>\n",
              "  </svg>\n",
              "      </button>\n",
              "      \n",
              "  <style>\n",
              "    .colab-df-container {\n",
              "      display:flex;\n",
              "      flex-wrap:wrap;\n",
              "      gap: 12px;\n",
              "    }\n",
              "\n",
              "    .colab-df-convert {\n",
              "      background-color: #E8F0FE;\n",
              "      border: none;\n",
              "      border-radius: 50%;\n",
              "      cursor: pointer;\n",
              "      display: none;\n",
              "      fill: #1967D2;\n",
              "      height: 32px;\n",
              "      padding: 0 0 0 0;\n",
              "      width: 32px;\n",
              "    }\n",
              "\n",
              "    .colab-df-convert:hover {\n",
              "      background-color: #E2EBFA;\n",
              "      box-shadow: 0px 1px 2px rgba(60, 64, 67, 0.3), 0px 1px 3px 1px rgba(60, 64, 67, 0.15);\n",
              "      fill: #174EA6;\n",
              "    }\n",
              "\n",
              "    [theme=dark] .colab-df-convert {\n",
              "      background-color: #3B4455;\n",
              "      fill: #D2E3FC;\n",
              "    }\n",
              "\n",
              "    [theme=dark] .colab-df-convert:hover {\n",
              "      background-color: #434B5C;\n",
              "      box-shadow: 0px 1px 3px 1px rgba(0, 0, 0, 0.15);\n",
              "      filter: drop-shadow(0px 1px 2px rgba(0, 0, 0, 0.3));\n",
              "      fill: #FFFFFF;\n",
              "    }\n",
              "  </style>\n",
              "\n",
              "      <script>\n",
              "        const buttonEl =\n",
              "          document.querySelector('#df-67e7a0d9-454b-4ddb-ae3e-ddfa0d846963 button.colab-df-convert');\n",
              "        buttonEl.style.display =\n",
              "          google.colab.kernel.accessAllowed ? 'block' : 'none';\n",
              "\n",
              "        async function convertToInteractive(key) {\n",
              "          const element = document.querySelector('#df-67e7a0d9-454b-4ddb-ae3e-ddfa0d846963');\n",
              "          const dataTable =\n",
              "            await google.colab.kernel.invokeFunction('convertToInteractive',\n",
              "                                                     [key], {});\n",
              "          if (!dataTable) return;\n",
              "\n",
              "          const docLinkHtml = 'Like what you see? Visit the ' +\n",
              "            '<a target=\"_blank\" href=https://colab.research.google.com/notebooks/data_table.ipynb>data table notebook</a>'\n",
              "            + ' to learn more about interactive tables.';\n",
              "          element.innerHTML = '';\n",
              "          dataTable['output_type'] = 'display_data';\n",
              "          await google.colab.output.renderOutput(dataTable, element);\n",
              "          const docLink = document.createElement('div');\n",
              "          docLink.innerHTML = docLinkHtml;\n",
              "          element.appendChild(docLink);\n",
              "        }\n",
              "      </script>\n",
              "    </div>\n",
              "  </div>\n",
              "  "
            ]
          },
          "metadata": {},
          "execution_count": 123
        }
      ],
      "source": [
        "results_df"
      ]
    },
    {
      "cell_type": "markdown",
      "metadata": {
        "id": "TydNxEJD38Fo"
      },
      "source": [
        "1. Мы улучшили базовую модель ALS (библиотека implicit):\n",
        "\n",
        "  - Оптимизировали генерацию рекомендаций - `скорость` стала в 8 раз выше\n",
        "\n",
        "  - Удалили **дубликаты** \n",
        "  \n",
        "  - Изменили параметр `filter_already_liked_items=True` (используем для предсказаний только новые книги)\n",
        "\n",
        "  - Убедились в возможностях тюнинга модели (features_count = 20 и добавление параметра **alpha** = 40)\n",
        "\n",
        "2. Сформировали набор готовых функций для работы\n",
        "\n",
        "\n",
        "3. Подтвердилась наша гипотеза, что `Collaborative Filtering` не может дать высоких результатов из-за нехватки данных о чтении книг\n",
        "\n",
        "  - Можно попробовать выделить **группы активных** пользователей и сделать предсказания только для них, а для остальных использовать другой подход.\n"
      ]
    },
    {
      "cell_type": "markdown",
      "metadata": {
        "id": "x6SSHjGdndUS"
      },
      "source": [
        "## ЭТАП 2. Factorization Machines. Битва с ALS"
      ]
    },
    {
      "cell_type": "markdown",
      "metadata": {
        "id": "miUzOzTMMJm8"
      },
      "source": [
        "### Вводные"
      ]
    },
    {
      "cell_type": "markdown",
      "metadata": {
        "id": "kqjUbJCqn5cu"
      },
      "source": [
        "Для рекомендательной системы на базе Colloborative Filtering мы использовали один из алгоритмов Matrix Factorization - ALS.\n",
        "\n",
        "  - Результаты были досточно низкие, так как система еще не успела накопить достаточное количество данных о взаимодействии читателей и книг.\n",
        "\n",
        "- Есть идея добавить в обучение особенности читателей и книг - возраст, авторы книг и т.д.\n",
        "\n",
        "\n",
        "Такой подход в CF можно реализовать с помощью другой популярной техники -  Factorization Machines.\n",
        "\n",
        "---\n",
        "\n",
        "Мы воспользуемся библиотекой RankFM, где они на примере показывают более высокие результаты по сравнению с ALS в библиотеке Implicit \n",
        "\n",
        "ШАГ 1. Снова построим модель ALS, но возьмем реализацию, предложенную разработчиками RankFM.\n",
        "  - Сравним результаты с нашей имплементацией (скорость и качество)\n",
        " \n",
        "ШАГ 2. Построим модель RankFM на базе loss-функции BPR\n",
        "  - Сравним результаты с ALS.\n",
        "\n",
        "ШАГ 3. Добавим в модель RankFM признаки  - возраст читателей и год выпуска книг:)\n",
        "  \n",
        "  - Надеемся получить более высокий результат или новые инсайты)\n",
        "---\n",
        "На всех этапах мы теперь будем параллельно отслеживать метрику hit-rate (мы убедились, что это важный показатель).\n",
        "\n",
        "Также усредненные precision и recall, чтобы лучше оценить качество \"персональных\" рекомендаций.\n",
        "\n",
        "Вперед!\n"
      ]
    },
    {
      "cell_type": "markdown",
      "metadata": {
        "id": "B6jJgnNb_5IE"
      },
      "source": [
        "### (2.1) Новая имплементация ALS\n",
        "\n",
        "\n",
        "\n",
        "\n"
      ]
    },
    {
      "cell_type": "code",
      "execution_count": null,
      "metadata": {
        "colab": {
          "base_uri": "https://localhost:8080/",
          "height": 908
        },
        "id": "iASjLZFt6LiR",
        "outputId": "e33af32d-485f-4709-b1d6-86959d60bf82"
      },
      "outputs": [
        {
          "output_type": "stream",
          "name": "stdout",
          "text": [
            "Количество пользователей с 1, 2, 3-мя любимыми книгами:\n"
          ]
        },
        {
          "output_type": "display_data",
          "data": {
            "text/plain": [
              "1     162363\n",
              "2      10676\n",
              "3       1757\n",
              "4        553\n",
              "5        230\n",
              "6        108\n",
              "7         57\n",
              "8         38\n",
              "9         19\n",
              "10        13\n",
              "12         6\n",
              "15         4\n",
              "17         3\n",
              "13         3\n",
              "11         3\n",
              "18         2\n",
              "14         2\n",
              "24         1\n",
              "29         1\n",
              "20         1\n",
              "23         1\n",
              "36         1\n",
              "Name: books, dtype: int64"
            ]
          },
          "metadata": {}
        },
        {
          "output_type": "stream",
          "name": "stdout",
          "text": [
            "\n",
            "Показатели после нормализации с np.log2\n"
          ]
        },
        {
          "output_type": "display_data",
          "data": {
            "text/plain": [
              "1.000000    162363\n",
              "1.584963     10676\n",
              "2.000000      1757\n",
              "2.321928       553\n",
              "2.584963       230\n",
              "2.807355       108\n",
              "3.000000        57\n",
              "3.169925        38\n",
              "3.321928        19\n",
              "3.459432        13\n",
              "3.700440         6\n",
              "4.000000         4\n",
              "4.169925         3\n",
              "3.807355         3\n",
              "3.584963         3\n",
              "4.247928         2\n",
              "3.906891         2\n",
              "4.643856         1\n",
              "4.906891         1\n",
              "4.392317         1\n",
              "4.584963         1\n",
              "5.209453         1\n",
              "Name: books, dtype: int64"
            ]
          },
          "metadata": {}
        }
      ],
      "source": [
        "# Оставляем дубликаты\n",
        "unique_transactions = transactions\n",
        "\n",
        "# Размер валидационной выборки\n",
        "valid_pct = 0.25\n",
        "\n",
        "# Используем np.random для рандомизации индексов\n",
        "unique_transactions['random'] = np.random.random(size=len(unique_transactions))\n",
        "\n",
        "# Создаем маски индексов для train и valid датасетов\n",
        "# в зависимости от valid_pct - размер валидационной выборки\n",
        "train_mask = unique_transactions['random'] <  (1 - valid_pct)\n",
        "valid_mask = unique_transactions['random'] >= (1 - valid_pct)\n",
        "\n",
        "# Разделяем датасет на train и valid, используя маски индексов\n",
        "transactions_train = unique_transactions[train_mask].groupby(['chb', 'sys_numb']).size().to_frame('books').reset_index()\n",
        "transactions_valid = unique_transactions[valid_mask].groupby(['chb', 'sys_numb']).size().to_frame('books').reset_index()\n",
        "\n",
        "# Нормализация, если бы мы учитывали, сколько раз читатели повторно брали книги\n",
        "sample_weight_train = np.log2(transactions_train['books'] + 1)\n",
        "\n",
        "print(\"Количество пользователей с 1, 2, 3-мя любимыми книгами:\")\n",
        "display(transactions_train.books.value_counts())\n",
        "print()\n",
        "print(\"Показатели после нормализации с np.log2\")\n",
        "display(sample_weight_train.value_counts())\n",
        "\n"
      ]
    },
    {
      "cell_type": "markdown",
      "metadata": {
        "id": "DIa2rRjd-IXE"
      },
      "source": [
        "**Вывод**\n",
        "\n",
        "1. У нас есть пул читателей, которые заказывали одну и ту же книгу по несколько раз:\n",
        "\n",
        "  - возможно, заканчивался срок возврата книги\n",
        "  - это любимые книги читателя\n",
        "  - или какой-то сбой при загрузке книг\n",
        "\n",
        "\n",
        "2. В прошлой имплементации удаление дубликатов снижало качество рекомендаций\n",
        "\n",
        "  - Можно попробовать провести обучение еще раз, но с нормализацией\n",
        "\n",
        "  - На первом этапе мы будем действовать как раньше, оставив только уникальные книги для каждого читателя"
      ]
    },
    {
      "cell_type": "markdown",
      "metadata": {
        "id": "wJ-50GoO_-fE"
      },
      "source": [
        "#### Разделение датасетов "
      ]
    },
    {
      "cell_type": "code",
      "execution_count": null,
      "metadata": {
        "id": "MJ1RMdAa4sGo"
      },
      "outputs": [],
      "source": [
        "unique_transactions = transactions[['chb', 'sys_numb']].drop_duplicates()\n",
        "\n",
        "# unique_transactions = transactions\n",
        "\n",
        "# Размер валидационной выборки\n",
        "valid_pct = 0.2\n",
        "\n",
        "# Используем np.random для рандомизации индексов\n",
        "unique_transactions['random'] = np.random.random(size=len(unique_transactions))\n",
        "\n",
        "# Создаем маски индексов для train и valid датасетов\n",
        "# в зависимости от valid_pct - размер валидационной выборки\n",
        "train_mask = unique_transactions['random'] <  (1 - valid_pct)\n",
        "valid_mask = unique_transactions['random'] >= (1 - valid_pct)\n",
        "\n",
        "# Разделяем датасет на train и valid, используя маски индексов\n",
        "transactions_train = unique_transactions[train_mask].groupby(['chb', 'sys_numb']).size().to_frame('books').reset_index()\n",
        "transactions_valid = unique_transactions[valid_mask].groupby(['chb', 'sys_numb']).size().to_frame('books').reset_index()\n",
        "\n",
        "\n",
        "# (!!!) для обучения полного датасета и проверки на тесте\n",
        "transactions_all = unique_transactions.groupby(['chb', 'sys_numb']).size().to_frame('books').reset_index()\n",
        "\n",
        "\n",
        "# Нормализация, если бы мы учитывали, сколько раз читатели повторно брали книги\n",
        "# Без дубликатов здесь останется 1 у всех пользователей\n",
        "sample_weight_train = np.log2(transactions_train['books'] + 1)\n",
        "sample_weight_valid = np.log2(transactions_valid['books'] + 1)\n",
        "sample_weight_all = np.log2(transactions_all['books'] + 1)\n",
        "\n",
        "# Оставляем в отдельных датасетах пары user-book для модели\n",
        "transactions_train = transactions_train[['chb', 'sys_numb']]\n",
        "transactions_valid = transactions_valid[['chb', 'sys_numb']]\n",
        "transactions_all = transactions_all[['chb', 'sys_numb']]\n",
        "\n",
        "# Формируем списки уникальных пользователей для train и valid\n",
        "train_users = np.sort(transactions_train['chb'].unique())\n",
        "valid_users = np.sort(transactions_valid['chb'].unique())\n",
        "\n",
        "# Новые пользователи библиотеки (незнакомые для модели)\n",
        "cold_start_users = set(valid_users) - set(train_users)\n",
        "\n",
        "# Формируем списки уникальных книг для train и valid\n",
        "train_books = np.sort(transactions_train['sys_numb'].unique())\n",
        "valid_books = np.sort(transactions_valid['sys_numb'].unique())\n",
        "\n",
        "# Новые книги, которые взяли читать (незнакомые для модели)\n",
        "cold_start_books = set(valid_books) - set(train_books)"
      ]
    },
    {
      "cell_type": "code",
      "execution_count": null,
      "metadata": {
        "colab": {
          "base_uri": "https://localhost:8080/"
        },
        "id": "SzhcVfggB15-",
        "outputId": "9a04e5cb-141f-4461-9dad-4b8a9e6d58d3"
      },
      "outputs": [
        {
          "output_type": "stream",
          "name": "stdout",
          "text": [
            "Неизвестных пользователей для модели: 95\n",
            "Неизвестных книг для модели: 35006\n"
          ]
        }
      ],
      "source": [
        "print(\"Неизвестных пользователей для модели:\", len(cold_start_users))\n",
        "print(\"Неизвестных книг для модели:\", len(cold_start_books))"
      ]
    },
    {
      "cell_type": "markdown",
      "metadata": {
        "id": "w40uTYWy5k5y"
      },
      "source": [
        "**Вывод**\n",
        "\n",
        "1. Мы будем испытывать новый подход к разделению выборок (спрячем часть пользователей и книг из выборки)\n",
        "  - когда в библиотеку добавляются новые пользователи \n",
        "  - когда появляются новые книги в базе данных transactions \n",
        "\n",
        "2. Такой подход сильнее приближен к реальности и отражает известную проблему рекомендательных систем `cold start`"
      ]
    },
    {
      "cell_type": "markdown",
      "metadata": {
        "id": "qlU5QYvmDk-f"
      },
      "source": [
        "#### Словари с индексами пользователей и книг "
      ]
    },
    {
      "cell_type": "markdown",
      "metadata": {
        "id": "GbnIMXVlI8-6"
      },
      "source": [
        "- В `transactions_train` у нас только пары читатель-книга, а в `sample_weight` - данные о прочитанных книгах.\n",
        "\n",
        "- Если обучаем модель без дубликатов, то в данных у всех пользователей будет просто 1."
      ]
    },
    {
      "cell_type": "code",
      "execution_count": null,
      "metadata": {
        "colab": {
          "base_uri": "https://localhost:8080/",
          "height": 143
        },
        "id": "4qxC71rBHeU7",
        "outputId": "6b4115e3-951e-4d6c-879f-5f00d76a8346"
      },
      "outputs": [
        {
          "output_type": "execute_result",
          "data": {
            "text/plain": [
              "            chb        sys_numb\n",
              "0  100000641403  RSL01004206702\n",
              "1  100000641403  RSL01004211574\n",
              "2  100000644359  RSL01003557352"
            ],
            "text/html": [
              "\n",
              "  <div id=\"df-06c6b13f-54d5-4d86-9d92-102e8acb59f4\">\n",
              "    <div class=\"colab-df-container\">\n",
              "      <div>\n",
              "<style scoped>\n",
              "    .dataframe tbody tr th:only-of-type {\n",
              "        vertical-align: middle;\n",
              "    }\n",
              "\n",
              "    .dataframe tbody tr th {\n",
              "        vertical-align: top;\n",
              "    }\n",
              "\n",
              "    .dataframe thead th {\n",
              "        text-align: right;\n",
              "    }\n",
              "</style>\n",
              "<table border=\"1\" class=\"dataframe\">\n",
              "  <thead>\n",
              "    <tr style=\"text-align: right;\">\n",
              "      <th></th>\n",
              "      <th>chb</th>\n",
              "      <th>sys_numb</th>\n",
              "    </tr>\n",
              "  </thead>\n",
              "  <tbody>\n",
              "    <tr>\n",
              "      <th>0</th>\n",
              "      <td>100000641403</td>\n",
              "      <td>RSL01004206702</td>\n",
              "    </tr>\n",
              "    <tr>\n",
              "      <th>1</th>\n",
              "      <td>100000641403</td>\n",
              "      <td>RSL01004211574</td>\n",
              "    </tr>\n",
              "    <tr>\n",
              "      <th>2</th>\n",
              "      <td>100000644359</td>\n",
              "      <td>RSL01003557352</td>\n",
              "    </tr>\n",
              "  </tbody>\n",
              "</table>\n",
              "</div>\n",
              "      <button class=\"colab-df-convert\" onclick=\"convertToInteractive('df-06c6b13f-54d5-4d86-9d92-102e8acb59f4')\"\n",
              "              title=\"Convert this dataframe to an interactive table.\"\n",
              "              style=\"display:none;\">\n",
              "        \n",
              "  <svg xmlns=\"http://www.w3.org/2000/svg\" height=\"24px\"viewBox=\"0 0 24 24\"\n",
              "       width=\"24px\">\n",
              "    <path d=\"M0 0h24v24H0V0z\" fill=\"none\"/>\n",
              "    <path d=\"M18.56 5.44l.94 2.06.94-2.06 2.06-.94-2.06-.94-.94-2.06-.94 2.06-2.06.94zm-11 1L8.5 8.5l.94-2.06 2.06-.94-2.06-.94L8.5 2.5l-.94 2.06-2.06.94zm10 10l.94 2.06.94-2.06 2.06-.94-2.06-.94-.94-2.06-.94 2.06-2.06.94z\"/><path d=\"M17.41 7.96l-1.37-1.37c-.4-.4-.92-.59-1.43-.59-.52 0-1.04.2-1.43.59L10.3 9.45l-7.72 7.72c-.78.78-.78 2.05 0 2.83L4 21.41c.39.39.9.59 1.41.59.51 0 1.02-.2 1.41-.59l7.78-7.78 2.81-2.81c.8-.78.8-2.07 0-2.86zM5.41 20L4 18.59l7.72-7.72 1.47 1.35L5.41 20z\"/>\n",
              "  </svg>\n",
              "      </button>\n",
              "      \n",
              "  <style>\n",
              "    .colab-df-container {\n",
              "      display:flex;\n",
              "      flex-wrap:wrap;\n",
              "      gap: 12px;\n",
              "    }\n",
              "\n",
              "    .colab-df-convert {\n",
              "      background-color: #E8F0FE;\n",
              "      border: none;\n",
              "      border-radius: 50%;\n",
              "      cursor: pointer;\n",
              "      display: none;\n",
              "      fill: #1967D2;\n",
              "      height: 32px;\n",
              "      padding: 0 0 0 0;\n",
              "      width: 32px;\n",
              "    }\n",
              "\n",
              "    .colab-df-convert:hover {\n",
              "      background-color: #E2EBFA;\n",
              "      box-shadow: 0px 1px 2px rgba(60, 64, 67, 0.3), 0px 1px 3px 1px rgba(60, 64, 67, 0.15);\n",
              "      fill: #174EA6;\n",
              "    }\n",
              "\n",
              "    [theme=dark] .colab-df-convert {\n",
              "      background-color: #3B4455;\n",
              "      fill: #D2E3FC;\n",
              "    }\n",
              "\n",
              "    [theme=dark] .colab-df-convert:hover {\n",
              "      background-color: #434B5C;\n",
              "      box-shadow: 0px 1px 3px 1px rgba(0, 0, 0, 0.15);\n",
              "      filter: drop-shadow(0px 1px 2px rgba(0, 0, 0, 0.3));\n",
              "      fill: #FFFFFF;\n",
              "    }\n",
              "  </style>\n",
              "\n",
              "      <script>\n",
              "        const buttonEl =\n",
              "          document.querySelector('#df-06c6b13f-54d5-4d86-9d92-102e8acb59f4 button.colab-df-convert');\n",
              "        buttonEl.style.display =\n",
              "          google.colab.kernel.accessAllowed ? 'block' : 'none';\n",
              "\n",
              "        async function convertToInteractive(key) {\n",
              "          const element = document.querySelector('#df-06c6b13f-54d5-4d86-9d92-102e8acb59f4');\n",
              "          const dataTable =\n",
              "            await google.colab.kernel.invokeFunction('convertToInteractive',\n",
              "                                                     [key], {});\n",
              "          if (!dataTable) return;\n",
              "\n",
              "          const docLinkHtml = 'Like what you see? Visit the ' +\n",
              "            '<a target=\"_blank\" href=https://colab.research.google.com/notebooks/data_table.ipynb>data table notebook</a>'\n",
              "            + ' to learn more about interactive tables.';\n",
              "          element.innerHTML = '';\n",
              "          dataTable['output_type'] = 'display_data';\n",
              "          await google.colab.output.renderOutput(dataTable, element);\n",
              "          const docLink = document.createElement('div');\n",
              "          docLink.innerHTML = docLinkHtml;\n",
              "          element.appendChild(docLink);\n",
              "        }\n",
              "      </script>\n",
              "    </div>\n",
              "  </div>\n",
              "  "
            ]
          },
          "metadata": {},
          "execution_count": 127
        }
      ],
      "source": [
        "transactions_train.head(3)"
      ]
    },
    {
      "cell_type": "code",
      "execution_count": null,
      "metadata": {
        "colab": {
          "base_uri": "https://localhost:8080/"
        },
        "id": "fI8nh3q0I17l",
        "outputId": "c452ba3e-1573-43f5-ffb4-9379a8dbdf8a"
      },
      "outputs": [
        {
          "output_type": "execute_result",
          "data": {
            "text/plain": [
              "0    1.0\n",
              "1    1.0\n",
              "2    1.0\n",
              "Name: books, dtype: float64"
            ]
          },
          "metadata": {},
          "execution_count": 128
        }
      ],
      "source": [
        "sample_weight_train.head(3)"
      ]
    },
    {
      "cell_type": "markdown",
      "metadata": {
        "id": "d5qMGHKwJUfd"
      },
      "source": [
        "Как и в прошлой реализации, для ALS модели нам понадобятся словари с маппингом идентификаторов:\n",
        "\n",
        "- В этот раз мы построим словари на базе типа `Series` \n",
        "\n",
        "- Перевод в csr-матрицу сделаем без циклов, добавив поля с идентификаторами в обучающий датафрейм\n"
      ]
    },
    {
      "cell_type": "code",
      "execution_count": null,
      "metadata": {
        "colab": {
          "base_uri": "https://localhost:8080/"
        },
        "id": "n7Ok2vDfD7id",
        "outputId": "1c12783d-656d-409a-a7de-780b165a02d8"
      },
      "outputs": [
        {
          "output_type": "stream",
          "name": "stdout",
          "text": [
            "Размер sparse-матрицы user-book: (16753, 194666)\n"
          ]
        }
      ],
      "source": [
        "transactions_train = transactions_all\n",
        "\n",
        "# Cловари для маппинга индексов ID -> читатель/книга\n",
        "index_to_user = pd.Series(np.sort(np.unique(transactions_train['chb'])))\n",
        "index_to_item = pd.Series(np.sort(np.unique(transactions_train['sys_numb'])))\n",
        "\n",
        "# Словари для обратного маппинга\n",
        "user_to_index = pd.Series(data=index_to_user.index, index=index_to_user.values)\n",
        "item_to_index = pd.Series(data=index_to_item.index, index=index_to_item.values)\n",
        "\n",
        "# Добавляем индексы в обучающий датасет\n",
        "transactions_train_imp = transactions_train.copy()\n",
        "transactions_train_imp['user_id'] = transactions_train['chb'].map(user_to_index)\n",
        "transactions_train_imp['book_id'] = transactions_train['sys_numb'].map(item_to_index)\n",
        "\n",
        "# Данные для перевода датасета в CSR матрицу\n",
        "# data = sample_weight_train\n",
        "data = sample_weight_all\n",
        "rows = transactions_train_imp['user_id']\n",
        "cols = transactions_train_imp['book_id']\n",
        "\n",
        "# CSR матрица user(строки)-books(столбцы)\n",
        "user_items_imp = csr_matrix((data, (rows, cols)), \n",
        "                            shape=(len(user_to_index), len(item_to_index)))\n",
        "\n",
        "print(\"Размер sparse-матрицы user-book:\", user_items_imp.shape)\n"
      ]
    },
    {
      "cell_type": "markdown",
      "metadata": {
        "id": "3e-x2YsXMbeX"
      },
      "source": [
        "#### Обучение модели"
      ]
    },
    {
      "cell_type": "markdown",
      "metadata": {
        "id": "K0RBzpPGNPW7"
      },
      "source": [
        "1. Будем использовать 200 latent features (скрытые признаки читателей и книг, которые находит модель) \n",
        "\n",
        "  - Этот параметр дал нам хороший результат в прошлой реализации ALS\n",
        "\n",
        "2. Вместо метода recommend здесь используется `recommend_all`:\n",
        "  - в новой версии разработчики планируют убрать этот метод (объединить все варианты в одной функции `recommend`) \n",
        "\n"
      ]
    },
    {
      "cell_type": "code",
      "execution_count": null,
      "metadata": {
        "colab": {
          "base_uri": "https://localhost:8080/",
          "height": 49,
          "referenced_widgets": [
            "32fe2c8fb1584f7f92c7baa0c92d93c3",
            "81584289eb1f47adbb28ebe3b1ba0d0e",
            "1fcb51115b114ee5ac2108cd1e764bf8",
            "2977def1013f49f4b0a21265ca5fd27f",
            "76c89223b3f64620b876920f63c89d2d",
            "df36357524ab4329801b0a398ba60f9f",
            "8a09562cc5244d728ece07928f0b9558",
            "c120235091b546ab9512b6bf563dd132",
            "f62be9ed1e8745e3b81675d0cfb5dfb7",
            "396500d1698d4968825247315b7e3884",
            "2e18c1b588254182bfa447a219e6c994"
          ]
        },
        "id": "NmZMB6FgQVjU",
        "outputId": "5446eb1d-29dc-4c4e-d64e-00419e001333"
      },
      "outputs": [
        {
          "output_type": "display_data",
          "data": {
            "text/plain": [
              "  0%|          | 0/15 [00:00<?, ?it/s]"
            ],
            "application/vnd.jupyter.widget-view+json": {
              "version_major": 2,
              "version_minor": 0,
              "model_id": "32fe2c8fb1584f7f92c7baa0c92d93c3"
            }
          },
          "metadata": {}
        }
      ],
      "source": [
        "alpha_value = 40\n",
        "\n",
        "# Обучаем модель\n",
        "imp_model = AlternatingLeastSquares(factors=200, random_state=777)\n",
        "imp_model.fit((user_items_imp * alpha_value).astype('double'))"
      ]
    },
    {
      "cell_type": "code",
      "execution_count": null,
      "metadata": {
        "colab": {
          "base_uri": "https://localhost:8080/",
          "height": 288
        },
        "id": "i8AvAWYJMq_J",
        "outputId": "72988914-eafc-4bdf-8645-fb16015035e3"
      },
      "outputs": [
        {
          "output_type": "stream",
          "name": "stdout",
          "text": [
            "Предсказания модели ALS:\n"
          ]
        },
        {
          "output_type": "execute_result",
          "data": {
            "text/plain": [
              "                          0               1               2               3   \\\n",
              "100000641403  RSL01004185091  RSL01003441482  RSL01004190969  RSL01008477654   \n",
              "100000644359  RSL01009833577  RSL01010556531  RSL01003557352  RSL01010647947   \n",
              "100000665127  RSL01002720656  RSL01009973730  RSL01003248275  RSL01003947249   \n",
              "100000676191  RSL01003617616  RSL01003622825  RSL01005076342  RSL01003670263   \n",
              "100000679200  RSL01010248423  RSL01000123386  RSL01005054479  RSL01003289018   \n",
              "\n",
              "                          4               5               6               7   \\\n",
              "100000641403  RSL01004211574  RSL01003792529  RSL01003639696  RSL01004191071   \n",
              "100000644359  RSL01010278914  RSL01010559974  RSL01010586255  RSL01010587317   \n",
              "100000665127  RSL01000198239  RSL01003276143  RSL01003947258  RSL01003947256   \n",
              "100000676191  RSL01003910682  RSL01003603366  RSL01003722702  RSL01003634246   \n",
              "100000679200  RSL01003177895  RSL01003462568  RSL01008825957  RSL01007884218   \n",
              "\n",
              "                          8               9               10              11  \\\n",
              "100000641403  RSL01004186571  RSL01003674890  RSL02000025560  RSL01003783075   \n",
              "100000644359  RSL01010136617  RSL01009800093  RSL01010594911  RSL01010586376   \n",
              "100000665127  RSL01002973126  RSL01003947254  RSL01010117433  RSL01003947250   \n",
              "100000676191  RSL01003755071  RSL01003441485  RSL01003682625  RSL01003780913   \n",
              "100000679200  RSL01004869991  RSL01004319337  RSL01007503068  RSL01006772159   \n",
              "\n",
              "                          12              13              14              15  \\\n",
              "100000641403  RSL01004462230  RSL01004186500  RSL01003589346  RSL01007528691   \n",
              "100000644359  RSL01010251521  RSL01010456769  RSL07000458969  RSL01010705965   \n",
              "100000665127  RSL01003947260  RSL01003915650  RSL01003947253  RSL01003720410   \n",
              "100000676191  RSL01003647702  RSL01003553120  RSL01003874690  RSL01003991446   \n",
              "100000679200  RSL01008656366  RSL01009774313  RSL01002679312  RSL01003127253   \n",
              "\n",
              "                          16              17              18              19  \n",
              "100000641403  RSL02000000555  RSL01003601634  RSL01004196026  RSL01003730215  \n",
              "100000644359  RSL01010553020  RSL01010259357  RSL01010247222  RSL01009839571  \n",
              "100000665127  RSL01002881135  RSL01001751573  RSL01004428038  RSL01004914143  \n",
              "100000676191  RSL01003890490  RSL01003660926  RSL01002509210  RSL01003773521  \n",
              "100000679200  RSL01007843528  RSL07000420608  RSL01006507384  RSL01006059487  "
            ],
            "text/html": [
              "\n",
              "  <div id=\"df-5f6d18c5-a8db-4e12-bffa-94716b747faa\">\n",
              "    <div class=\"colab-df-container\">\n",
              "      <div>\n",
              "<style scoped>\n",
              "    .dataframe tbody tr th:only-of-type {\n",
              "        vertical-align: middle;\n",
              "    }\n",
              "\n",
              "    .dataframe tbody tr th {\n",
              "        vertical-align: top;\n",
              "    }\n",
              "\n",
              "    .dataframe thead th {\n",
              "        text-align: right;\n",
              "    }\n",
              "</style>\n",
              "<table border=\"1\" class=\"dataframe\">\n",
              "  <thead>\n",
              "    <tr style=\"text-align: right;\">\n",
              "      <th></th>\n",
              "      <th>0</th>\n",
              "      <th>1</th>\n",
              "      <th>2</th>\n",
              "      <th>3</th>\n",
              "      <th>4</th>\n",
              "      <th>5</th>\n",
              "      <th>6</th>\n",
              "      <th>7</th>\n",
              "      <th>8</th>\n",
              "      <th>9</th>\n",
              "      <th>10</th>\n",
              "      <th>11</th>\n",
              "      <th>12</th>\n",
              "      <th>13</th>\n",
              "      <th>14</th>\n",
              "      <th>15</th>\n",
              "      <th>16</th>\n",
              "      <th>17</th>\n",
              "      <th>18</th>\n",
              "      <th>19</th>\n",
              "    </tr>\n",
              "  </thead>\n",
              "  <tbody>\n",
              "    <tr>\n",
              "      <th>100000641403</th>\n",
              "      <td>RSL01004185091</td>\n",
              "      <td>RSL01003441482</td>\n",
              "      <td>RSL01004190969</td>\n",
              "      <td>RSL01008477654</td>\n",
              "      <td>RSL01004211574</td>\n",
              "      <td>RSL01003792529</td>\n",
              "      <td>RSL01003639696</td>\n",
              "      <td>RSL01004191071</td>\n",
              "      <td>RSL01004186571</td>\n",
              "      <td>RSL01003674890</td>\n",
              "      <td>RSL02000025560</td>\n",
              "      <td>RSL01003783075</td>\n",
              "      <td>RSL01004462230</td>\n",
              "      <td>RSL01004186500</td>\n",
              "      <td>RSL01003589346</td>\n",
              "      <td>RSL01007528691</td>\n",
              "      <td>RSL02000000555</td>\n",
              "      <td>RSL01003601634</td>\n",
              "      <td>RSL01004196026</td>\n",
              "      <td>RSL01003730215</td>\n",
              "    </tr>\n",
              "    <tr>\n",
              "      <th>100000644359</th>\n",
              "      <td>RSL01009833577</td>\n",
              "      <td>RSL01010556531</td>\n",
              "      <td>RSL01003557352</td>\n",
              "      <td>RSL01010647947</td>\n",
              "      <td>RSL01010278914</td>\n",
              "      <td>RSL01010559974</td>\n",
              "      <td>RSL01010586255</td>\n",
              "      <td>RSL01010587317</td>\n",
              "      <td>RSL01010136617</td>\n",
              "      <td>RSL01009800093</td>\n",
              "      <td>RSL01010594911</td>\n",
              "      <td>RSL01010586376</td>\n",
              "      <td>RSL01010251521</td>\n",
              "      <td>RSL01010456769</td>\n",
              "      <td>RSL07000458969</td>\n",
              "      <td>RSL01010705965</td>\n",
              "      <td>RSL01010553020</td>\n",
              "      <td>RSL01010259357</td>\n",
              "      <td>RSL01010247222</td>\n",
              "      <td>RSL01009839571</td>\n",
              "    </tr>\n",
              "    <tr>\n",
              "      <th>100000665127</th>\n",
              "      <td>RSL01002720656</td>\n",
              "      <td>RSL01009973730</td>\n",
              "      <td>RSL01003248275</td>\n",
              "      <td>RSL01003947249</td>\n",
              "      <td>RSL01000198239</td>\n",
              "      <td>RSL01003276143</td>\n",
              "      <td>RSL01003947258</td>\n",
              "      <td>RSL01003947256</td>\n",
              "      <td>RSL01002973126</td>\n",
              "      <td>RSL01003947254</td>\n",
              "      <td>RSL01010117433</td>\n",
              "      <td>RSL01003947250</td>\n",
              "      <td>RSL01003947260</td>\n",
              "      <td>RSL01003915650</td>\n",
              "      <td>RSL01003947253</td>\n",
              "      <td>RSL01003720410</td>\n",
              "      <td>RSL01002881135</td>\n",
              "      <td>RSL01001751573</td>\n",
              "      <td>RSL01004428038</td>\n",
              "      <td>RSL01004914143</td>\n",
              "    </tr>\n",
              "    <tr>\n",
              "      <th>100000676191</th>\n",
              "      <td>RSL01003617616</td>\n",
              "      <td>RSL01003622825</td>\n",
              "      <td>RSL01005076342</td>\n",
              "      <td>RSL01003670263</td>\n",
              "      <td>RSL01003910682</td>\n",
              "      <td>RSL01003603366</td>\n",
              "      <td>RSL01003722702</td>\n",
              "      <td>RSL01003634246</td>\n",
              "      <td>RSL01003755071</td>\n",
              "      <td>RSL01003441485</td>\n",
              "      <td>RSL01003682625</td>\n",
              "      <td>RSL01003780913</td>\n",
              "      <td>RSL01003647702</td>\n",
              "      <td>RSL01003553120</td>\n",
              "      <td>RSL01003874690</td>\n",
              "      <td>RSL01003991446</td>\n",
              "      <td>RSL01003890490</td>\n",
              "      <td>RSL01003660926</td>\n",
              "      <td>RSL01002509210</td>\n",
              "      <td>RSL01003773521</td>\n",
              "    </tr>\n",
              "    <tr>\n",
              "      <th>100000679200</th>\n",
              "      <td>RSL01010248423</td>\n",
              "      <td>RSL01000123386</td>\n",
              "      <td>RSL01005054479</td>\n",
              "      <td>RSL01003289018</td>\n",
              "      <td>RSL01003177895</td>\n",
              "      <td>RSL01003462568</td>\n",
              "      <td>RSL01008825957</td>\n",
              "      <td>RSL01007884218</td>\n",
              "      <td>RSL01004869991</td>\n",
              "      <td>RSL01004319337</td>\n",
              "      <td>RSL01007503068</td>\n",
              "      <td>RSL01006772159</td>\n",
              "      <td>RSL01008656366</td>\n",
              "      <td>RSL01009774313</td>\n",
              "      <td>RSL01002679312</td>\n",
              "      <td>RSL01003127253</td>\n",
              "      <td>RSL01007843528</td>\n",
              "      <td>RSL07000420608</td>\n",
              "      <td>RSL01006507384</td>\n",
              "      <td>RSL01006059487</td>\n",
              "    </tr>\n",
              "  </tbody>\n",
              "</table>\n",
              "</div>\n",
              "      <button class=\"colab-df-convert\" onclick=\"convertToInteractive('df-5f6d18c5-a8db-4e12-bffa-94716b747faa')\"\n",
              "              title=\"Convert this dataframe to an interactive table.\"\n",
              "              style=\"display:none;\">\n",
              "        \n",
              "  <svg xmlns=\"http://www.w3.org/2000/svg\" height=\"24px\"viewBox=\"0 0 24 24\"\n",
              "       width=\"24px\">\n",
              "    <path d=\"M0 0h24v24H0V0z\" fill=\"none\"/>\n",
              "    <path d=\"M18.56 5.44l.94 2.06.94-2.06 2.06-.94-2.06-.94-.94-2.06-.94 2.06-2.06.94zm-11 1L8.5 8.5l.94-2.06 2.06-.94-2.06-.94L8.5 2.5l-.94 2.06-2.06.94zm10 10l.94 2.06.94-2.06 2.06-.94-2.06-.94-.94-2.06-.94 2.06-2.06.94z\"/><path d=\"M17.41 7.96l-1.37-1.37c-.4-.4-.92-.59-1.43-.59-.52 0-1.04.2-1.43.59L10.3 9.45l-7.72 7.72c-.78.78-.78 2.05 0 2.83L4 21.41c.39.39.9.59 1.41.59.51 0 1.02-.2 1.41-.59l7.78-7.78 2.81-2.81c.8-.78.8-2.07 0-2.86zM5.41 20L4 18.59l7.72-7.72 1.47 1.35L5.41 20z\"/>\n",
              "  </svg>\n",
              "      </button>\n",
              "      \n",
              "  <style>\n",
              "    .colab-df-container {\n",
              "      display:flex;\n",
              "      flex-wrap:wrap;\n",
              "      gap: 12px;\n",
              "    }\n",
              "\n",
              "    .colab-df-convert {\n",
              "      background-color: #E8F0FE;\n",
              "      border: none;\n",
              "      border-radius: 50%;\n",
              "      cursor: pointer;\n",
              "      display: none;\n",
              "      fill: #1967D2;\n",
              "      height: 32px;\n",
              "      padding: 0 0 0 0;\n",
              "      width: 32px;\n",
              "    }\n",
              "\n",
              "    .colab-df-convert:hover {\n",
              "      background-color: #E2EBFA;\n",
              "      box-shadow: 0px 1px 2px rgba(60, 64, 67, 0.3), 0px 1px 3px 1px rgba(60, 64, 67, 0.15);\n",
              "      fill: #174EA6;\n",
              "    }\n",
              "\n",
              "    [theme=dark] .colab-df-convert {\n",
              "      background-color: #3B4455;\n",
              "      fill: #D2E3FC;\n",
              "    }\n",
              "\n",
              "    [theme=dark] .colab-df-convert:hover {\n",
              "      background-color: #434B5C;\n",
              "      box-shadow: 0px 1px 3px 1px rgba(0, 0, 0, 0.15);\n",
              "      filter: drop-shadow(0px 1px 2px rgba(0, 0, 0, 0.3));\n",
              "      fill: #FFFFFF;\n",
              "    }\n",
              "  </style>\n",
              "\n",
              "      <script>\n",
              "        const buttonEl =\n",
              "          document.querySelector('#df-5f6d18c5-a8db-4e12-bffa-94716b747faa button.colab-df-convert');\n",
              "        buttonEl.style.display =\n",
              "          google.colab.kernel.accessAllowed ? 'block' : 'none';\n",
              "\n",
              "        async function convertToInteractive(key) {\n",
              "          const element = document.querySelector('#df-5f6d18c5-a8db-4e12-bffa-94716b747faa');\n",
              "          const dataTable =\n",
              "            await google.colab.kernel.invokeFunction('convertToInteractive',\n",
              "                                                     [key], {});\n",
              "          if (!dataTable) return;\n",
              "\n",
              "          const docLinkHtml = 'Like what you see? Visit the ' +\n",
              "            '<a target=\"_blank\" href=https://colab.research.google.com/notebooks/data_table.ipynb>data table notebook</a>'\n",
              "            + ' to learn more about interactive tables.';\n",
              "          element.innerHTML = '';\n",
              "          dataTable['output_type'] = 'display_data';\n",
              "          await google.colab.output.renderOutput(dataTable, element);\n",
              "          const docLink = document.createElement('div');\n",
              "          docLink.innerHTML = docLinkHtml;\n",
              "          element.appendChild(docLink);\n",
              "        }\n",
              "      </script>\n",
              "    </div>\n",
              "  </div>\n",
              "  "
            ]
          },
          "metadata": {},
          "execution_count": 140
        }
      ],
      "source": [
        "# Получаем список рекомендаций - матрица с индексами книг и читателей\n",
        "recs_imp = imp_model.recommend_all(\n",
        "    user_items=(user_items_imp * alpha_value).astype('double'), \n",
        "    N=20, \n",
        "    filter_already_liked_items=False\n",
        ")\n",
        "\n",
        "# Создаем датафрейм\n",
        "# Переводим индексы в исходные идентификаторы\n",
        "recs_imp = (\n",
        "    pd.DataFrame(recs_imp, index=index_to_user.values)\n",
        "    .apply(lambda c: c.map(index_to_item))\n",
        ")\n",
        "\n",
        "print(\"Предсказания модели ALS:\")\n",
        "recs_imp.head(5)"
      ]
    },
    {
      "cell_type": "markdown",
      "metadata": {
        "id": "KsQYN5WUPwSf"
      },
      "source": [
        "**Вывод**\n",
        "\n",
        "1. Предсказания сформировались очень быстро:\n",
        "\n",
        "  -  мы не формировали дополнительно наборы пар (user, book), поэтому скорость значительно выше\n",
        "\n",
        "  - если при расчете метрик производительность сохранится, это будет лучшей реализацией\n",
        "\n",
        "2. Также мы получили датафрейм, который наглядно визуализирует рекомендации. Особенно, если у нас в голове встроенный кодировщик названий книг)))\n",
        "\n",
        "Осталось рассчитать метрики, посмотрим, ждет ли нас сюрприз)"
      ]
    },
    {
      "cell_type": "markdown",
      "metadata": {
        "id": "SQMsQrlpM0oo"
      },
      "source": [
        "#### Оценка результатов"
      ]
    },
    {
      "cell_type": "markdown",
      "metadata": {
        "id": "XDsCNTpLVHuY"
      },
      "source": [
        "##### Усредненные метрики и hit-rate\n",
        "\n"
      ]
    },
    {
      "cell_type": "code",
      "execution_count": null,
      "metadata": {
        "colab": {
          "base_uri": "https://localhost:8080/"
        },
        "id": "U8RUbu3cS9No",
        "outputId": "bc6c3ec9-dd20-4843-ac0b-df1afd2ea482"
      },
      "outputs": [
        {
          "output_type": "stream",
          "name": "stdout",
          "text": [
            "Усредненные метрики по пользователям:\n",
            "\n",
            "Hit-Rate: 0.741\n",
            "Recall: 0.63701\n",
            "Precision: 0.09653\n",
            "F1-score: 0.16765\n"
          ]
        }
      ],
      "source": [
        "# Словарь со списком книг для каждого читателя\n",
        "valid_user_items = (\n",
        "    transactions_valid\n",
        "    .groupby('chb')['sys_numb']\n",
        "    .apply(set).to_dict()\n",
        ")\n",
        "\n",
        "all_users = set(train_users) & set(valid_users)\n",
        "\n",
        "# Считаем усредненные метрики\n",
        "hitrate = np.mean([int(len(set(recs_imp.loc[u]) & valid_user_items[u]) > 0) for u in all_users])\n",
        "\n",
        "precision = np.mean([\n",
        "    len(set(recs_imp.loc[u]) & valid_user_items[u]) / \n",
        "    len(recs_imp.loc[u]) for u in all_users])\n",
        "\n",
        "recall = np.mean([\n",
        "    len(set(recs_imp.loc[u]) & valid_user_items[u]) / \n",
        "    len(valid_user_items[u]) for u in all_users])\n",
        "\n",
        "f1_score = 2 * (precision * recall) / (precision + recall)\n",
        "\n",
        "print(\"Усредненные метрики по пользователям:\\n\")\n",
        "print(f\"Hit-Rate: {round(hitrate, 5)}\")\n",
        "print(f\"Recall: {round(recall, 5)}\")\n",
        "print(f\"Precision: {round(precision, 5)}\")\n",
        "print(f\"F1-score: {round(f1_score, 5)}\")"
      ]
    },
    {
      "cell_type": "markdown",
      "metadata": {
        "id": "63S1vSPrklKy"
      },
      "source": [
        "**Вывод**\n",
        "\n",
        "1. Новый подход к реализации однозначно самый производительный\n",
        "\n",
        "2. Cравним с исходными метриками, где мы оценивали общее количество \"угадываний\"\n",
        "  - нам снова нужно будет перевести матрицу рекомендации в пары user-book\n"
      ]
    },
    {
      "cell_type": "markdown",
      "metadata": {
        "id": "wbb-xhr0VWKa"
      },
      "source": [
        "##### Сравнение с исходной метрикой f1-score\n"
      ]
    },
    {
      "cell_type": "code",
      "execution_count": null,
      "metadata": {
        "colab": {
          "base_uri": "https://localhost:8080/",
          "height": 143
        },
        "id": "Mmv0BMQtuueM",
        "outputId": "a704f57c-4b41-43de-ad75-81d4586dd1ad"
      },
      "outputs": [
        {
          "output_type": "execute_result",
          "data": {
            "text/plain": [
              "         sys_numb  chb\n",
              "0  RSL01004185091    0\n",
              "1  RSL01003441482    0\n",
              "2  RSL01004190969    0"
            ],
            "text/html": [
              "\n",
              "  <div id=\"df-1568d3fb-f15b-41e0-a7eb-1428de8cb30f\">\n",
              "    <div class=\"colab-df-container\">\n",
              "      <div>\n",
              "<style scoped>\n",
              "    .dataframe tbody tr th:only-of-type {\n",
              "        vertical-align: middle;\n",
              "    }\n",
              "\n",
              "    .dataframe tbody tr th {\n",
              "        vertical-align: top;\n",
              "    }\n",
              "\n",
              "    .dataframe thead th {\n",
              "        text-align: right;\n",
              "    }\n",
              "</style>\n",
              "<table border=\"1\" class=\"dataframe\">\n",
              "  <thead>\n",
              "    <tr style=\"text-align: right;\">\n",
              "      <th></th>\n",
              "      <th>sys_numb</th>\n",
              "      <th>chb</th>\n",
              "    </tr>\n",
              "  </thead>\n",
              "  <tbody>\n",
              "    <tr>\n",
              "      <th>0</th>\n",
              "      <td>RSL01004185091</td>\n",
              "      <td>0</td>\n",
              "    </tr>\n",
              "    <tr>\n",
              "      <th>1</th>\n",
              "      <td>RSL01003441482</td>\n",
              "      <td>0</td>\n",
              "    </tr>\n",
              "    <tr>\n",
              "      <th>2</th>\n",
              "      <td>RSL01004190969</td>\n",
              "      <td>0</td>\n",
              "    </tr>\n",
              "  </tbody>\n",
              "</table>\n",
              "</div>\n",
              "      <button class=\"colab-df-convert\" onclick=\"convertToInteractive('df-1568d3fb-f15b-41e0-a7eb-1428de8cb30f')\"\n",
              "              title=\"Convert this dataframe to an interactive table.\"\n",
              "              style=\"display:none;\">\n",
              "        \n",
              "  <svg xmlns=\"http://www.w3.org/2000/svg\" height=\"24px\"viewBox=\"0 0 24 24\"\n",
              "       width=\"24px\">\n",
              "    <path d=\"M0 0h24v24H0V0z\" fill=\"none\"/>\n",
              "    <path d=\"M18.56 5.44l.94 2.06.94-2.06 2.06-.94-2.06-.94-.94-2.06-.94 2.06-2.06.94zm-11 1L8.5 8.5l.94-2.06 2.06-.94-2.06-.94L8.5 2.5l-.94 2.06-2.06.94zm10 10l.94 2.06.94-2.06 2.06-.94-2.06-.94-.94-2.06-.94 2.06-2.06.94z\"/><path d=\"M17.41 7.96l-1.37-1.37c-.4-.4-.92-.59-1.43-.59-.52 0-1.04.2-1.43.59L10.3 9.45l-7.72 7.72c-.78.78-.78 2.05 0 2.83L4 21.41c.39.39.9.59 1.41.59.51 0 1.02-.2 1.41-.59l7.78-7.78 2.81-2.81c.8-.78.8-2.07 0-2.86zM5.41 20L4 18.59l7.72-7.72 1.47 1.35L5.41 20z\"/>\n",
              "  </svg>\n",
              "      </button>\n",
              "      \n",
              "  <style>\n",
              "    .colab-df-container {\n",
              "      display:flex;\n",
              "      flex-wrap:wrap;\n",
              "      gap: 12px;\n",
              "    }\n",
              "\n",
              "    .colab-df-convert {\n",
              "      background-color: #E8F0FE;\n",
              "      border: none;\n",
              "      border-radius: 50%;\n",
              "      cursor: pointer;\n",
              "      display: none;\n",
              "      fill: #1967D2;\n",
              "      height: 32px;\n",
              "      padding: 0 0 0 0;\n",
              "      width: 32px;\n",
              "    }\n",
              "\n",
              "    .colab-df-convert:hover {\n",
              "      background-color: #E2EBFA;\n",
              "      box-shadow: 0px 1px 2px rgba(60, 64, 67, 0.3), 0px 1px 3px 1px rgba(60, 64, 67, 0.15);\n",
              "      fill: #174EA6;\n",
              "    }\n",
              "\n",
              "    [theme=dark] .colab-df-convert {\n",
              "      background-color: #3B4455;\n",
              "      fill: #D2E3FC;\n",
              "    }\n",
              "\n",
              "    [theme=dark] .colab-df-convert:hover {\n",
              "      background-color: #434B5C;\n",
              "      box-shadow: 0px 1px 3px 1px rgba(0, 0, 0, 0.15);\n",
              "      filter: drop-shadow(0px 1px 2px rgba(0, 0, 0, 0.3));\n",
              "      fill: #FFFFFF;\n",
              "    }\n",
              "  </style>\n",
              "\n",
              "      <script>\n",
              "        const buttonEl =\n",
              "          document.querySelector('#df-1568d3fb-f15b-41e0-a7eb-1428de8cb30f button.colab-df-convert');\n",
              "        buttonEl.style.display =\n",
              "          google.colab.kernel.accessAllowed ? 'block' : 'none';\n",
              "\n",
              "        async function convertToInteractive(key) {\n",
              "          const element = document.querySelector('#df-1568d3fb-f15b-41e0-a7eb-1428de8cb30f');\n",
              "          const dataTable =\n",
              "            await google.colab.kernel.invokeFunction('convertToInteractive',\n",
              "                                                     [key], {});\n",
              "          if (!dataTable) return;\n",
              "\n",
              "          const docLinkHtml = 'Like what you see? Visit the ' +\n",
              "            '<a target=\"_blank\" href=https://colab.research.google.com/notebooks/data_table.ipynb>data table notebook</a>'\n",
              "            + ' to learn more about interactive tables.';\n",
              "          element.innerHTML = '';\n",
              "          dataTable['output_type'] = 'display_data';\n",
              "          await google.colab.output.renderOutput(dataTable, element);\n",
              "          const docLink = document.createElement('div');\n",
              "          docLink.innerHTML = docLinkHtml;\n",
              "          element.appendChild(docLink);\n",
              "        }\n",
              "      </script>\n",
              "    </div>\n",
              "  </div>\n",
              "  "
            ]
          },
          "metadata": {},
          "execution_count": 142
        }
      ],
      "source": [
        "# Переводим 2D набор items в 1D список\n",
        "recs_pairs= pd.DataFrame(recs_imp.values.ravel(), columns=['sys_numb'])\n",
        "\n",
        "# Добавляем индексы пользователей по порядку\n",
        "# одинаковый индекс для каждых top_n строк\n",
        "recs_pairs['chb'] = recs_pairs.index  // 20\n",
        "\n",
        "recs_pairs.head(3)"
      ]
    },
    {
      "cell_type": "code",
      "execution_count": null,
      "metadata": {
        "colab": {
          "base_uri": "https://localhost:8080/",
          "height": 143
        },
        "id": "BIxnwV0bM_yU",
        "outputId": "261c6827-9018-4b8b-8f0b-9683e904c195"
      },
      "outputs": [
        {
          "output_type": "execute_result",
          "data": {
            "text/plain": [
              "         sys_numb           chb\n",
              "0  RSL01004185091  100000641403\n",
              "1  RSL01003441482  100000641403\n",
              "2  RSL01004190969  100000641403"
            ],
            "text/html": [
              "\n",
              "  <div id=\"df-43fdcef7-7160-4785-bbfc-ae15ffef743b\">\n",
              "    <div class=\"colab-df-container\">\n",
              "      <div>\n",
              "<style scoped>\n",
              "    .dataframe tbody tr th:only-of-type {\n",
              "        vertical-align: middle;\n",
              "    }\n",
              "\n",
              "    .dataframe tbody tr th {\n",
              "        vertical-align: top;\n",
              "    }\n",
              "\n",
              "    .dataframe thead th {\n",
              "        text-align: right;\n",
              "    }\n",
              "</style>\n",
              "<table border=\"1\" class=\"dataframe\">\n",
              "  <thead>\n",
              "    <tr style=\"text-align: right;\">\n",
              "      <th></th>\n",
              "      <th>sys_numb</th>\n",
              "      <th>chb</th>\n",
              "    </tr>\n",
              "  </thead>\n",
              "  <tbody>\n",
              "    <tr>\n",
              "      <th>0</th>\n",
              "      <td>RSL01004185091</td>\n",
              "      <td>100000641403</td>\n",
              "    </tr>\n",
              "    <tr>\n",
              "      <th>1</th>\n",
              "      <td>RSL01003441482</td>\n",
              "      <td>100000641403</td>\n",
              "    </tr>\n",
              "    <tr>\n",
              "      <th>2</th>\n",
              "      <td>RSL01004190969</td>\n",
              "      <td>100000641403</td>\n",
              "    </tr>\n",
              "  </tbody>\n",
              "</table>\n",
              "</div>\n",
              "      <button class=\"colab-df-convert\" onclick=\"convertToInteractive('df-43fdcef7-7160-4785-bbfc-ae15ffef743b')\"\n",
              "              title=\"Convert this dataframe to an interactive table.\"\n",
              "              style=\"display:none;\">\n",
              "        \n",
              "  <svg xmlns=\"http://www.w3.org/2000/svg\" height=\"24px\"viewBox=\"0 0 24 24\"\n",
              "       width=\"24px\">\n",
              "    <path d=\"M0 0h24v24H0V0z\" fill=\"none\"/>\n",
              "    <path d=\"M18.56 5.44l.94 2.06.94-2.06 2.06-.94-2.06-.94-.94-2.06-.94 2.06-2.06.94zm-11 1L8.5 8.5l.94-2.06 2.06-.94-2.06-.94L8.5 2.5l-.94 2.06-2.06.94zm10 10l.94 2.06.94-2.06 2.06-.94-2.06-.94-.94-2.06-.94 2.06-2.06.94z\"/><path d=\"M17.41 7.96l-1.37-1.37c-.4-.4-.92-.59-1.43-.59-.52 0-1.04.2-1.43.59L10.3 9.45l-7.72 7.72c-.78.78-.78 2.05 0 2.83L4 21.41c.39.39.9.59 1.41.59.51 0 1.02-.2 1.41-.59l7.78-7.78 2.81-2.81c.8-.78.8-2.07 0-2.86zM5.41 20L4 18.59l7.72-7.72 1.47 1.35L5.41 20z\"/>\n",
              "  </svg>\n",
              "      </button>\n",
              "      \n",
              "  <style>\n",
              "    .colab-df-container {\n",
              "      display:flex;\n",
              "      flex-wrap:wrap;\n",
              "      gap: 12px;\n",
              "    }\n",
              "\n",
              "    .colab-df-convert {\n",
              "      background-color: #E8F0FE;\n",
              "      border: none;\n",
              "      border-radius: 50%;\n",
              "      cursor: pointer;\n",
              "      display: none;\n",
              "      fill: #1967D2;\n",
              "      height: 32px;\n",
              "      padding: 0 0 0 0;\n",
              "      width: 32px;\n",
              "    }\n",
              "\n",
              "    .colab-df-convert:hover {\n",
              "      background-color: #E2EBFA;\n",
              "      box-shadow: 0px 1px 2px rgba(60, 64, 67, 0.3), 0px 1px 3px 1px rgba(60, 64, 67, 0.15);\n",
              "      fill: #174EA6;\n",
              "    }\n",
              "\n",
              "    [theme=dark] .colab-df-convert {\n",
              "      background-color: #3B4455;\n",
              "      fill: #D2E3FC;\n",
              "    }\n",
              "\n",
              "    [theme=dark] .colab-df-convert:hover {\n",
              "      background-color: #434B5C;\n",
              "      box-shadow: 0px 1px 3px 1px rgba(0, 0, 0, 0.15);\n",
              "      filter: drop-shadow(0px 1px 2px rgba(0, 0, 0, 0.3));\n",
              "      fill: #FFFFFF;\n",
              "    }\n",
              "  </style>\n",
              "\n",
              "      <script>\n",
              "        const buttonEl =\n",
              "          document.querySelector('#df-43fdcef7-7160-4785-bbfc-ae15ffef743b button.colab-df-convert');\n",
              "        buttonEl.style.display =\n",
              "          google.colab.kernel.accessAllowed ? 'block' : 'none';\n",
              "\n",
              "        async function convertToInteractive(key) {\n",
              "          const element = document.querySelector('#df-43fdcef7-7160-4785-bbfc-ae15ffef743b');\n",
              "          const dataTable =\n",
              "            await google.colab.kernel.invokeFunction('convertToInteractive',\n",
              "                                                     [key], {});\n",
              "          if (!dataTable) return;\n",
              "\n",
              "          const docLinkHtml = 'Like what you see? Visit the ' +\n",
              "            '<a target=\"_blank\" href=https://colab.research.google.com/notebooks/data_table.ipynb>data table notebook</a>'\n",
              "            + ' to learn more about interactive tables.';\n",
              "          element.innerHTML = '';\n",
              "          dataTable['output_type'] = 'display_data';\n",
              "          await google.colab.output.renderOutput(dataTable, element);\n",
              "          const docLink = document.createElement('div');\n",
              "          docLink.innerHTML = docLinkHtml;\n",
              "          element.appendChild(docLink);\n",
              "        }\n",
              "      </script>\n",
              "    </div>\n",
              "  </div>\n",
              "  "
            ]
          },
          "metadata": {},
          "execution_count": 143
        }
      ],
      "source": [
        "# Используем обучающий датафрейм для обратного маппинга индексов\n",
        "recs_pairs['chb'] = recs_pairs['chb'].map(\n",
        "    recs_imp.reset_index().rename(columns={'index':'chb'}).chb.to_dict()\n",
        ")\n",
        "recs_pairs.head(3)"
      ]
    },
    {
      "cell_type": "code",
      "execution_count": null,
      "metadata": {
        "colab": {
          "base_uri": "https://localhost:8080/"
        },
        "id": "chFbMtG6Ok0g",
        "outputId": "721e6e71-df24-4ba3-adbf-8946ee31a199"
      },
      "outputs": [
        {
          "output_type": "stream",
          "name": "stdout",
          "text": [
            "Общие метрики для \"угадывания\" пар значений user-book:\n",
            "Угаданных книг: 23113\n",
            "Recall: 0.50276\n",
            "Precision: 0.09598\n",
            "F1-score: 0.16118\n"
          ]
        }
      ],
      "source": [
        "print('Общие метрики для \"угадывания\" пар значений user-book:')\n",
        "_ = contest_metric(recs_pairs, transactions_valid)"
      ]
    },
    {
      "cell_type": "markdown",
      "metadata": {
        "id": "SJpI44rbVv2h"
      },
      "source": [
        "**Вывод**\n",
        "\n",
        "1. Средние показатели precision и f1-score почти совпали с исходными метриками\n",
        "\n",
        "2. Усредненный recall показывает более оптимистичные результаты\n",
        "\n",
        "3. Преимущество нового подхода:\n",
        "\n",
        "  - не нужно переводить датафрейм в пары предсказаний user-book\n",
        "\n",
        "\n"
      ]
    },
    {
      "cell_type": "markdown",
      "metadata": {
        "id": "Ur5HkHUjBtpt"
      },
      "source": [
        "#### => Набор новых функций <=\n",
        "\n",
        "\n"
      ]
    },
    {
      "cell_type": "code",
      "execution_count": null,
      "metadata": {
        "id": "103hHm2xBsYo"
      },
      "outputs": [],
      "source": [
        "##################################################################\n",
        "# Подготовка данных для обучения\n",
        "##################################################################\n",
        "\n",
        "def recs_split_random(df, test_size):\n",
        "  \"\"\"\n",
        "  Возвращает train и test, разделенные c помощью np.random\n",
        "  \"\"\"\n",
        "\n",
        "  # Используем np.random для рандомизации индексов\n",
        "  df['random'] = np.random.random(size=len(df))\n",
        "\n",
        "  # Создаем маски индексов для train и test датасетов\n",
        "  # test_size - размер валидационной выборки\n",
        "  train_mask = df['random'] <  (1 - test_size)\n",
        "  test_mask = df['random'] >= (1 - test_size)\n",
        "  \n",
        "  # Разделяем датасет на train и test, используя маски индексов\n",
        "  train = df[train_mask]\n",
        "  test = df[test_mask]\n",
        "  return train, test\n",
        "\n",
        "\n",
        "def split_and_prepare_recs_data(data, user_col, item_col, test_size,\n",
        "                                weight_col='items', \n",
        "                                print_report=True,\n",
        "                                delete_test_duplicates=True):\n",
        "  \n",
        "  \"\"\"\n",
        "  Разделяет на выборки, готовит данные для рекомендательных моделей \n",
        "  и выводит количество неизвестных user и item в тесте\n",
        "\n",
        "  Возвращает train, test, полный датасет и веса\n",
        "  Если в датасете только уникальные пары user-item, то все веса = 1\n",
        "  \"\"\"\n",
        "\n",
        "  train_with_duplicates, test_data = recs_split_random(data, test_size)\n",
        "  all_data = data\n",
        "  \n",
        "  # Если создаем матрицу для implicit feedback (0, 1)\n",
        "  if weight_col == 'items':\n",
        "    # Отбираем столбцы с данными о пользователях и объектов рекомендации\n",
        "    # Добавляем данные c частотой каждой пары user-item в поле 'items'\n",
        "    train_data = (train_with_duplicates.groupby([user_col, item_col])\n",
        "                  .size()\n",
        "                  .to_frame('items')\n",
        "                  .reset_index())\n",
        "    \n",
        "    all_data = (data.groupby([user_col, item_col])\n",
        "                  .size()\n",
        "                  .to_frame('items')\n",
        "                  .reset_index()) \n",
        "    \n",
        "  # Удаляем дубликаты в тестовых данных\n",
        "  if delete_test_duplicates == True:    \n",
        "      test_data = (test_data.groupby([user_col, item_col])\n",
        "                    .size()\n",
        "                    .to_frame('items')\n",
        "                    .reset_index())  \n",
        "\n",
        "  # Нормализуем данные в поле weight_col\n",
        "  # train_weight = np.log2(train_data[weight_col] + 1)  \n",
        "  # all_weight = np.log2(all_data[weight_col] + 1)\n",
        "  # Не используем нормализацию\n",
        "  train_weight = train_data[weight_col]\n",
        "  all_weight = all_data[weight_col]\n",
        "\n",
        "  # Отдельные датасеты для пар user-item \n",
        "  train_data = train_data[[user_col, item_col]]\n",
        "  test_data = test_data[[user_col, item_col]]\n",
        "  all_data = all_data[[user_col, item_col]]\n",
        "\n",
        "  # Cписки уникальных пользователей для train и test\n",
        "  train_users = np.sort(train_data[user_col].unique())\n",
        "  test_users = np.sort(test_data[user_col].unique())\n",
        "\n",
        "  # Списки уникальных items для train и test\n",
        "  train_items= np.sort(train_data[item_col].unique())\n",
        "  test_items= np.sort(test_data[item_col].unique())\n",
        "\n",
        "  # Новые users и items, незнакомые для модели\n",
        "  # они не попадут в обучение\n",
        "  cold_start_items = set(test_items) - set(train_items)\n",
        "  cold_start_users = set(test_users) - set(train_users)\n",
        "\n",
        "  if print_report:\n",
        "    print(\"=> Количество пользователей\")\n",
        "    print(f\"Общий датасет: {len(unique_transactions[user_col].unique())}\")\n",
        "    print(f\"Обучающая выборка: {len(train_users)}\")\n",
        "    print(f\"Валидационная выборка: {len(test_users)}\")\n",
        "    print()    \n",
        "    print(\"=> Проблема cold start для модели\")\n",
        "    print(\"Неизвестных пользователей:\", len(cold_start_users))\n",
        "    print(\"Неизвестных объектов:\", len(cold_start_items))\n",
        "  \n",
        "  # Набор датасетов для обучения рекомендательных моделей\n",
        "  recs_datasets = {\n",
        "      'train_user_item': train_data,\n",
        "      'test_user_item': test_data,\n",
        "      'all_user_item': all_data,\n",
        "      'train_weight': train_weight,\n",
        "      # 'test_weight': test_weight,\n",
        "      'all_weight': all_weight,\n",
        "\n",
        "      # обучающая выборка с дубликатами\n",
        "      'train_all': train_with_duplicates\n",
        "  }\n",
        "  return recs_datasets\n",
        "\n",
        "def get_user_item_matrix(user_items_df, user_col, item_col, \n",
        "                         user_item_weight_list):\n",
        "\n",
        "  \"\"\"Генерирует СSR-матрицу user-items в формате индексов для обучения моделей\n",
        "  \n",
        "  Возвращает:\n",
        "  -------\n",
        "  csr-матрица user-items с индексами\n",
        "  словари для обратного перевода индексов user и item в исходные названия\n",
        "  \"\"\"\n",
        "  \n",
        "  # Cловари для маппинга индексов ID -> читатель/книга\n",
        "  index_to_user = pd.Series(np.sort(np.unique(user_items_df[user_col])))\n",
        "  index_to_item = pd.Series(np.sort(np.unique(user_items_df[item_col])))\n",
        "\n",
        "  # Словари для обратного маппинга\n",
        "  user_to_index = pd.Series(data=index_to_user.index, \n",
        "                            index=index_to_user.values)\n",
        "  item_to_index = pd.Series(data=index_to_item.index, \n",
        "                            index=index_to_item.values)\n",
        "\n",
        "  # Добавляем индексы в обучающий датасет\n",
        "  user_items_df_indexed = user_items_df.copy()\n",
        "  user_items_df_indexed['user_id'] = user_items_df[user_col].map(user_to_index)\n",
        "  user_items_df_indexed['item_id'] = user_items_df[item_col].map(item_to_index)\n",
        "\n",
        "  # Данные для перевода датасета в CSR матрицу\n",
        "  data = user_item_weight_list\n",
        "  rows = user_items_df_indexed['user_id']\n",
        "  cols = user_items_df_indexed['item_id']\n",
        "\n",
        "  # CSR матрица user(строки)-books(столбцы)\n",
        "  user_items_csr = csr_matrix((data, (rows, cols)), \n",
        "                              shape=(len(user_to_index), len(item_to_index)))\n",
        "\n",
        "  return user_items_csr, index_to_user, index_to_item\n",
        "\n",
        "\n",
        "########################################################################\n",
        "# Получение рекомендаций с помощью моделей implicit\n",
        "########################################################################\n",
        "\n",
        "def get_implicit_recommendations(trained_model_imp, user_items_matrix, \n",
        "                                 index_to_user_map, index_to_item_map, \n",
        "                                 top_n=20, filter_liked_items=True):  \n",
        "  \"\"\"\n",
        "  Генерирует top_n рекомендаций с обученной моделью библиотеки implicit\n",
        "\n",
        "  Возвращает:\n",
        "  ----------\n",
        "  Датафрейм, где каждая строка - список top_n рекомендаций для пользователя\n",
        "  индексы - названия users, \n",
        "  данные - названия items из словарей index_to_user_map, index_to_item_map\n",
        "  \"\"\"\n",
        "\n",
        "  # Получаем список рекомендаций - матрица с индексами книг и читателей\n",
        "  recs_matrix = trained_model_imp.recommend_all(\n",
        "      user_items=user_items_matrix, \n",
        "      N=top_n, \n",
        "      filter_already_liked_items=filter_liked_items\n",
        "  )\n",
        "\n",
        "  # Создаем датафрейм\n",
        "  # Переводим индексы в исходные названия user и item\n",
        "  recs_df = (\n",
        "      pd.DataFrame(recs_matrix, index=index_to_user_map)\n",
        "      .apply(lambda c: c.map(index_to_item_map))\n",
        "  )\n",
        "\n",
        "  return recs_df\n",
        "\n",
        "\n",
        "def get_avg_recs_metrics(recs_matrix, valid_user_items_df,\n",
        "                               user_col, item_col, \n",
        "                               print_report=True, round_n=4):\n",
        "  \"\"\"\n",
        "  Считает и выводит усредненные метрики для матрицы рекомендаций\n",
        "\n",
        "  Параметры:\n",
        "  ---------\n",
        "  recs_matrix - матрица предсказаний, строка = список рекомендаций для пользователя\n",
        "  valid_user_items_df - валидационный датасет \n",
        "  \"\"\"\n",
        "  # Создаем словарь из валидационного датасета\n",
        "  # ключ = user_name, значения = item_name\n",
        "  user_items_dict = (\n",
        "      valid_user_items_df\n",
        "      .groupby(user_col)[item_col]\n",
        "      .apply(set).to_dict()\n",
        "  )\n",
        "  \n",
        "  # Ищем пересечение множества пользователей, на которых была обучена модель\n",
        "  # с пользователями в валидационном датасете\n",
        "  train_users = recs_matrix.index.to_list()\n",
        "  valid_users = valid_user_items_df[user_col].unique()\n",
        "  users_to_compare = set(train_users) & set(valid_users)\n",
        "\n",
        "  # Считаем усредненные метрики по всем пользователям\n",
        "  # hit-rate, precision, recall и f1-score\n",
        "  hitrate = round(\n",
        "      np.mean([int(len(set(recs_matrix.loc[u]) & user_items_dict[u]) > 0) for u in users_to_compare]), round_n)\n",
        "\n",
        "  precision = round(\n",
        "      np.mean([\n",
        "      len(set(recs_matrix.loc[u]) & user_items_dict[u]) / \n",
        "      len(recs_matrix.loc[u]) for u in users_to_compare]), 5)\n",
        "\n",
        "  recall = round(\n",
        "      np.mean([\n",
        "      len(set(recs_matrix.loc[u]) & user_items_dict[u]) / \n",
        "      len(user_items_dict[u]) for u in users_to_compare]), 5)\n",
        "\n",
        "  f1_score = round(\n",
        "      2 * (precision * recall) / (precision + recall), 5)\n",
        "\n",
        "\n",
        "  if print_report:\n",
        "    print(f\"Hit-Rate_avg: {hitrate}\")\n",
        "    print(f\"Recall_avg: {precision}\")\n",
        "    print(f\"Precision_avg: {recall}\")\n",
        "    print(f\"F1-score_avg: {f1_score}\")\n",
        "    \n",
        "  return [hitrate, precision, recall, f1_score]"
      ]
    },
    {
      "cell_type": "markdown",
      "metadata": {
        "id": "xjuccwYPXPHT"
      },
      "source": [
        "#### Общий вывод\n",
        "\n",
        "1. Мы подготовили более производительное решение для ALS \n",
        "\n",
        "  - Качество модели осталось без изменений\n",
        "\n",
        "  - Подобрали новый набор метрик, который лучше отражает качество предсказаний для персональных рекомендаций\n",
        "---\n",
        "2. Протестировали новый подход:\n",
        "  - Научились эффективно использовать дубликаты в данных, если использовать нормализацию\n",
        "\n",
        "\n",
        "Теперь мы готовы испытать решение RankFM\n"
      ]
    },
    {
      "cell_type": "markdown",
      "metadata": {
        "id": "Cc_jUTO1vmf-"
      },
      "source": [
        "### (2.2) RankFM - Factorization Machines"
      ]
    },
    {
      "cell_type": "markdown",
      "metadata": {
        "id": "4PvjyK3XwIuK"
      },
      "source": [
        "RankFM - это одна из библиотек, в которой реализованы методы Factorization Machines.\n",
        "\n",
        "- альтернативы - библиотеки Implicit, LightFM \n",
        "\n",
        "Мы испытаем технику LTR, есть две loss-функции:\n",
        " - bpr (рекомендуют для implicit feedback, не зависит от весов)\n",
        " - warp\n",
        "\n",
        "Посмотрим, какие результаты получим без добавления дополнительных признаков:)\n",
        "\n",
        "Разработчики утверждают, что даже такой базовый вариант должен дать более высокий результат, чем ALS."
      ]
    },
    {
      "cell_type": "markdown",
      "metadata": {
        "id": "dsQhC2XXxuPP"
      },
      "source": [
        "#### Подготовка данных"
      ]
    },
    {
      "cell_type": "markdown",
      "metadata": {
        "id": "rOGx7_LV64vV"
      },
      "source": [
        "Все те же шаги, которые мы уже выполняли для метода ALS, только теперь воспользуемся готовыми функциями.\n",
        "\n",
        "Главные отличия:\n",
        "\n",
        "- для обучения не потребуются csr-матрицы\n",
        "- нет необходимости для дополнительной индексации книг и читателей\n"
      ]
    },
    {
      "cell_type": "code",
      "source": [
        "# Словарь с предобработанными датасетам для обучения\n",
        "recs_dict = split_and_prepare_recs_data(unique_transactions, \n",
        "                                        'chb', 'sys_numb', 0.2)"
      ],
      "metadata": {
        "colab": {
          "base_uri": "https://localhost:8080/"
        },
        "id": "qjXpex45gVy_",
        "outputId": "6d2067e6-e4a6-4297-bb73-c825cf78726c"
      },
      "execution_count": null,
      "outputs": [
        {
          "output_type": "stream",
          "name": "stdout",
          "text": [
            "=> Количество пользователей\n",
            "Общий датасет: 16753\n",
            "Обучающая выборка: 16668\n",
            "Валидационная выборка: 12088\n",
            "\n",
            "=> Проблема cold start для модели\n",
            "Неизвестных пользователей: 85\n",
            "Неизвестных объектов: 34727\n"
          ]
        }
      ]
    },
    {
      "cell_type": "markdown",
      "metadata": {
        "id": "V0WDsuLHxzdz"
      },
      "source": [
        "#### Обучение модели и результаты\n"
      ]
    },
    {
      "cell_type": "code",
      "execution_count": null,
      "metadata": {
        "id": "l1Hf6gozx64T",
        "colab": {
          "base_uri": "https://localhost:8080/"
        },
        "outputId": "7e6a7257-e595-4972-dede-0dd0f37b9b48"
      },
      "outputs": [
        {
          "output_type": "stream",
          "name": "stdout",
          "text": [
            "\n",
            "training epoch: 0\n",
            "log likelihood: -142373.84375\n",
            "\n",
            "training epoch: 1\n",
            "log likelihood: -75539.2109375\n",
            "\n",
            "training epoch: 2\n",
            "log likelihood: -36011.44140625\n",
            "\n",
            "training epoch: 3\n",
            "log likelihood: -25563.3203125\n",
            "\n",
            "training epoch: 4\n",
            "log likelihood: -21487.5\n",
            "\n",
            "training epoch: 5\n",
            "log likelihood: -19394.759765625\n",
            "\n",
            "training epoch: 6\n",
            "log likelihood: -18075.16015625\n",
            "\n",
            "training epoch: 7\n",
            "log likelihood: -17202.25\n",
            "\n",
            "training epoch: 8\n",
            "log likelihood: -16556.91015625\n",
            "\n",
            "training epoch: 9\n",
            "log likelihood: -16070.9404296875\n",
            "\n",
            "training epoch: 10\n",
            "log likelihood: -15681.2001953125\n",
            "\n",
            "training epoch: 11\n",
            "log likelihood: -15360.7802734375\n",
            "\n",
            "training epoch: 12\n",
            "log likelihood: -15100.259765625\n",
            "\n",
            "training epoch: 13\n",
            "log likelihood: -14874.7001953125\n",
            "\n",
            "training epoch: 14\n",
            "log likelihood: -14661.23046875\n",
            "\n",
            "training epoch: 15\n",
            "log likelihood: -14493.1103515625\n",
            "\n",
            "training epoch: 16\n",
            "log likelihood: -14328.759765625\n",
            "\n",
            "training epoch: 17\n",
            "log likelihood: -14198.23046875\n",
            "\n",
            "training epoch: 18\n",
            "log likelihood: -14074.849609375\n",
            "\n",
            "training epoch: 19\n",
            "log likelihood: -13952.5\n",
            "\n",
            "training epoch: 20\n",
            "log likelihood: -13845.9404296875\n",
            "\n",
            "training epoch: 21\n",
            "log likelihood: -13741.1396484375\n",
            "\n",
            "training epoch: 22\n",
            "log likelihood: -13657.25\n",
            "\n",
            "training epoch: 23\n",
            "log likelihood: -13573.7197265625\n",
            "\n",
            "training epoch: 24\n",
            "log likelihood: -13492.01953125\n",
            "\n",
            "training epoch: 25\n",
            "log likelihood: -13410.0\n",
            "\n",
            "training epoch: 26\n",
            "log likelihood: -13337.2900390625\n",
            "\n",
            "training epoch: 27\n",
            "log likelihood: -13273.830078125\n",
            "\n",
            "training epoch: 28\n",
            "log likelihood: -13211.4296875\n",
            "\n",
            "training epoch: 29\n",
            "log likelihood: -13152.650390625\n",
            "\n",
            "training epoch: 30\n",
            "log likelihood: -13098.5498046875\n",
            "\n",
            "training epoch: 31\n",
            "log likelihood: -13040.98046875\n",
            "\n",
            "training epoch: 32\n",
            "log likelihood: -12989.650390625\n",
            "\n",
            "training epoch: 33\n",
            "log likelihood: -12946.5\n",
            "\n",
            "training epoch: 34\n",
            "log likelihood: -12891.2099609375\n",
            "\n",
            "training epoch: 35\n",
            "log likelihood: -12852.080078125\n",
            "\n",
            "training epoch: 36\n",
            "log likelihood: -12814.0595703125\n",
            "\n",
            "training epoch: 37\n",
            "log likelihood: -12766.599609375\n",
            "\n",
            "training epoch: 38\n",
            "log likelihood: -12732.8701171875\n",
            "\n",
            "training epoch: 39\n",
            "log likelihood: -12692.1396484375\n",
            "\n",
            "training epoch: 40\n",
            "log likelihood: -12658.7802734375\n",
            "\n",
            "training epoch: 41\n",
            "log likelihood: -12633.900390625\n",
            "\n",
            "training epoch: 42\n",
            "log likelihood: -12593.3896484375\n",
            "\n",
            "training epoch: 43\n",
            "log likelihood: -12555.3603515625\n",
            "\n",
            "training epoch: 44\n",
            "log likelihood: -12527.9404296875\n",
            "\n",
            "training epoch: 45\n",
            "log likelihood: -12501.25\n",
            "\n",
            "training epoch: 46\n",
            "log likelihood: -12470.099609375\n",
            "\n",
            "training epoch: 47\n",
            "log likelihood: -12436.23046875\n",
            "\n",
            "training epoch: 48\n",
            "log likelihood: -12425.5302734375\n",
            "\n",
            "training epoch: 49\n",
            "log likelihood: -12391.830078125\n",
            "\n",
            "training epoch: 50\n",
            "log likelihood: -12375.6201171875\n",
            "\n",
            "training epoch: 51\n",
            "log likelihood: -12346.8896484375\n",
            "\n",
            "training epoch: 52\n",
            "log likelihood: -12327.349609375\n",
            "\n",
            "training epoch: 53\n",
            "log likelihood: -12305.0\n",
            "\n",
            "training epoch: 54\n",
            "log likelihood: -12280.0703125\n",
            "\n",
            "training epoch: 55\n",
            "log likelihood: -12260.7998046875\n",
            "\n",
            "training epoch: 56\n",
            "log likelihood: -12242.349609375\n",
            "\n",
            "training epoch: 57\n",
            "log likelihood: -12222.400390625\n",
            "\n",
            "training epoch: 58\n",
            "log likelihood: -12203.1201171875\n",
            "\n",
            "training epoch: 59\n",
            "log likelihood: -12193.4404296875\n",
            "\n",
            "training epoch: 60\n",
            "log likelihood: -12177.1904296875\n",
            "\n",
            "training epoch: 61\n",
            "log likelihood: -12159.7998046875\n",
            "\n",
            "training epoch: 62\n",
            "log likelihood: -12140.2900390625\n",
            "\n",
            "training epoch: 63\n",
            "log likelihood: -12125.669921875\n",
            "\n",
            "training epoch: 64\n",
            "log likelihood: -12106.8203125\n",
            "\n",
            "training epoch: 65\n",
            "log likelihood: -12104.7900390625\n",
            "\n",
            "training epoch: 66\n",
            "log likelihood: -12085.7998046875\n",
            "\n",
            "training epoch: 67\n",
            "log likelihood: -12068.009765625\n",
            "\n",
            "training epoch: 68\n",
            "log likelihood: -12051.5302734375\n",
            "\n",
            "training epoch: 69\n",
            "log likelihood: -12044.3603515625\n",
            "\n",
            "training epoch: 70\n",
            "log likelihood: -12034.4697265625\n",
            "\n",
            "training epoch: 71\n",
            "log likelihood: -12016.58984375\n",
            "\n",
            "training epoch: 72\n",
            "log likelihood: -12010.849609375\n",
            "\n",
            "training epoch: 73\n",
            "log likelihood: -11998.7099609375\n",
            "\n",
            "training epoch: 74\n",
            "log likelihood: -11984.66015625\n",
            "\n",
            "training epoch: 75\n",
            "log likelihood: -11979.76953125\n",
            "\n",
            "training epoch: 76\n",
            "log likelihood: -11964.0498046875\n",
            "\n",
            "training epoch: 77\n",
            "log likelihood: -11949.2099609375\n",
            "\n",
            "training epoch: 78\n",
            "log likelihood: -11952.3203125\n",
            "\n",
            "training epoch: 79\n",
            "log likelihood: -11931.7900390625\n",
            "\n",
            "training epoch: 80\n",
            "log likelihood: -11929.6201171875\n",
            "\n",
            "training epoch: 81\n",
            "log likelihood: -11917.8203125\n",
            "\n",
            "training epoch: 82\n",
            "log likelihood: -11912.1103515625\n",
            "\n",
            "training epoch: 83\n",
            "log likelihood: -11903.08984375\n",
            "\n",
            "training epoch: 84\n",
            "log likelihood: -11896.740234375\n",
            "\n",
            "training epoch: 85\n",
            "log likelihood: -11890.080078125\n",
            "\n",
            "training epoch: 86\n",
            "log likelihood: -11881.5498046875\n",
            "\n",
            "training epoch: 87\n",
            "log likelihood: -11873.9697265625\n",
            "\n",
            "training epoch: 88\n",
            "log likelihood: -11860.3896484375\n",
            "\n",
            "training epoch: 89\n",
            "log likelihood: -11864.6298828125\n",
            "\n",
            "training epoch: 90\n",
            "log likelihood: -11846.2802734375\n",
            "\n",
            "training epoch: 91\n",
            "log likelihood: -11849.080078125\n",
            "\n",
            "training epoch: 92\n",
            "log likelihood: -11836.3896484375\n",
            "\n",
            "training epoch: 93\n",
            "log likelihood: -11833.33984375\n",
            "\n",
            "training epoch: 94\n",
            "log likelihood: -11827.9296875\n",
            "\n",
            "training epoch: 95\n",
            "log likelihood: -11822.900390625\n",
            "\n",
            "training epoch: 96\n",
            "log likelihood: -11813.2001953125\n",
            "\n",
            "training epoch: 97\n",
            "log likelihood: -11806.849609375\n",
            "\n",
            "training epoch: 98\n",
            "log likelihood: -11800.9404296875\n",
            "\n",
            "training epoch: 99\n",
            "log likelihood: -11797.9697265625\n",
            "\n",
            "training epoch: 100\n",
            "log likelihood: -11799.0\n",
            "\n",
            "training epoch: 101\n",
            "log likelihood: -11781.6396484375\n",
            "\n",
            "training epoch: 102\n",
            "log likelihood: -11788.5302734375\n",
            "\n",
            "training epoch: 103\n",
            "log likelihood: -11776.0595703125\n",
            "\n",
            "training epoch: 104\n",
            "log likelihood: -11774.1904296875\n",
            "\n",
            "training epoch: 105\n",
            "log likelihood: -11773.8203125\n",
            "\n",
            "training epoch: 106\n",
            "log likelihood: -11769.76953125\n",
            "\n",
            "training epoch: 107\n",
            "log likelihood: -11763.98046875\n",
            "\n",
            "training epoch: 108\n",
            "log likelihood: -11751.08984375\n",
            "\n",
            "training epoch: 109\n",
            "log likelihood: -11747.3896484375\n",
            "\n",
            "training epoch: 110\n",
            "log likelihood: -11749.990234375\n",
            "\n",
            "training epoch: 111\n",
            "log likelihood: -11746.6298828125\n",
            "\n",
            "training epoch: 112\n",
            "log likelihood: -11733.3896484375\n",
            "\n",
            "training epoch: 113\n",
            "log likelihood: -11738.76953125\n",
            "\n",
            "training epoch: 114\n",
            "log likelihood: -11734.830078125\n"
          ]
        }
      ],
      "source": [
        "model = RankFM(factors=200, \n",
        "               loss='warp', max_samples=3,  learning_rate=0.4)\n",
        "\n",
        "model.fit(recs_dict['train_user_item'],          \n",
        "          epochs=115,\n",
        "          verbose=True)"
      ]
    },
    {
      "cell_type": "code",
      "execution_count": null,
      "metadata": {
        "id": "Pp74bYlvQjSd"
      },
      "outputs": [],
      "source": [
        "# Сохраняем обученную модель\n",
        "\n",
        "with open('rankfm_model_books', 'wb') as fle:\n",
        "    pickle.dump(model, fle, protocol=pickle.HIGHEST_PROTOCOL)\n"
      ]
    },
    {
      "cell_type": "markdown",
      "metadata": {
        "id": "KT3EX523Bajj"
      },
      "source": [
        "**Вывод 1**\n",
        "\n",
        "1. С каждой эпохой модель сходится все лучше, но очень небольшими шагами.\n",
        "\n",
        "  - можно будет поработать над тюнингом параметров\n",
        "\n",
        "2. Скорость обучения значительно более низкая, чем с ALS.\n",
        "\n",
        "Стоила ли игра свеч, получим ли более высокие результаты??"
      ]
    },
    {
      "cell_type": "code",
      "execution_count": null,
      "metadata": {
        "id": "f4SRdUyXK3Io"
      },
      "outputs": [],
      "source": [
        "# Генерируем рекомендации\n",
        "all_users_predictions = model.recommend(\n",
        "    recs_dict['train_user_item'].chb.unique(), \n",
        "    n_items=20, filter_previous=True, cold_start='drop')"
      ]
    },
    {
      "cell_type": "markdown",
      "source": [
        "- Генерация рекомендаций заняла 14 минут!"
      ],
      "metadata": {
        "id": "uKcENrWHk34f"
      }
    },
    {
      "cell_type": "code",
      "source": [
        "all_users_predictions.head(3)"
      ],
      "metadata": {
        "colab": {
          "base_uri": "https://localhost:8080/",
          "height": 207
        },
        "id": "frALsDo7mfSs",
        "outputId": "b63690d9-8264-4f29-8022-7e6ff7cb19e6"
      },
      "execution_count": null,
      "outputs": [
        {
          "output_type": "execute_result",
          "data": {
            "text/plain": [
              "                          0               1               2               3   \\\n",
              "100000641403  RSL01004191071  RSL01007657281  RSL01004462230  RSL01003783075   \n",
              "100000644359  RSL01009839571  RSL01010705965  RSL01010247222  RSL07000458969   \n",
              "100000665127  RSL01008069959  RSL01010257833  RSL01001751573  RSL01010256248   \n",
              "\n",
              "                          4               5               6               7   \\\n",
              "100000641403  RSL01007528691  RSL01004185702  RSL01007975629  RSL01004190969   \n",
              "100000644359  RSL01010278914  RSL01010247947  RSL01004937178  RSL01010559974   \n",
              "100000665127  RSL01003301462  RSL01003388020  RSL01004914143  RSL01005472644   \n",
              "\n",
              "                          8               9               10              11  \\\n",
              "100000641403  RSL01003441482  RSL02000000555  RSL01004221786  RSL01003639696   \n",
              "100000644359  RSL01002304107  RSL01002884697  RSL01010582576  RSL01010553020   \n",
              "100000665127  RSL01002864722  RSL01009819710  RSL01010274592  RSL01010559359   \n",
              "\n",
              "                          12              13              14              15  \\\n",
              "100000641403  RSL01004186500  RSL01008477654  RSL01003589346  RSL01002393437   \n",
              "100000644359  RSL01004230805  RSL01003172361  RSL01007901236  RSL01005411637   \n",
              "100000665127  RSL01006281612  RSL01003141778  RSL01005376787  RSL01003423392   \n",
              "\n",
              "                          16              17              18              19  \n",
              "100000641403  RSL01004196026  RSL01007657422  RSL01003601634  RSL01004185091  \n",
              "100000644359  RSL07000489922  RSL01004096658  RSL01008299587  RSL01010723682  \n",
              "100000665127  RSL01003705868  RSL01003189375  RSL01004500694  RSL01003449085  "
            ],
            "text/html": [
              "\n",
              "  <div id=\"df-5bd3e41c-3481-456f-9227-b4fa013427f3\">\n",
              "    <div class=\"colab-df-container\">\n",
              "      <div>\n",
              "<style scoped>\n",
              "    .dataframe tbody tr th:only-of-type {\n",
              "        vertical-align: middle;\n",
              "    }\n",
              "\n",
              "    .dataframe tbody tr th {\n",
              "        vertical-align: top;\n",
              "    }\n",
              "\n",
              "    .dataframe thead th {\n",
              "        text-align: right;\n",
              "    }\n",
              "</style>\n",
              "<table border=\"1\" class=\"dataframe\">\n",
              "  <thead>\n",
              "    <tr style=\"text-align: right;\">\n",
              "      <th></th>\n",
              "      <th>0</th>\n",
              "      <th>1</th>\n",
              "      <th>2</th>\n",
              "      <th>3</th>\n",
              "      <th>4</th>\n",
              "      <th>5</th>\n",
              "      <th>6</th>\n",
              "      <th>7</th>\n",
              "      <th>8</th>\n",
              "      <th>9</th>\n",
              "      <th>10</th>\n",
              "      <th>11</th>\n",
              "      <th>12</th>\n",
              "      <th>13</th>\n",
              "      <th>14</th>\n",
              "      <th>15</th>\n",
              "      <th>16</th>\n",
              "      <th>17</th>\n",
              "      <th>18</th>\n",
              "      <th>19</th>\n",
              "    </tr>\n",
              "  </thead>\n",
              "  <tbody>\n",
              "    <tr>\n",
              "      <th>100000641403</th>\n",
              "      <td>RSL01004191071</td>\n",
              "      <td>RSL01007657281</td>\n",
              "      <td>RSL01004462230</td>\n",
              "      <td>RSL01003783075</td>\n",
              "      <td>RSL01007528691</td>\n",
              "      <td>RSL01004185702</td>\n",
              "      <td>RSL01007975629</td>\n",
              "      <td>RSL01004190969</td>\n",
              "      <td>RSL01003441482</td>\n",
              "      <td>RSL02000000555</td>\n",
              "      <td>RSL01004221786</td>\n",
              "      <td>RSL01003639696</td>\n",
              "      <td>RSL01004186500</td>\n",
              "      <td>RSL01008477654</td>\n",
              "      <td>RSL01003589346</td>\n",
              "      <td>RSL01002393437</td>\n",
              "      <td>RSL01004196026</td>\n",
              "      <td>RSL01007657422</td>\n",
              "      <td>RSL01003601634</td>\n",
              "      <td>RSL01004185091</td>\n",
              "    </tr>\n",
              "    <tr>\n",
              "      <th>100000644359</th>\n",
              "      <td>RSL01009839571</td>\n",
              "      <td>RSL01010705965</td>\n",
              "      <td>RSL01010247222</td>\n",
              "      <td>RSL07000458969</td>\n",
              "      <td>RSL01010278914</td>\n",
              "      <td>RSL01010247947</td>\n",
              "      <td>RSL01004937178</td>\n",
              "      <td>RSL01010559974</td>\n",
              "      <td>RSL01002304107</td>\n",
              "      <td>RSL01002884697</td>\n",
              "      <td>RSL01010582576</td>\n",
              "      <td>RSL01010553020</td>\n",
              "      <td>RSL01004230805</td>\n",
              "      <td>RSL01003172361</td>\n",
              "      <td>RSL01007901236</td>\n",
              "      <td>RSL01005411637</td>\n",
              "      <td>RSL07000489922</td>\n",
              "      <td>RSL01004096658</td>\n",
              "      <td>RSL01008299587</td>\n",
              "      <td>RSL01010723682</td>\n",
              "    </tr>\n",
              "    <tr>\n",
              "      <th>100000665127</th>\n",
              "      <td>RSL01008069959</td>\n",
              "      <td>RSL01010257833</td>\n",
              "      <td>RSL01001751573</td>\n",
              "      <td>RSL01010256248</td>\n",
              "      <td>RSL01003301462</td>\n",
              "      <td>RSL01003388020</td>\n",
              "      <td>RSL01004914143</td>\n",
              "      <td>RSL01005472644</td>\n",
              "      <td>RSL01002864722</td>\n",
              "      <td>RSL01009819710</td>\n",
              "      <td>RSL01010274592</td>\n",
              "      <td>RSL01010559359</td>\n",
              "      <td>RSL01006281612</td>\n",
              "      <td>RSL01003141778</td>\n",
              "      <td>RSL01005376787</td>\n",
              "      <td>RSL01003423392</td>\n",
              "      <td>RSL01003705868</td>\n",
              "      <td>RSL01003189375</td>\n",
              "      <td>RSL01004500694</td>\n",
              "      <td>RSL01003449085</td>\n",
              "    </tr>\n",
              "  </tbody>\n",
              "</table>\n",
              "</div>\n",
              "      <button class=\"colab-df-convert\" onclick=\"convertToInteractive('df-5bd3e41c-3481-456f-9227-b4fa013427f3')\"\n",
              "              title=\"Convert this dataframe to an interactive table.\"\n",
              "              style=\"display:none;\">\n",
              "        \n",
              "  <svg xmlns=\"http://www.w3.org/2000/svg\" height=\"24px\"viewBox=\"0 0 24 24\"\n",
              "       width=\"24px\">\n",
              "    <path d=\"M0 0h24v24H0V0z\" fill=\"none\"/>\n",
              "    <path d=\"M18.56 5.44l.94 2.06.94-2.06 2.06-.94-2.06-.94-.94-2.06-.94 2.06-2.06.94zm-11 1L8.5 8.5l.94-2.06 2.06-.94-2.06-.94L8.5 2.5l-.94 2.06-2.06.94zm10 10l.94 2.06.94-2.06 2.06-.94-2.06-.94-.94-2.06-.94 2.06-2.06.94z\"/><path d=\"M17.41 7.96l-1.37-1.37c-.4-.4-.92-.59-1.43-.59-.52 0-1.04.2-1.43.59L10.3 9.45l-7.72 7.72c-.78.78-.78 2.05 0 2.83L4 21.41c.39.39.9.59 1.41.59.51 0 1.02-.2 1.41-.59l7.78-7.78 2.81-2.81c.8-.78.8-2.07 0-2.86zM5.41 20L4 18.59l7.72-7.72 1.47 1.35L5.41 20z\"/>\n",
              "  </svg>\n",
              "      </button>\n",
              "      \n",
              "  <style>\n",
              "    .colab-df-container {\n",
              "      display:flex;\n",
              "      flex-wrap:wrap;\n",
              "      gap: 12px;\n",
              "    }\n",
              "\n",
              "    .colab-df-convert {\n",
              "      background-color: #E8F0FE;\n",
              "      border: none;\n",
              "      border-radius: 50%;\n",
              "      cursor: pointer;\n",
              "      display: none;\n",
              "      fill: #1967D2;\n",
              "      height: 32px;\n",
              "      padding: 0 0 0 0;\n",
              "      width: 32px;\n",
              "    }\n",
              "\n",
              "    .colab-df-convert:hover {\n",
              "      background-color: #E2EBFA;\n",
              "      box-shadow: 0px 1px 2px rgba(60, 64, 67, 0.3), 0px 1px 3px 1px rgba(60, 64, 67, 0.15);\n",
              "      fill: #174EA6;\n",
              "    }\n",
              "\n",
              "    [theme=dark] .colab-df-convert {\n",
              "      background-color: #3B4455;\n",
              "      fill: #D2E3FC;\n",
              "    }\n",
              "\n",
              "    [theme=dark] .colab-df-convert:hover {\n",
              "      background-color: #434B5C;\n",
              "      box-shadow: 0px 1px 3px 1px rgba(0, 0, 0, 0.15);\n",
              "      filter: drop-shadow(0px 1px 2px rgba(0, 0, 0, 0.3));\n",
              "      fill: #FFFFFF;\n",
              "    }\n",
              "  </style>\n",
              "\n",
              "      <script>\n",
              "        const buttonEl =\n",
              "          document.querySelector('#df-5bd3e41c-3481-456f-9227-b4fa013427f3 button.colab-df-convert');\n",
              "        buttonEl.style.display =\n",
              "          google.colab.kernel.accessAllowed ? 'block' : 'none';\n",
              "\n",
              "        async function convertToInteractive(key) {\n",
              "          const element = document.querySelector('#df-5bd3e41c-3481-456f-9227-b4fa013427f3');\n",
              "          const dataTable =\n",
              "            await google.colab.kernel.invokeFunction('convertToInteractive',\n",
              "                                                     [key], {});\n",
              "          if (!dataTable) return;\n",
              "\n",
              "          const docLinkHtml = 'Like what you see? Visit the ' +\n",
              "            '<a target=\"_blank\" href=https://colab.research.google.com/notebooks/data_table.ipynb>data table notebook</a>'\n",
              "            + ' to learn more about interactive tables.';\n",
              "          element.innerHTML = '';\n",
              "          dataTable['output_type'] = 'display_data';\n",
              "          await google.colab.output.renderOutput(dataTable, element);\n",
              "          const docLink = document.createElement('div');\n",
              "          docLink.innerHTML = docLinkHtml;\n",
              "          element.appendChild(docLink);\n",
              "        }\n",
              "      </script>\n",
              "    </div>\n",
              "  </div>\n",
              "  "
            ]
          },
          "metadata": {},
          "execution_count": 155
        }
      ]
    },
    {
      "cell_type": "markdown",
      "source": [
        "- Получили рекомендации в том же формате, что и с методом recommend_all в Implicit\n"
      ],
      "metadata": {
        "id": "VuK1XxYimqDj"
      }
    },
    {
      "cell_type": "code",
      "execution_count": null,
      "metadata": {
        "id": "yzZkwczCRLx1"
      },
      "outputs": [],
      "source": [
        "# Переводим матрицу рекомендаций в датафрейм с парами user-book\n",
        "recs_pairs = matrix_recs_to_pairs(all_users_predictions, 'chb', 'sys_numb') \n",
        "\n",
        "# Сохраняем результаты в файл\n",
        "recs_pairs.to_csv(\"rankfm_bpr_books_recs.csv\", index=False, sep=';')"
      ]
    },
    {
      "cell_type": "markdown",
      "metadata": {
        "id": "5GTTx8uBZ4Oh"
      },
      "source": [
        "- Проверим качество модели:)"
      ]
    },
    {
      "cell_type": "code",
      "execution_count": null,
      "metadata": {
        "id": "f7b2T3oh_8Ft",
        "colab": {
          "base_uri": "https://localhost:8080/"
        },
        "outputId": "8048fc3f-1ad3-4761-c509-238c2ceb59d4"
      },
      "outputs": [
        {
          "output_type": "stream",
          "name": "stdout",
          "text": [
            "Hit-Rate_avg: 0.0247\n",
            "Recall_avg: 0.00145\n",
            "Precision_avg: 0.01062\n",
            "F1-score_avg: 0.00255\n"
          ]
        },
        {
          "output_type": "execute_result",
          "data": {
            "text/plain": [
              "[0.0247, 0.00145, 0.01062, 0.00255]"
            ]
          },
          "metadata": {},
          "execution_count": 157
        }
      ],
      "source": [
        "# Выводим усредненные показатели модели\n",
        "get_avg_recs_metrics(all_users_predictions, \n",
        "                     recs_dict['test_user_item'],\n",
        "                     'chb', 'sys_numb')"
      ]
    },
    {
      "cell_type": "markdown",
      "source": [
        "**Вывод**\n",
        "\n",
        "1. Метрика ниже, а на генерацию рекомендаций у нас ушло 14 минут вместо 1 минуты)\n",
        "\n",
        "2. Есть идея протестировать тот же алгоритм, но в реализации implicit:\n",
        "  - здесь у нас уже протестированные подходы\n",
        "  - единственное отличие, в implicit нет возможности показывать итерации обучения с помощью `verbose`"
      ],
      "metadata": {
        "id": "hE-dzjW_m6FV"
      }
    },
    {
      "cell_type": "markdown",
      "metadata": {
        "id": "uo7GsBwTsScX"
      },
      "source": [
        "### (2.3) BPR - Реализация Implicit"
      ]
    },
    {
      "cell_type": "markdown",
      "metadata": {
        "id": "Nf3qdjVhuPA9"
      },
      "source": [
        "#### Подготовка данных\n",
        "\n",
        "\n",
        "\n"
      ]
    },
    {
      "cell_type": "code",
      "execution_count": null,
      "metadata": {
        "colab": {
          "base_uri": "https://localhost:8080/"
        },
        "id": "zJsWNDIfuKCn",
        "outputId": "90c2405c-6546-4fee-c06a-93380bc6113c"
      },
      "outputs": [
        {
          "output_type": "stream",
          "name": "stdout",
          "text": [
            "=> Количество пользователей\n",
            "Общий датасет: 16753\n",
            "Обучающая выборка: 16661\n",
            "Валидационная выборка: 12026\n",
            "\n",
            "=> Проблема cold start для модели\n",
            "Неизвестных пользователей: 92\n",
            "Неизвестных объектов: 34695\n"
          ]
        }
      ],
      "source": [
        "# Словарь с предобработанными датасетам для обучения\n",
        "recs_dict = split_and_prepare_recs_data(unique_transactions, \n",
        "                                        'chb', 'sys_numb', 0.2)"
      ]
    },
    {
      "cell_type": "markdown",
      "metadata": {
        "id": "GkD5HcvXYBD7"
      },
      "source": [
        "#### Обучение модели"
      ]
    },
    {
      "cell_type": "code",
      "execution_count": null,
      "metadata": {
        "colab": {
          "base_uri": "https://localhost:8080/"
        },
        "id": "aJzJ_p29yZ9t",
        "outputId": "15aacecb-c617-4ac8-9220-5bd20e9c7c5f"
      },
      "outputs": [
        {
          "output_type": "stream",
          "name": "stdout",
          "text": [
            "Размер sparse-матрицы user-books: (16661, 159971)\n"
          ]
        }
      ],
      "source": [
        "# Формируем матрицы и словари с маппингом\n",
        "user_books_csr, users_dict, books_dict= get_user_item_matrix(\n",
        "    recs_dict['train_user_item'], \n",
        "    'chb', 'sys_numb', \n",
        "    recs_dict['train_weight'])                                                       \n",
        "\n",
        "print(\"Размер sparse-матрицы user-books:\", user_books_csr.shape)"
      ]
    },
    {
      "cell_type": "code",
      "execution_count": null,
      "metadata": {
        "colab": {
          "base_uri": "https://localhost:8080/",
          "height": 49,
          "referenced_widgets": [
            "83b6fea7658e41b084bae39209f3f1f5",
            "e77d9fe744684190b16e30129dc44231",
            "8df43b64491d4e18a297851040b7c875",
            "1fc1d9cff4314f3281b0d547fb9952c5",
            "a496cfd845ca4dbd9cc5e5da5aa64d0a",
            "28c81ffd89864546bba058346af1085f",
            "1667211010ec4584a8b7736db27cd545",
            "5c61f0ee0af54a69a131cf12defd2dd9",
            "8a824f0e7a3a4e5595702be4f9aa4050",
            "55195794d4fa4f78b18df9da0f84f6bb",
            "af4c2e9a558740a086a450d42b43df52"
          ]
        },
        "id": "PWDRmKmHsbeF",
        "outputId": "19169c9e-53bc-4153-b49b-da370b367e50"
      },
      "outputs": [
        {
          "output_type": "display_data",
          "data": {
            "text/plain": [
              "  0%|          | 0/500 [00:00<?, ?it/s]"
            ],
            "application/vnd.jupyter.widget-view+json": {
              "version_major": 2,
              "version_minor": 0,
              "model_id": "83b6fea7658e41b084bae39209f3f1f5"
            }
          },
          "metadata": {}
        }
      ],
      "source": [
        "# Обучаем модель\n",
        "model_bpr_imp = BayesianPersonalizedRanking(factors=200, learning_rate=0.3,  \n",
        "                                            iterations=500, regularization=0.01)\n",
        "model_bpr_imp.fit(user_books_csr, show_progress=True)"
      ]
    },
    {
      "cell_type": "code",
      "execution_count": null,
      "metadata": {
        "colab": {
          "base_uri": "https://localhost:8080/",
          "height": 226
        },
        "id": "QxB01H9TzJcZ",
        "outputId": "8a577c1b-47e0-490e-b8f9-32016db7367a"
      },
      "outputs": [
        {
          "output_type": "stream",
          "name": "stdout",
          "text": [
            "Предсказания модели ALS:\n"
          ]
        },
        {
          "output_type": "execute_result",
          "data": {
            "text/plain": [
              "                          0               1               2               3   \\\n",
              "100000641403  RSL01001062381  RSL01004002279  RSL01004105688  RSL01004637327   \n",
              "100000644359  RSL01010765332  RSL01010247947  RSL01000693701  RSL01004096658   \n",
              "100000665127  RSL01001427316  RSL01003414117  RSL01004572877  RSL01003382900   \n",
              "\n",
              "                          4               5               6               7   \\\n",
              "100000641403  RSL01004998543  RSL07000371522  RSL01002457362  RSL01003557141   \n",
              "100000644359  RSL01004937178  RSL01007901236  RSL01006589989  RSL01010256257   \n",
              "100000665127  RSL01009393690  RSL01003792464  RSL01009648400  RSL01001736815   \n",
              "\n",
              "                          8               9               10              11  \\\n",
              "100000641403  RSL01003018189  RSL01003049752  RSL01005165940  RSL01008827912   \n",
              "100000644359  RSL01010252917  RSL01009839571  RSL01003842392  RSL07000458969   \n",
              "100000665127  RSL01008690841  RSL01010427794  RSL01008132136  RSL01007489421   \n",
              "\n",
              "                          12              13              14              15  \\\n",
              "100000641403  RSL07000374511  RSL01008239763  RSL07000443962  RSL01000704642   \n",
              "100000644359  RSL01010617333  RSL01000069520  RSL01002768786  RSL07000494917   \n",
              "100000665127  RSL01009390694  RSL01008114610  RSL01008139459  RSL01006700657   \n",
              "\n",
              "                          16              17              18              19  \n",
              "100000641403  RSL01004367600  RSL01009016247  RSL01004964344  RSL01003545222  \n",
              "100000644359  RSL01010559974  RSL01010723682  RSL07000489922  RSL01009477974  \n",
              "100000665127  RSL01001728161  RSL01003047920  RSL01010814838  RSL01002157583  "
            ],
            "text/html": [
              "\n",
              "  <div id=\"df-8163d639-b50c-48c0-989d-ee1f073337a7\">\n",
              "    <div class=\"colab-df-container\">\n",
              "      <div>\n",
              "<style scoped>\n",
              "    .dataframe tbody tr th:only-of-type {\n",
              "        vertical-align: middle;\n",
              "    }\n",
              "\n",
              "    .dataframe tbody tr th {\n",
              "        vertical-align: top;\n",
              "    }\n",
              "\n",
              "    .dataframe thead th {\n",
              "        text-align: right;\n",
              "    }\n",
              "</style>\n",
              "<table border=\"1\" class=\"dataframe\">\n",
              "  <thead>\n",
              "    <tr style=\"text-align: right;\">\n",
              "      <th></th>\n",
              "      <th>0</th>\n",
              "      <th>1</th>\n",
              "      <th>2</th>\n",
              "      <th>3</th>\n",
              "      <th>4</th>\n",
              "      <th>5</th>\n",
              "      <th>6</th>\n",
              "      <th>7</th>\n",
              "      <th>8</th>\n",
              "      <th>9</th>\n",
              "      <th>10</th>\n",
              "      <th>11</th>\n",
              "      <th>12</th>\n",
              "      <th>13</th>\n",
              "      <th>14</th>\n",
              "      <th>15</th>\n",
              "      <th>16</th>\n",
              "      <th>17</th>\n",
              "      <th>18</th>\n",
              "      <th>19</th>\n",
              "    </tr>\n",
              "  </thead>\n",
              "  <tbody>\n",
              "    <tr>\n",
              "      <th>100000641403</th>\n",
              "      <td>RSL01001062381</td>\n",
              "      <td>RSL01004002279</td>\n",
              "      <td>RSL01004105688</td>\n",
              "      <td>RSL01004637327</td>\n",
              "      <td>RSL01004998543</td>\n",
              "      <td>RSL07000371522</td>\n",
              "      <td>RSL01002457362</td>\n",
              "      <td>RSL01003557141</td>\n",
              "      <td>RSL01003018189</td>\n",
              "      <td>RSL01003049752</td>\n",
              "      <td>RSL01005165940</td>\n",
              "      <td>RSL01008827912</td>\n",
              "      <td>RSL07000374511</td>\n",
              "      <td>RSL01008239763</td>\n",
              "      <td>RSL07000443962</td>\n",
              "      <td>RSL01000704642</td>\n",
              "      <td>RSL01004367600</td>\n",
              "      <td>RSL01009016247</td>\n",
              "      <td>RSL01004964344</td>\n",
              "      <td>RSL01003545222</td>\n",
              "    </tr>\n",
              "    <tr>\n",
              "      <th>100000644359</th>\n",
              "      <td>RSL01010765332</td>\n",
              "      <td>RSL01010247947</td>\n",
              "      <td>RSL01000693701</td>\n",
              "      <td>RSL01004096658</td>\n",
              "      <td>RSL01004937178</td>\n",
              "      <td>RSL01007901236</td>\n",
              "      <td>RSL01006589989</td>\n",
              "      <td>RSL01010256257</td>\n",
              "      <td>RSL01010252917</td>\n",
              "      <td>RSL01009839571</td>\n",
              "      <td>RSL01003842392</td>\n",
              "      <td>RSL07000458969</td>\n",
              "      <td>RSL01010617333</td>\n",
              "      <td>RSL01000069520</td>\n",
              "      <td>RSL01002768786</td>\n",
              "      <td>RSL07000494917</td>\n",
              "      <td>RSL01010559974</td>\n",
              "      <td>RSL01010723682</td>\n",
              "      <td>RSL07000489922</td>\n",
              "      <td>RSL01009477974</td>\n",
              "    </tr>\n",
              "    <tr>\n",
              "      <th>100000665127</th>\n",
              "      <td>RSL01001427316</td>\n",
              "      <td>RSL01003414117</td>\n",
              "      <td>RSL01004572877</td>\n",
              "      <td>RSL01003382900</td>\n",
              "      <td>RSL01009393690</td>\n",
              "      <td>RSL01003792464</td>\n",
              "      <td>RSL01009648400</td>\n",
              "      <td>RSL01001736815</td>\n",
              "      <td>RSL01008690841</td>\n",
              "      <td>RSL01010427794</td>\n",
              "      <td>RSL01008132136</td>\n",
              "      <td>RSL01007489421</td>\n",
              "      <td>RSL01009390694</td>\n",
              "      <td>RSL01008114610</td>\n",
              "      <td>RSL01008139459</td>\n",
              "      <td>RSL01006700657</td>\n",
              "      <td>RSL01001728161</td>\n",
              "      <td>RSL01003047920</td>\n",
              "      <td>RSL01010814838</td>\n",
              "      <td>RSL01002157583</td>\n",
              "    </tr>\n",
              "  </tbody>\n",
              "</table>\n",
              "</div>\n",
              "      <button class=\"colab-df-convert\" onclick=\"convertToInteractive('df-8163d639-b50c-48c0-989d-ee1f073337a7')\"\n",
              "              title=\"Convert this dataframe to an interactive table.\"\n",
              "              style=\"display:none;\">\n",
              "        \n",
              "  <svg xmlns=\"http://www.w3.org/2000/svg\" height=\"24px\"viewBox=\"0 0 24 24\"\n",
              "       width=\"24px\">\n",
              "    <path d=\"M0 0h24v24H0V0z\" fill=\"none\"/>\n",
              "    <path d=\"M18.56 5.44l.94 2.06.94-2.06 2.06-.94-2.06-.94-.94-2.06-.94 2.06-2.06.94zm-11 1L8.5 8.5l.94-2.06 2.06-.94-2.06-.94L8.5 2.5l-.94 2.06-2.06.94zm10 10l.94 2.06.94-2.06 2.06-.94-2.06-.94-.94-2.06-.94 2.06-2.06.94z\"/><path d=\"M17.41 7.96l-1.37-1.37c-.4-.4-.92-.59-1.43-.59-.52 0-1.04.2-1.43.59L10.3 9.45l-7.72 7.72c-.78.78-.78 2.05 0 2.83L4 21.41c.39.39.9.59 1.41.59.51 0 1.02-.2 1.41-.59l7.78-7.78 2.81-2.81c.8-.78.8-2.07 0-2.86zM5.41 20L4 18.59l7.72-7.72 1.47 1.35L5.41 20z\"/>\n",
              "  </svg>\n",
              "      </button>\n",
              "      \n",
              "  <style>\n",
              "    .colab-df-container {\n",
              "      display:flex;\n",
              "      flex-wrap:wrap;\n",
              "      gap: 12px;\n",
              "    }\n",
              "\n",
              "    .colab-df-convert {\n",
              "      background-color: #E8F0FE;\n",
              "      border: none;\n",
              "      border-radius: 50%;\n",
              "      cursor: pointer;\n",
              "      display: none;\n",
              "      fill: #1967D2;\n",
              "      height: 32px;\n",
              "      padding: 0 0 0 0;\n",
              "      width: 32px;\n",
              "    }\n",
              "\n",
              "    .colab-df-convert:hover {\n",
              "      background-color: #E2EBFA;\n",
              "      box-shadow: 0px 1px 2px rgba(60, 64, 67, 0.3), 0px 1px 3px 1px rgba(60, 64, 67, 0.15);\n",
              "      fill: #174EA6;\n",
              "    }\n",
              "\n",
              "    [theme=dark] .colab-df-convert {\n",
              "      background-color: #3B4455;\n",
              "      fill: #D2E3FC;\n",
              "    }\n",
              "\n",
              "    [theme=dark] .colab-df-convert:hover {\n",
              "      background-color: #434B5C;\n",
              "      box-shadow: 0px 1px 3px 1px rgba(0, 0, 0, 0.15);\n",
              "      filter: drop-shadow(0px 1px 2px rgba(0, 0, 0, 0.3));\n",
              "      fill: #FFFFFF;\n",
              "    }\n",
              "  </style>\n",
              "\n",
              "      <script>\n",
              "        const buttonEl =\n",
              "          document.querySelector('#df-8163d639-b50c-48c0-989d-ee1f073337a7 button.colab-df-convert');\n",
              "        buttonEl.style.display =\n",
              "          google.colab.kernel.accessAllowed ? 'block' : 'none';\n",
              "\n",
              "        async function convertToInteractive(key) {\n",
              "          const element = document.querySelector('#df-8163d639-b50c-48c0-989d-ee1f073337a7');\n",
              "          const dataTable =\n",
              "            await google.colab.kernel.invokeFunction('convertToInteractive',\n",
              "                                                     [key], {});\n",
              "          if (!dataTable) return;\n",
              "\n",
              "          const docLinkHtml = 'Like what you see? Visit the ' +\n",
              "            '<a target=\"_blank\" href=https://colab.research.google.com/notebooks/data_table.ipynb>data table notebook</a>'\n",
              "            + ' to learn more about interactive tables.';\n",
              "          element.innerHTML = '';\n",
              "          dataTable['output_type'] = 'display_data';\n",
              "          await google.colab.output.renderOutput(dataTable, element);\n",
              "          const docLink = document.createElement('div');\n",
              "          docLink.innerHTML = docLinkHtml;\n",
              "          element.appendChild(docLink);\n",
              "        }\n",
              "      </script>\n",
              "    </div>\n",
              "  </div>\n",
              "  "
            ]
          },
          "metadata": {},
          "execution_count": 164
        }
      ],
      "source": [
        "# Получаем список top-20 рекомендаций для каждого читателя\n",
        "recs_bpr_imp = get_implicit_recommendations(model_bpr_imp, user_books_csr,\n",
        "                                            users_dict, books_dict)                                 \n",
        "print(\"Предсказания модели ALS:\")\n",
        "recs_bpr_imp.head(3)"
      ]
    },
    {
      "cell_type": "markdown",
      "metadata": {
        "id": "_wE1XPVDYLCd"
      },
      "source": [
        "#### Оценка результатов"
      ]
    },
    {
      "cell_type": "code",
      "execution_count": null,
      "metadata": {
        "colab": {
          "base_uri": "https://localhost:8080/"
        },
        "id": "K__ktLeN62Wi",
        "outputId": "02c909ff-9528-4653-9185-68a64465b1a9"
      },
      "outputs": [
        {
          "output_type": "stream",
          "name": "stdout",
          "text": [
            "Hit-Rate_avg: 0.0218\n",
            "Recall_avg: 0.0012\n",
            "Precision_avg: 0.00704\n",
            "F1-score_avg: 0.00205\n"
          ]
        },
        {
          "output_type": "execute_result",
          "data": {
            "text/plain": [
              "[0.0218, 0.0012, 0.00704, 0.00205]"
            ]
          },
          "metadata": {},
          "execution_count": 165
        }
      ],
      "source": [
        "# Выводим усредненные показатели модели\n",
        "get_avg_recs_metrics(recs_bpr_imp, recs_dict['test_user_item'],\n",
        "                           'chb', 'sys_numb')"
      ]
    },
    {
      "cell_type": "code",
      "execution_count": null,
      "metadata": {
        "id": "d-EltfGcyVEI"
      },
      "outputs": [],
      "source": [
        "# Переводим матрицу рекомендаций в датафрейм с парами user-book\n",
        "solution = matrix_recs_to_pairs(recs_bpr_imp, 'chb', 'sys_numb') \n",
        "\n",
        "# Сохраняем предсказания\n",
        "solution.to_csv(\"predictions_bpr_imp.csv\", index=False, sep=';')"
      ]
    },
    {
      "cell_type": "markdown",
      "metadata": {
        "id": "xO3htSgMvq7M"
      },
      "source": [
        "### (2.4) Общий вывод\n",
        "\n",
        "1. Мы получили альтернативное решение для Colloborative Filtering:\n",
        "\n",
        "  - Метод BPR обучается значительно быстрее, чем алгоритм ALS\n",
        "\n",
        "  - Генерация рекомендаций очень медленно реализована в RankFM и LightFM, поэтому мы снова вернулись к библиотеке Implicit (26 минут vs 2 минуты)\n",
        "\n",
        "2. Важно учитывать, что BPR не использует веса (это модель ранжирования):\n",
        "  - параметр alpha для тюнинга использовать не можем\n",
        "  \n",
        "3. Также мы оптимизировали и подготовили новый набор функций для работы с рекомендательной системой. \n",
        "\n",
        "  - Работает быстро \n",
        "\n",
        "  - Можно использовать для любых моделей Implicit\n",
        "\n",
        "  - Будет полезным для развития проекта и новых экспериментов)\n",
        "\n",
        "(!) Есть идея отфильтровать аутлайеров - оставить в пуле только часто читаемые книги и активных пользователей"
      ]
    }
  ]
}