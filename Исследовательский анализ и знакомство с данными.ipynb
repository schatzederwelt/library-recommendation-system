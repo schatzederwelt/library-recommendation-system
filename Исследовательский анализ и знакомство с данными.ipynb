{
 "cells": [
  {
   "cell_type": "markdown",
   "id": "f626ca3f",
   "metadata": {},
   "source": [
    "# Знакомство с датасетом и baseline"
   ]
  },
  {
   "cell_type": "markdown",
   "id": "badbc172",
   "metadata": {},
   "source": [
    "## План работы"
   ]
  },
  {
   "cell_type": "markdown",
   "id": "d0f79569",
   "metadata": {},
   "source": [
    "(I) Знакомство с датасетом и baseline\n",
    "\n",
    "1. Познакомиться с датасетом - найти фишки, уникальность в данных и интересные закономерности\n",
    "\n",
    "2. Формализовать концепт для решения задачи - любой подходящий вариант\n",
    "\n",
    "3. Подготовить набор функций для моделирования\n",
    "\n",
    "4. Реализовать baseline c минимальной подготовкой данных\n",
    "\n",
    "5. На основе выводов сгенерировать идеи для возможных подходов к задаче.\n",
    "\n",
    "6. Сформировать план дальнейшей работы и тестирования\n",
    "\n",
    "\n",
    "(II) Поиск решения для задачи:\n",
    "\n",
    "1. Предобработка датасета и реализация нескольких подходов\n",
    "\n",
    "2. Исследовательский анализ данных и оценка узких мест\n",
    "\n",
    "3. Оценка возможностей подходов (baseline) - успех нашего проекта)\n",
    "\n",
    "3. Идеи для артефактов\n",
    "\n",
    "\n",
    "(III) Моделирование:\n",
    "\n",
    "1. Подбор алгоритмов и библиотек для реализации\n",
    "\n",
    "2. Подготовка готовых модулей и классов\n",
    "\n",
    "3. Feature Engineering и достижение качества\n",
    "\n",
    "\n",
    "\n",
    "(IV) Подготовка артефактов!\n"
   ]
  },
  {
   "cell_type": "markdown",
   "id": "12af4c1d",
   "metadata": {},
   "source": [
    "## Импорт библиотек"
   ]
  },
  {
   "cell_type": "code",
   "execution_count": null,
   "id": "8373e888",
   "metadata": {},
   "outputs": [],
   "source": [
    "import pandas as pd\n",
    "import matplotlib.pyplot as plt\n",
    "import seaborn as sns"
   ]
  },
  {
   "cell_type": "code",
   "execution_count": null,
   "id": "0dff9146",
   "metadata": {},
   "outputs": [],
   "source": [
    "sns.set()\n",
    "sns.set_style('whitegrid') "
   ]
  },
  {
   "cell_type": "markdown",
   "id": "67fcc0db",
   "metadata": {},
   "source": [
    "## Знакомство с данными"
   ]
  },
  {
   "cell_type": "markdown",
   "id": "18d41f56",
   "metadata": {},
   "source": [
    "### Вводные"
   ]
  },
  {
   "cell_type": "markdown",
   "id": "f8d13795",
   "metadata": {},
   "source": [
    "Создадим свою историю для каждого читателя библиотеки! Найдем 20 лучших рекомендаций для новых книг:)\n",
    "\n",
    "Всего у нас 3 датасета:\n",
    "\n",
    "- читатели\n",
    "- книги\n",
    "- \"транзакции\" - история работы с библиотекой\n",
    "\n",
    "Исследование начнем с самого интересного и узнаем:\n",
    "\n",
    "- как `активно читают` наши **пользователи**, и есть ли у них что-то `общее`\n",
    "\n",
    "\n",
    "- за какой период у нас есть данные и какой **объем книг в ТОПе** у читаталей\n",
    "\n",
    "\n",
    "- есть ли какие-то интересные поля, которые мы могли бы использовать для `персональных рекомендаций`\n",
    "\n",
    "\n",
    "Самое главное - выяснить, в чем особенность и изюминка именно нашей библиотеки, и найти идеи для уникального алгоритма рекомендаций:)\n"
   ]
  },
  {
   "cell_type": "markdown",
   "id": "1beccec6",
   "metadata": {},
   "source": [
    "### Загрузка данных"
   ]
  },
  {
   "cell_type": "markdown",
   "id": "294a1bd5",
   "metadata": {},
   "source": [
    "У нас в руках по-настоящему большая и интересная библиотека, ~ 350 000 позиций.\n",
    "\n",
    "Разобьем датасет с книгами на 5 частей, так мы сэкономим ресурсы и сможем быстрее провести анализ данных (воспользуемся бесплатным ресурсом https://extendsclass.com/csv-splitter.html)."
   ]
  },
  {
   "cell_type": "code",
   "execution_count": 12,
   "id": "de137046",
   "metadata": {},
   "outputs": [],
   "source": [
    "# Загрузка данных\n",
    "df_users = pd.read_csv('users.csv', sep=';', index_col=None, dtype={'age': str, 'chb': str, 'chit_type': str, 'gender': str})\n",
    "df_books_1 = pd.read_csv('books1.csv', sep=';', index_col=None, dtype={'author': str, 'bbk': str, 'izd': str, 'sys_numb': str, 'title': str, 'year_izd': str})\n",
    "df_actions = pd.read_csv('train_transactions_extended.csv', sep=';', index_col=None, dtype={'chb': str, 'date_1': str, 'is_printed': str, 'is_real': str, 'source': str, 'sys_numb': str, 'type': str})"
   ]
  },
  {
   "cell_type": "markdown",
   "id": "254e7d50",
   "metadata": {},
   "source": [
    "### Кто посещает библиотеку?"
   ]
  },
  {
   "cell_type": "code",
   "execution_count": 13,
   "id": "68a5dbe9",
   "metadata": {},
   "outputs": [
    {
     "name": "stdout",
     "output_type": "stream",
     "text": [
      "<class 'pandas.core.frame.DataFrame'>\n",
      "RangeIndex: 16753 entries, 0 to 16752\n",
      "Data columns (total 4 columns):\n",
      " #   Column     Non-Null Count  Dtype \n",
      "---  ------     --------------  ----- \n",
      " 0   chb        16753 non-null  object\n",
      " 1   age        16753 non-null  object\n",
      " 2   gender     16753 non-null  object\n",
      " 3   chit_type  16753 non-null  object\n",
      "dtypes: object(4)\n",
      "memory usage: 523.7+ KB\n"
     ]
    }
   ],
   "source": [
    "df_users.info()"
   ]
  },
  {
   "cell_type": "code",
   "execution_count": 14,
   "id": "64c65f55",
   "metadata": {
    "scrolled": true
   },
   "outputs": [
    {
     "data": {
      "text/plain": [
       "female         10407\n",
       "male            6332\n",
       "не указан         13\n",
       "отсутствует        1\n",
       "Name: gender, dtype: int64"
      ]
     },
     "execution_count": 14,
     "metadata": {},
     "output_type": "execute_result"
    }
   ],
   "source": [
    "df_users.gender.value_counts()"
   ]
  },
  {
   "cell_type": "code",
   "execution_count": 15,
   "id": "d8ea8d2b",
   "metadata": {
    "scrolled": true
   },
   "outputs": [
    {
     "data": {
      "text/plain": [
       "нет данных     13098\n",
       "echb            2183\n",
       "normal          1471\n",
       "отсутствует        1\n",
       "Name: chit_type, dtype: int64"
      ]
     },
     "execution_count": 15,
     "metadata": {},
     "output_type": "execute_result"
    }
   ],
   "source": [
    "df_users.chit_type.value_counts()"
   ]
  },
  {
   "cell_type": "markdown",
   "id": "0074f08b",
   "metadata": {},
   "source": [
    "**Вывод 1**\n",
    "\n",
    "- Среди читателей почти в `2 раза меньше мужчин`, интересно, какая статистика по всей стране)\n",
    "\n",
    "\n",
    "- Поле `chit_type` нам не будет полезным, т.к. остутствует у большинства пользователей"
   ]
  },
  {
   "cell_type": "code",
   "execution_count": 16,
   "id": "472ebaa1",
   "metadata": {
    "scrolled": true
   },
   "outputs": [
    {
     "name": "stderr",
     "output_type": "stream",
     "text": [
      "/opt/conda/lib/python3.9/site-packages/seaborn/distributions.py:2557: FutureWarning: `distplot` is a deprecated function and will be removed in a future version. Please adapt your code to use either `displot` (a figure-level function with similar flexibility) or `histplot` (an axes-level function for histograms).\n",
      "  warnings.warn(msg, FutureWarning)\n"
     ]
    },
    {
     "data": {
      "image/png": "[encoded data removed]",
      "text/plain": [
       "<Figure size 720x576 with 1 Axes>"
      ]
     },
     "metadata": {},
     "output_type": "display_data"
    }
   ],
   "source": [
    "plt.figure(figsize=(10, 8))\n",
    "sns.distplot(df_users.age.replace('отсутствует'));\n",
    "plt.title(label=\"Возраст читателей\", size=16)\n",
    "plt.xlabel(\"Возраст\", fontsize=14)\n",
    "plt.ylabel(\"Количество читателей\", fontsize=14)\n",
    "plt.show();"
   ]
  },
  {
   "cell_type": "code",
   "execution_count": 17,
   "id": "3c4aab90",
   "metadata": {
    "scrolled": false
   },
   "outputs": [
    {
     "data": {
      "text/plain": [
       "count     16753\n",
       "unique       81\n",
       "top          22\n",
       "freq       1118\n",
       "Name: age, dtype: object"
      ]
     },
     "execution_count": 17,
     "metadata": {},
     "output_type": "execute_result"
    }
   ],
   "source": [
    "df_users.age.describe()"
   ]
  },
  {
   "cell_type": "code",
   "execution_count": 18,
   "id": "f7c2a241",
   "metadata": {},
   "outputs": [
    {
     "data": {
      "text/plain": [
       "8978               0\n",
       "2435              14\n",
       "15644             14\n",
       "15272             14\n",
       "1129              14\n",
       "            ...     \n",
       "14275             90\n",
       "55                90\n",
       "14182             91\n",
       "14003             95\n",
       "9681     отсутствует\n",
       "Name: age, Length: 16753, dtype: object"
      ]
     },
     "execution_count": 18,
     "metadata": {},
     "output_type": "execute_result"
    }
   ],
   "source": [
    "df_users.age.sort_values()"
   ]
  },
  {
   "cell_type": "markdown",
   "id": "c716f805",
   "metadata": {},
   "source": [
    "**Вывод 2**\n",
    "\n",
    "\n",
    "- Средний возраст читателей `22 года` - но это необязательно самые **активные** читатели)\n",
    "\n",
    "\n",
    "- Видно, что выделяются **возрастные группы**  - можем попробовать использовать в предсказаниях (вместе с полем `gender`)\n",
    "\n",
    "Первый раз библиотеку посещают ребята в 14 лет. Есть и долгожители! Самому закаленному 95 лет))"
   ]
  },
  {
   "cell_type": "markdown",
   "id": "1cdd0115",
   "metadata": {},
   "source": [
    "### Книги, которые читают"
   ]
  },
  {
   "cell_type": "markdown",
   "id": "3db36fd9",
   "metadata": {},
   "source": [
    "`Общие интересы` читателей - книги, которые они читают)\n",
    "\n",
    "- Посмотрим, есть ли в библиотеке **книги**, о которых уже могут рассказать `разные пользователи`? \n",
    "\n",
    "\n",
    "- Если да, то мы сможем их использовать для поиска **похожих читателей**:)"
   ]
  },
  {
   "cell_type": "code",
   "execution_count": null,
   "id": "63dd0a6b",
   "metadata": {},
   "outputs": [],
   "source": [
    "books_popularity = (df_actions.groupby('sys_numb')\n",
    "                    .chb.count().rename('users_count')\n",
    "                    .to_frame())"
   ]
  },
  {
   "cell_type": "code",
   "execution_count": null,
   "id": "e131a38a",
   "metadata": {},
   "outputs": [],
   "source": [
    "df_actions[df_actions.chb.isin(df_users.chb)].groupby('sys_numb').chb.count().describe()"
   ]
  },
  {
   "cell_type": "markdown",
   "id": "f8927b5d",
   "metadata": {},
   "source": [
    "- 90% книг прочитали всего один раз!  \n",
    "\n",
    "- Если обучить нашу рекомендательную систему, то она поможет `поделиться книгами` с другими пользователями))\n",
    "\n",
    "Остались `10% самых важных книг`, по ним мы могли бы **объединить** наших читателей по интересам"
   ]
  },
  {
   "cell_type": "code",
   "execution_count": 21,
   "id": "fbeafde1",
   "metadata": {},
   "outputs": [
    {
     "data": {
      "image/png": "[encoded data removed]",
      "text/plain": [
       "<Figure size 576x360 with 1 Axes>"
      ]
     },
     "metadata": {},
     "output_type": "display_data"
    }
   ],
   "source": [
    "books_popularity[books_popularity > 10].hist(figsize=(8, 5));\n",
    "plt.title(label=\"Книги, которые прочитали больше 10 пользователей\", size=16)\n",
    "plt.xlabel(\"Количество читателей\", fontsize=14)\n",
    "plt.ylabel(\"Количество книг\", fontsize=14)\n",
    "plt.show()"
   ]
  },
  {
   "cell_type": "markdown",
   "id": "661b79cb",
   "metadata": {},
   "source": [
    "**Вывод**\n",
    "\n",
    "- Можно попробовать разделить книги по `трем кластерам` в зависимости от **популярности**\n",
    "\n",
    "\n",
    "- Для `16 000 пользователей` есть всего **200 книг**, чтобы объединить их вместе. Для ML обучения это даже хорошо, будет меньше признаков;)\n",
    "\n",
    "\n",
    "Есть несколько **уникальных** - больше 35 читателей! Очень интересно, что это за книги?"
   ]
  },
  {
   "cell_type": "code",
   "execution_count": 22,
   "id": "5bcf8839",
   "metadata": {
    "scrolled": true
   },
   "outputs": [
    {
     "data": {
      "text/html": [
       "<div>\n",
       "<style scoped>\n",
       "    .dataframe tbody tr th:only-of-type {\n",
       "        vertical-align: middle;\n",
       "    }\n",
       "\n",
       "    .dataframe tbody tr th {\n",
       "        vertical-align: top;\n",
       "    }\n",
       "\n",
       "    .dataframe thead th {\n",
       "        text-align: right;\n",
       "    }\n",
       "</style>\n",
       "<table border=\"1\" class=\"dataframe\">\n",
       "  <thead>\n",
       "    <tr style=\"text-align: right;\">\n",
       "      <th></th>\n",
       "      <th>sys_numb</th>\n",
       "      <th>title</th>\n",
       "      <th>author</th>\n",
       "      <th>izd</th>\n",
       "      <th>year_izd</th>\n",
       "      <th>bbk</th>\n",
       "    </tr>\n",
       "  </thead>\n",
       "  <tbody>\n",
       "    <tr>\n",
       "      <th>90</th>\n",
       "      <td>RSL07000449201</td>\n",
       "      <td>отсутствует</td>\n",
       "      <td>отсутствует</td>\n",
       "      <td>отсутствует</td>\n",
       "      <td>отсутствует</td>\n",
       "      <td>отсутствует</td>\n",
       "    </tr>\n",
       "    <tr>\n",
       "      <th>635</th>\n",
       "      <td>RSL01006724299</td>\n",
       "      <td>Коллекционеры России, XVII - начало XX вв. : э...</td>\n",
       "      <td>Полунина, Надежда Михайловна</td>\n",
       "      <td>РИПОЛ классик</td>\n",
       "      <td>2005</td>\n",
       "      <td>Щ101.3(2)д.я22\\nЧ778.3(2)-8я22</td>\n",
       "    </tr>\n",
       "    <tr>\n",
       "      <th>4004</th>\n",
       "      <td>RSL01004357029</td>\n",
       "      <td>Переписка В. А. Жуковского и А. П. Елагиной, 1...</td>\n",
       "      <td>none</td>\n",
       "      <td>Знак</td>\n",
       "      <td>2009</td>\n",
       "      <td>Ш5(2=Р)51-4Жуковский В.А.13,0</td>\n",
       "    </tr>\n",
       "  </tbody>\n",
       "</table>\n",
       "</div>"
      ],
      "text/plain": [
       "            sys_numb                                              title  \\\n",
       "90    RSL07000449201                                        отсутствует   \n",
       "635   RSL01006724299  Коллекционеры России, XVII - начало XX вв. : э...   \n",
       "4004  RSL01004357029  Переписка В. А. Жуковского и А. П. Елагиной, 1...   \n",
       "\n",
       "                            author            izd     year_izd  \\\n",
       "90                     отсутствует    отсутствует  отсутствует   \n",
       "635   Полунина, Надежда Михайловна  РИПОЛ классик         2005   \n",
       "4004                          none           Знак         2009   \n",
       "\n",
       "                                 bbk  \n",
       "90                       отсутствует  \n",
       "635   Щ101.3(2)д.я22\\nЧ778.3(2)-8я22  \n",
       "4004   Ш5(2=Р)51-4Жуковский В.А.13,0  "
      ]
     },
     "execution_count": 22,
     "metadata": {},
     "output_type": "execute_result"
    }
   ],
   "source": [
    "df_books_1[df_books_1.sys_numb.isin(books_popularity.query('users_count > 35').index)]"
   ]
  },
  {
   "cell_type": "markdown",
   "id": "8ebbebfa",
   "metadata": {},
   "source": [
    "Нам повезло! Топовые книжки попали в первую часть датасета)\n",
    "\n",
    "\n",
    "Переписка Жуковского..очень неожиданно, но вот погуглила и не смогла оторваться - как можно было писать такие письма. \n",
    "После окончания проекта пойду во все тяжкие и прочту хотя бы часть этого произведения)"
   ]
  },
  {
   "cell_type": "code",
   "execution_count": null,
   "id": "3d48a547",
   "metadata": {},
   "outputs": [
    {
     "name": "stderr",
     "output_type": "stream",
     "text": [
      "*c* argument looks like a single numeric RGB or RGBA sequence, which should be avoided as value-mapping will have precedence in case its length matches with *x* & *y*.  Please use the *color* keyword-argument or provide a 2-D array with a single row if you intend to specify the same RGB or RGBA value for all points.\n"
     ]
    },
    {
     "data": {
      "text/plain": [
       "<AxesSubplot:xlabel='chb', ylabel='sys_numb'>"
      ]
     },
     "execution_count": 23,
     "metadata": {},
     "output_type": "execute_result"
    }
   ],
   "source": [
    "df_actions.plot(kind='scatter', x= 'chb', y = 'sys_numb')"
   ]
  },
  {
   "cell_type": "markdown",
   "id": "be64b8c3",
   "metadata": {},
   "source": [
    "#### Любимые жанры"
   ]
  },
  {
   "cell_type": "markdown",
   "id": "ccebb333",
   "metadata": {},
   "source": [
    "К сожалению, в нашем датасете `нет информации` о жанрах.\n",
    "\n",
    "- для предсказаний и рекомендаций это очень **важный признак**\n",
    "\n",
    "- можно попробовать его \"распарсить\" из кода `bbk`!"
   ]
  },
  {
   "cell_type": "code",
   "execution_count": null,
   "id": "176cdea1",
   "metadata": {
    "scrolled": false
   },
   "outputs": [],
   "source": [
    "df_books_1.bbk"
   ]
  },
  {
   "cell_type": "markdown",
   "id": "87cf1cac",
   "metadata": {},
   "source": [
    "Много пустых полей - `отсутствует` и `none`"
   ]
  },
  {
   "cell_type": "code",
   "execution_count": null,
   "id": "3b16bd8e",
   "metadata": {},
   "outputs": [],
   "source": [
    "print(\"Количество книг с bbk:\")\n",
    "(df_books_1[\n",
    "    (df_books_1.bbk != 'отсутствует') \n",
    "    & (df_books_1.bbk != 'none')]\n",
    ").shape[0]"
   ]
  },
  {
   "cell_type": "code",
   "execution_count": null,
   "id": "587695eb",
   "metadata": {},
   "outputs": [],
   "source": [
    "print(\"Есть ли bbk у книги, которые уже выдавались в библиотеке:\")\n",
    "df_books_1[df_books_1.sys_numb.isin(df_actions.sys_numb)]"
   ]
  },
  {
   "cell_type": "markdown",
   "id": "5cdc2331",
   "metadata": {},
   "source": [
    "**Вывод**\n",
    "\n",
    "1. Для жанров мы можем `распарсить` поле bkk\n",
    "\n",
    "    - Будет много книг \"без жанра\", но кто не пробует, тот не пьет шампанского)\n",
    "\n",
    "\n",
    "2. Также отметим, что есть **книги-шпионов** - их читают, но в БД вся информация отсутствует \n",
    "\n",
    "    - Учтем в предобработке данных для обучения"
   ]
  },
  {
   "cell_type": "markdown",
   "id": "fd91f3e3",
   "metadata": {},
   "source": [
    "#### Популярные авторы"
   ]
  },
  {
   "cell_type": "markdown",
   "id": "49ea9792",
   "metadata": {},
   "source": [
    "Мы еще не проводили предобработку текста в датасете. Посмотрим, насколько хорошо ведется БД."
   ]
  },
  {
   "cell_type": "code",
   "execution_count": null,
   "id": "9d1bdeeb",
   "metadata": {},
   "outputs": [],
   "source": [
    "(df_books_1[\n",
    "    df_books_1.sys_numb.isin(df_actions.sys_numb)]\n",
    ").groupby('author').sys_numb.count().sort_values().tail(100)"
   ]
  },
  {
   "cell_type": "markdown",
   "id": "1c3083b2",
   "metadata": {},
   "source": [
    "**Вывод**\n",
    "\n",
    "Даже без дополнительной **обработки текста** мы сможем сгруппировать книги по авторам\n",
    "\n",
    "\n",
    "- У нас `~100 популярных авторов`\n",
    "\n",
    "\n",
    "- Похоже, \"серьезная\" литература пользуется наибольшим спросом среди читателей"
   ]
  },
  {
   "cell_type": "markdown",
   "id": "ce44a92c",
   "metadata": {},
   "source": [
    "### Активность пользователей"
   ]
  },
  {
   "cell_type": "markdown",
   "id": "0fc3d394",
   "metadata": {},
   "source": [
    "#### Датасет с транзакциями"
   ]
  },
  {
   "cell_type": "markdown",
   "id": "8b5bb345",
   "metadata": {},
   "source": [
    "История библиотеки у нас в `файле с транзакциями` - здесь хранятся самые важные данные о **выдаче книг**."
   ]
  },
  {
   "cell_type": "code",
   "execution_count": null,
   "id": "25636c6b",
   "metadata": {
    "scrolled": true
   },
   "outputs": [],
   "source": [
    "df_actions.head(7)"
   ]
  },
  {
   "cell_type": "markdown",
   "id": "aa51e7f3",
   "metadata": {},
   "source": [
    "Пара `chb`(читатель) - `sys_numb`(книга) - ключ ко всем вопросам) \n",
    "\n",
    "В ящике пандоры у нас всего 5 дополнительных полей:\n",
    "\n",
    "- `is_real`- была ли выдана книга\n",
    "- `date_1` - скачана онлайн или читатель пришел в библиотеку\n",
    "- `source` - откуда была взята книга\n",
    "- `is_printed` - распечатавали ли книги\n",
    "\n",
    "К ним мы вернемся чуть позже, а пока сфокусируемся на **активности** читателей. "
   ]
  },
  {
   "cell_type": "markdown",
   "id": "8777136e",
   "metadata": {},
   "source": [
    "#### Количество книг в руках читателей"
   ]
  },
  {
   "cell_type": "markdown",
   "id": "5f741608",
   "metadata": {},
   "source": [
    "Посмотрим, какой `объем книг` в среднем прочитывают пользователи нашей библиотеки."
   ]
  },
  {
   "cell_type": "code",
   "execution_count": null,
   "id": "dadbb76b",
   "metadata": {
    "scrolled": true
   },
   "outputs": [],
   "source": [
    "df_actions.groupby('chb').sys_numb.count().sort_values(ascending=False)"
   ]
  },
  {
   "cell_type": "markdown",
   "id": "0181a0d6",
   "metadata": {},
   "source": [
    "- `6000 книг!` вот это рекордсмен)) Или ошибка, или действительно есть такие книгоманы:)\n",
    "\n",
    "\n",
    "- Может быть, он просто регулярно брал книги в библиотеке?))\n",
    "\n",
    "Проверим!"
   ]
  },
  {
   "cell_type": "code",
   "execution_count": null,
   "id": "618465ff",
   "metadata": {},
   "outputs": [],
   "source": [
    "print(\"Уникальный пользователь, который взял 6000 книг\")\n",
    "df_users[df_users.chb == \"200000872413\"]"
   ]
  },
  {
   "cell_type": "markdown",
   "id": "68cf8ee8",
   "metadata": {},
   "source": [
    "- Даже если читать с 10 лет, то в среднем это `150 книг в год` или  12 в месяц))\n",
    "\n",
    "- Еще одна версия - много внуков) каждому по паре тройке книг:)"
   ]
  },
  {
   "cell_type": "code",
   "execution_count": null,
   "id": "a11fd255",
   "metadata": {
    "scrolled": false
   },
   "outputs": [],
   "source": [
    "plt.figure(figsize=(8, 5))\n",
    "(df_actions\n",
    " .groupby('chb').filter(lambda x : x['chb'].count() < 50)\n",
    " .groupby('chb').chb.count().hist())\n",
    "plt.title(label=\"Пользователи, которые прочитали < 50 книг\", size=16)\n",
    "plt.xlabel(\"Количество книг\", fontsize=14)\n",
    "plt.ylabel(\"Количество читателей\", fontsize=14)\n",
    "plt.show();"
   ]
  },
  {
   "cell_type": "code",
   "execution_count": null,
   "id": "19cca67b",
   "metadata": {},
   "outputs": [],
   "source": [
    "df_actions.groupby('chb').sys_numb.count().describe()"
   ]
  },
  {
   "cell_type": "code",
   "execution_count": null,
   "id": "020c7412",
   "metadata": {},
   "outputs": [],
   "source": [
    "df_actions.groupby('chb').sys_numb.count().quantile(0.99)"
   ]
  },
  {
   "cell_type": "markdown",
   "id": "27cd452a",
   "metadata": {},
   "source": [
    "**Вывод**\n",
    "\n",
    "- `75% читателей1 имеет в арсенале не больше **14 книг**, и `только 1%` - больше **100 книг**\n",
    "\n",
    "\n",
    "- Для рекомендательных систем обычно отбираются пользователи с количеством книг > 100 :) Уже уникальный случай)\n",
    "\n",
    "\n",
    "- У нас очень сильно `разношерстная аудитория` по объему чтения (3000 книг и 5 книг)\n",
    "\n",
    "\n",
    "Такие показатели зависят не только от **активности** читателей и их **возраста**, но также могут выделять `новых пользователей` библиотеки.\n",
    "\n",
    "Напрашивается подход с СЕГМЕНТАЦИЕЙ! Посмотрим, какие еще признаки сможем найти для пользователей."
   ]
  },
  {
   "cell_type": "markdown",
   "id": "46cbcb0b",
   "metadata": {},
   "source": [
    "#### Как часто читатели берут книги?"
   ]
  },
  {
   "cell_type": "markdown",
   "id": "c0f8cdcd",
   "metadata": {},
   "source": [
    "Для начала оценим `временной период`, за который у нас есть данные (заодно проверим их актуальность и новизну).\n",
    "\n",
    "Первым шагом отформатируем столбец с датами."
   ]
  },
  {
   "cell_type": "code",
   "execution_count": null,
   "id": "a1e48109",
   "metadata": {
    "scrolled": true
   },
   "outputs": [],
   "source": [
    "df_actions.date_1"
   ]
  },
  {
   "cell_type": "code",
   "execution_count": null,
   "id": "687bee41",
   "metadata": {},
   "outputs": [],
   "source": [
    "# Смотрим, какой тип данных у дат\n",
    "df_actions.dtypes"
   ]
  },
  {
   "cell_type": "code",
   "execution_count": null,
   "id": "d6c1e4e2",
   "metadata": {
    "scrolled": true
   },
   "outputs": [],
   "source": [
    "# Форматируем дату\n",
    "df_actions['date_1'] = pd.to_datetime(df_actions['date_1'])\n",
    "\n",
    "# Проверяем тип данных\n",
    "df_actions.dtypes"
   ]
  },
  {
   "cell_type": "code",
   "execution_count": null,
   "id": "09ca73f8",
   "metadata": {},
   "outputs": [],
   "source": [
    "# Индексируем датасет по дате и делаем сортировку\n",
    "df_actions = (df_actions\n",
    "                .set_index('date_1')\n",
    "                .sort_index()\n",
    "             )"
   ]
  },
  {
   "cell_type": "code",
   "execution_count": null,
   "id": "c0cb169a",
   "metadata": {},
   "outputs": [],
   "source": [
    "# Отобразим на графике активность библиотеки по  месяцам\n",
    "plt.figure(figsize=(10,6))\n",
    "(df_actions\n",
    "     .resample('1M')\n",
    "     .chb.count()\n",
    "     .plot(grid=True, style='o-'))     \n",
    "\n",
    "plt.title('Количество ежемесячно выдаваемых книг в библиотеке', fontsize=14)\n",
    "plt.show()"
   ]
  },
  {
   "cell_type": "markdown",
   "id": "b2791d95",
   "metadata": {},
   "source": [
    "**Вывод**\n",
    "\n",
    "1. У нас совсем свежие данные - за `два последних года`! Этим и объясняется небольшое количество книг у большинства пользователей)\n",
    "    - Видно, что летом активность спала - все уехали в отпуска и на каникулы (вместе со школьным списком литературы)\n",
    "    - Интересно, а как же тогда удалось набрать 6000 позиций?\n",
    "    \n",
    "    \n",
    "2. Для такой системы еще рано делать **рекомендации** на основе `предсказаний` - лучше предлагать читателям разные книги:\n",
    "\n",
    "    - ТОП-20 самых популярных\n",
    "\n",
    "    - \"Похожие пользователи также читают...\"\n",
    "\n",
    "    - \"Читателям данной книги также были интересны...\"\n",
    "\n",
    "И набирать обратную связь с рейтингом:)"
   ]
  },
  {
   "cell_type": "markdown",
   "id": "249a27c4",
   "metadata": {},
   "source": [
    "#### Самые активные пользователи"
   ]
  },
  {
   "cell_type": "markdown",
   "id": "a1a26561",
   "metadata": {},
   "source": [
    "Вернемся к нашему рекордсмену с 6000 книгами и снова построим график выдачи книг по месяцам.\n",
    "\n",
    "- либо это какая-то организация, для которой одно лицо получает все книги\n",
    "\n",
    "- либо массовое скачивание в интернете))"
   ]
  },
  {
   "cell_type": "code",
   "execution_count": null,
   "id": "d16d56a1",
   "metadata": {},
   "outputs": [],
   "source": [
    "# Отобразим на графике активность библиотеки по  месяцам\n",
    "plt.figure(figsize=(10,6))\n",
    "(df_actions\n",
    "     .query('chb == \"200000872413\"')\n",
    "     .resample('1M')\n",
    "     .chb.count()\n",
    "     .plot(grid=True, style='o-'))     \n",
    "\n",
    "plt.title('Статистика пользователя с 6000 книгами за 2 года', fontsize=14)\n",
    "plt.xlabel(\"Месяц\", fontsize=14)\n",
    "plt.ylabel(\"Количество выданных книг\", fontsize=14)\n",
    "plt.show();\n",
    "plt.show()"
   ]
  },
  {
   "cell_type": "markdown",
   "id": "dd05be4e",
   "metadata": {},
   "source": [
    "- 1000 книг за 1 месяц, хмм.. посмотрим еще других рекордсменов"
   ]
  },
  {
   "cell_type": "code",
   "execution_count": null,
   "id": "1c698e62",
   "metadata": {},
   "outputs": [],
   "source": [
    "print(\"Читатели, взявшие самое большое количество книг:\")\n",
    "(df_actions.groupby('chb')\n",
    " .sys_numb.count()\n",
    " .sort_values(ascending=False)\n",
    " .head(10))"
   ]
  },
  {
   "cell_type": "markdown",
   "id": "2fc9f6d3",
   "metadata": {},
   "source": [
    "- Мы могли бы считвть двух верхних пользователей (`> 3000 книг`)  какой-то **ошибкой**\n",
    "\n",
    "\n",
    "- Есть много тех, кто получил `~1000 книг`. Попробуем проверить наши гипотезы выше."
   ]
  },
  {
   "cell_type": "code",
   "execution_count": null,
   "id": "a1214c02",
   "metadata": {},
   "outputs": [],
   "source": [
    "plt.figure(figsize=(10,6))\n",
    "(df_actions\n",
    "     .query('chb == \"300001058749\"')\n",
    "     .resample('1M')\n",
    "     .chb.count()\n",
    "     .plot(grid=True, style='o-'))     \n",
    "\n",
    "plt.title('Статистика пользователя с 1600 книгами за 2 года', fontsize=14)\n",
    "plt.xlabel(\"Месяц\", fontsize=14)\n",
    "plt.ylabel(\"Количество выданных книг\", fontsize=14)\n",
    "plt.show();"
   ]
  },
  {
   "cell_type": "markdown",
   "id": "c78bd87d",
   "metadata": {},
   "source": [
    "- Скачивал ли он книги **через интернет**?\n",
    "\n",
    "\n",
    "- Возможно, есть **дубликаты** книг - для нескольких людей?"
   ]
  },
  {
   "cell_type": "code",
   "execution_count": null,
   "id": "5ca90d58",
   "metadata": {
    "scrolled": true
   },
   "outputs": [],
   "source": [
    "df_actions.query('chb == \"300001058749\"')"
   ]
  },
  {
   "cell_type": "markdown",
   "id": "f322c388",
   "metadata": {},
   "source": [
    "- Ага, все электронные. А если проверим других топовых читателей?"
   ]
  },
  {
   "cell_type": "code",
   "execution_count": null,
   "id": "79cb638e",
   "metadata": {},
   "outputs": [],
   "source": [
    "print(\"Типы выданных книг `is_printed` для ТОП-10 читателей (> 1000 книг):\")\n",
    "\n",
    "df_actions[\n",
    "    df_actions.chb.isin(\n",
    "        (df_actions.groupby('chb')\n",
    "         .sys_numb.count()\n",
    "         .sort_values(ascending=False)\n",
    "         .head(10).index)\n",
    "    )].is_printed.value_counts()"
   ]
  },
  {
   "cell_type": "markdown",
   "id": "57385d56",
   "metadata": {},
   "source": [
    "**Вывод 1**\n",
    "\n",
    "- Возможно, `is_printed` - это все-таки относится к онлайн-сервисам\n",
    "\n",
    "\n",
    "- Книговыдача -  как свяана с не может быть is_printed?\n",
    "\n",
    "\n",
    "- Проверим статистику по книгам, выданным именно на руки! None"
   ]
  },
  {
   "cell_type": "markdown",
   "id": "e486d631",
   "metadata": {},
   "source": [
    "### Привычки читателей"
   ]
  },
  {
   "cell_type": "markdown",
   "id": "f3450c85",
   "metadata": {},
   "source": [
    "Как и планировали, посмотрим, какие у нас еще есть \"следы\" в поведении читателей - "
   ]
  },
  {
   "cell_type": "code",
   "execution_count": null,
   "id": "6b88c5da",
   "metadata": {},
   "outputs": [],
   "source": [
    "sns.countplot(data=df_actions, x='is_real')\n",
    "plt.show() "
   ]
  },
  {
   "cell_type": "markdown",
   "id": "81e78d11",
   "metadata": {},
   "source": [
    "Поле `is_real`, скорее всего, нам не пригодится:\n",
    " - в 99% случаев книги были переданы в надежные руки читателя:)     "
   ]
  },
  {
   "cell_type": "code",
   "execution_count": null,
   "id": "15a3c3a8",
   "metadata": {},
   "outputs": [],
   "source": [
    "sns.countplot(data=df_actions, x='type')\n",
    "plt.show() "
   ]
  },
  {
   "cell_type": "code",
   "execution_count": null,
   "id": "c77b364e",
   "metadata": {},
   "outputs": [],
   "source": [
    "sns.countplot(data=df_actions, x='source')\n",
    "plt.show() "
   ]
  },
  {
   "cell_type": "markdown",
   "id": "174bb24b",
   "metadata": {},
   "source": [
    "У нас целых **4 источника** для просмотра книг `source`:\n",
    "\n",
    "- 3 онлайн-платформы \n",
    "\n",
    "- `None` - если читатель нашел книгу на полках в библиотеке?\n",
    "\n",
    "График источников практически **совпадает** с типом выдачи `type` (по количеству транзакций):\n",
    "\n",
    "- dlib -> скачивание\n",
    "\n",
    "- None -> None\n",
    "\n",
    "- 2D -> Книговыдача\n",
    "\n",
    "- Удаленный просмоторщик -> Книговыдача\n",
    "\n",
    "2-й сайт(`None`) самый популярный. Возможно, это все-таки информационная система в самой библиотеке?"
   ]
  },
  {
   "cell_type": "code",
   "execution_count": null,
   "id": "272e47d3",
   "metadata": {},
   "outputs": [],
   "source": [
    "sns.countplot(data=df_actions, x='is_printed')\n",
    "plt.show()  "
   ]
  },
  {
   "cell_type": "markdown",
   "id": "34d2ec71",
   "metadata": {},
   "source": [
    "**Половина** прочитанных книг `is_printed` - печатные документы, половина - электронные.\n",
    "\n",
    "- Здорово, это хороший показатель для современной библиотеки)\n",
    "\n",
    "\n",
    "Теперь все карты сложились: \n",
    "\n",
    "- **\"бумажных\" книг** ровно 140000 - столько же было выдано 2-м источником(`None`)\n",
    "\n",
    "\n",
    "- получается, это книги взятые в самой библиотеке (и зарегистрированные во внутренней ИС)"
   ]
  },
  {
   "cell_type": "markdown",
   "id": "a0270f99",
   "metadata": {},
   "source": [
    "**Вывод**\n",
    "\n",
    "Возможно, часть пользователей предпочитает держать `книги в руках`, а у других есть **любимые сайты**. \n",
    "\n",
    "- Будет здорово, если это поможет еще лучше **сегментировать** наших читателей\n",
    "\n",
    "\n",
    "- Можно создать несколько подобных `признаков` и протестировать в системе рекомендаций!"
   ]
  },
  {
   "cell_type": "markdown",
   "id": "6bca3978",
   "metadata": {},
   "source": [
    "## Общий вывод и вопросы"
   ]
  },
  {
   "cell_type": "markdown",
   "id": "1d3c5418",
   "metadata": {},
   "source": [
    "Можно объединить книги и пользователей в кластеры, посмотреть, что найдет алгоритм)\n",
    "\n",
    "- возраст, пол \n",
    "\n",
    "- количество прочитанных книг\n",
    "\n",
    "- количество книг прочитанных за период (месяц)\n",
    "\n",
    "- 200 книг (тех самых)\n",
    "\n",
    "- предпочтения по книгам (сайты, бумажные версии)\n",
    "\n",
    "- любимые авторы  \n",
    "\n",
    "Книги:\n",
    "\n",
    "- авторы\n",
    "\n",
    "- жанры\n",
    "\n",
    "- год издания\n",
    "\n",
    "- количество читателей (книги)\n",
    "\n",
    "Жанры можно попробовать найти по bbk.\n",
    "\n",
    "\n",
    "Можно взять только 100000 книг, которые уже прочитали\n",
    "\n",
    "====\n",
    "\n",
    "2. Для такой системы еще рано делать **рекомендации** на основе `предсказаний` - лучше предлагать читателям разные книги:\n",
    "\n",
    "    - ТОП-20 самых популярных\n",
    "\n",
    "    - \"Похожие пользователи также читают...\"\n",
    "\n",
    "    - \"Читателям данной книги также были интересны...\""
   ]
  },
  {
   "cell_type": "markdown",
   "id": "a69759d4",
   "metadata": {},
   "source": [
    "## Тестирование платформы"
   ]
  },
  {
   "cell_type": "markdown",
   "id": "99977de4",
   "metadata": {},
   "source": [
    "## Первая идея для реализации"
   ]
  },
  {
   "cell_type": "markdown",
   "id": "bd34ce49",
   "metadata": {},
   "source": [
    "### Концепт\n",
    "\n",
    "Информация в transaction только о прочитанных (целевых) книгах - не сможем использовать для предсказаний,\n",
    "но можем использовать для отсева аутлайеров\n",
    "\n",
    "Каждый пользователь мало читает - сделать фокус на общей группе книг:\n",
    "\n",
    "- Найти кластеры и для них сделать рекомендации\n",
    "- Посчитать вероятность для целевых книг - сможем ли предсказать? Какие факторы влияют?\n",
    "- Можно ли рандомно разделить по пользователям, чтобы попасть в hitrate\n",
    "\n"
   ]
  },
  {
   "cell_type": "markdown",
   "id": "1bb1a892",
   "metadata": {},
   "source": [
    "### Формализация задачи"
   ]
  },
  {
   "cell_type": "markdown",
   "id": "7911c949",
   "metadata": {},
   "source": [
    "Так как у нас **нет рейтинга** пользователей, то цель предсказаний - найти наиболее `релевантные` книги для каждого читателя.\n",
    "\n",
    "- Релевантные/ не релевантные - `бинарная` классификация\n",
    "\n",
    "\n",
    "- Наиболее подходящие книги - нам важны **вероятности**\n",
    "\n",
    "Целевой признак - понравится ли новая книжка читателю (если да, то он обязательно `возьмет` ее с книжной полки или скачает)"
   ]
  },
  {
   "cell_type": "markdown",
   "id": "fa3d502a",
   "metadata": {},
   "source": [
    "### Метрики для оценки качества"
   ]
  },
  {
   "cell_type": "markdown",
   "id": "2d13ab04",
   "metadata": {},
   "source": [
    "**TOP-20** рекомендаций\n",
    "\n",
    "1. Какой процент книжек мы отловили? Наш hit rate:)\n",
    "\n",
    "`Recall` - количество релевантных рекомендаций / количество взятых книг \n",
    "\n",
    "0.8 => модель может отловить все 80% интересных книжек\n",
    "\n",
    "====================================================================================\n",
    "\n",
    "2. Сколько книг нужно будет посоветовать, чтобы попасть в яблочко и угадать ту самую?\n",
    "\n",
    "`Precision` - количество релевантных рекомендаций / общее количество рекомендаций\n",
    "\n",
    "0.2 => модель выдает много нерелевантных рекомендаций, только 20% полезны пользователям"
   ]
  },
  {
   "cell_type": "markdown",
   "id": "041a1bb5",
   "metadata": {},
   "source": [
    "**Вывод**\n",
    "\n",
    "1. Делаем гипотезу, что модель оценивает попадние в яблочко для ГРУППЫ пользователей (если рандомно смешаем рекомендации - качество останется тем же).\n",
    "\n",
    "- Для precision@k такое решение должно быть нерелевантным\n",
    "\n",
    "- Можно использовать алгоритм KNN и найти наиболее близкие книги! К нашим 100 000\n",
    "\n",
    "2. Вопросы:\n",
    "\n",
    "- Какое количество читаталей в тестовой выборке?\n",
    "\n",
    "- Какое количество книг на каждого читателя?\n",
    "\n",
    "- Как делится train и test (попадают ли книги не из transaction)?"
   ]
  }
 ],
 "metadata": {
  "ExecuteTimeLog": [
   {
    "duration": 55,
    "start_time": "2022-08-23T07:43:31.519Z"
   },
   {
    "duration": 1352,
    "start_time": "2022-08-23T08:02:40.927Z"
   },
   {
    "duration": 4,
    "start_time": "2022-08-23T08:02:42.281Z"
   },
   {
    "duration": 117,
    "start_time": "2022-08-23T08:06:55.709Z"
   },
   {
    "duration": 1188,
    "start_time": "2022-08-23T08:09:44.765Z"
   },
   {
    "duration": 4,
    "start_time": "2022-08-23T08:09:45.955Z"
   },
   {
    "duration": 864,
    "start_time": "2022-08-23T08:09:45.961Z"
   },
   {
    "duration": 14,
    "start_time": "2022-08-23T08:11:45.251Z"
   },
   {
    "duration": 11,
    "start_time": "2022-08-23T08:11:49.992Z"
   },
   {
    "duration": 157,
    "start_time": "2022-08-23T08:24:19.200Z"
   },
   {
    "duration": 66,
    "start_time": "2022-08-23T08:25:01.062Z"
   },
   {
    "duration": 68,
    "start_time": "2022-08-23T08:27:43.721Z"
   },
   {
    "duration": 71,
    "start_time": "2022-08-23T08:29:12.625Z"
   },
   {
    "duration": 285,
    "start_time": "2022-08-23T08:29:26.171Z"
   },
   {
    "duration": 251,
    "start_time": "2022-08-23T08:29:32.525Z"
   },
   {
    "duration": 648,
    "start_time": "2022-08-23T08:30:58.947Z"
   },
   {
    "duration": 568,
    "start_time": "2022-08-23T08:31:12.617Z"
   },
   {
    "duration": 963,
    "start_time": "2022-08-23T08:31:20.079Z"
   },
   {
    "duration": 1291,
    "start_time": "2022-08-23T09:05:49.968Z"
   },
   {
    "duration": 7,
    "start_time": "2022-08-23T09:05:51.261Z"
   },
   {
    "duration": 754,
    "start_time": "2022-08-23T09:05:51.270Z"
   },
   {
    "duration": 16,
    "start_time": "2022-08-23T09:05:52.026Z"
   },
   {
    "duration": 958,
    "start_time": "2022-08-23T09:05:52.044Z"
   },
   {
    "duration": 95,
    "start_time": "2022-08-23T09:05:53.003Z"
   },
   {
    "duration": 30,
    "start_time": "2022-08-23T09:05:55.797Z"
   },
   {
    "duration": 16,
    "start_time": "2022-08-23T09:06:14.908Z"
   },
   {
    "duration": 24,
    "start_time": "2022-08-23T09:06:25.937Z"
   },
   {
    "duration": 27,
    "start_time": "2022-08-23T09:06:40.546Z"
   },
   {
    "duration": 24,
    "start_time": "2022-08-23T09:07:41.546Z"
   },
   {
    "duration": 374,
    "start_time": "2022-08-23T09:08:27.643Z"
   },
   {
    "duration": 69,
    "start_time": "2022-08-23T09:09:59.522Z"
   },
   {
    "duration": 52,
    "start_time": "2022-08-23T09:10:03.014Z"
   },
   {
    "duration": 54,
    "start_time": "2022-08-23T09:10:09.817Z"
   },
   {
    "duration": 19,
    "start_time": "2022-08-23T09:14:19.012Z"
   },
   {
    "duration": 51,
    "start_time": "2022-08-23T09:14:42.797Z"
   },
   {
    "duration": 80,
    "start_time": "2022-08-23T09:14:48.962Z"
   },
   {
    "duration": 74,
    "start_time": "2022-08-23T09:14:54.759Z"
   },
   {
    "duration": 76,
    "start_time": "2022-08-23T09:15:20.906Z"
   },
   {
    "duration": 2091,
    "start_time": "2022-08-23T09:18:31.327Z"
   },
   {
    "duration": 2069,
    "start_time": "2022-08-23T09:19:14.000Z"
   },
   {
    "duration": 2346,
    "start_time": "2022-08-23T09:19:21.885Z"
   },
   {
    "duration": 2607,
    "start_time": "2022-08-23T09:19:32.966Z"
   },
   {
    "duration": 2951,
    "start_time": "2022-08-23T09:19:44.437Z"
   },
   {
    "duration": 2644,
    "start_time": "2022-08-23T09:20:36.424Z"
   },
   {
    "duration": 2161,
    "start_time": "2022-08-23T09:21:26.890Z"
   },
   {
    "duration": 2192,
    "start_time": "2022-08-23T09:21:33.901Z"
   },
   {
    "duration": 2625,
    "start_time": "2022-08-23T09:22:09.765Z"
   },
   {
    "duration": 2588,
    "start_time": "2022-08-23T09:22:21.427Z"
   },
   {
    "duration": 2525,
    "start_time": "2022-08-23T09:22:31.444Z"
   },
   {
    "duration": 2527,
    "start_time": "2022-08-23T09:22:45.942Z"
   },
   {
    "duration": 15,
    "start_time": "2022-08-23T09:24:04.750Z"
   },
   {
    "duration": 5,
    "start_time": "2022-08-23T09:24:17.672Z"
   },
   {
    "duration": 410,
    "start_time": "2022-08-23T09:24:28.414Z"
   },
   {
    "duration": 13841,
    "start_time": "2022-08-23T09:25:31.491Z"
   },
   {
    "duration": 405,
    "start_time": "2022-08-23T09:25:49.822Z"
   },
   {
    "duration": 11,
    "start_time": "2022-08-23T09:28:40.526Z"
   },
   {
    "duration": 102,
    "start_time": "2022-08-23T09:28:46.018Z"
   },
   {
    "duration": 2152,
    "start_time": "2022-08-23T09:30:41.793Z"
   },
   {
    "duration": 2231,
    "start_time": "2022-08-23T09:30:57.373Z"
   },
   {
    "duration": 2177,
    "start_time": "2022-08-23T09:31:04.292Z"
   },
   {
    "duration": 2531,
    "start_time": "2022-08-23T09:31:13.285Z"
   },
   {
    "duration": 2227,
    "start_time": "2022-08-23T09:31:22.867Z"
   },
   {
    "duration": 2429,
    "start_time": "2022-08-23T09:31:28.722Z"
   },
   {
    "duration": 2509,
    "start_time": "2022-08-23T09:31:48.721Z"
   },
   {
    "duration": 2388,
    "start_time": "2022-08-23T09:31:59.716Z"
   },
   {
    "duration": 23039,
    "start_time": "2022-08-23T09:36:43.745Z"
   },
   {
    "duration": 346,
    "start_time": "2022-08-23T09:37:13.103Z"
   },
   {
    "duration": 89,
    "start_time": "2022-08-23T09:37:25.508Z"
   },
   {
    "duration": 24093,
    "start_time": "2022-08-23T09:37:29.375Z"
   },
   {
    "duration": 332,
    "start_time": "2022-08-23T09:38:49.810Z"
   },
   {
    "duration": 436,
    "start_time": "2022-08-23T09:39:01.402Z"
   },
   {
    "duration": 8,
    "start_time": "2022-08-23T09:39:30.143Z"
   },
   {
    "duration": 174,
    "start_time": "2022-08-23T09:39:34.678Z"
   },
   {
    "duration": 1296,
    "start_time": "2022-08-23T14:43:55.481Z"
   },
   {
    "duration": 3,
    "start_time": "2022-08-23T14:43:56.779Z"
   },
   {
    "duration": 771,
    "start_time": "2022-08-23T14:43:56.783Z"
   },
   {
    "duration": 12,
    "start_time": "2022-08-23T14:43:57.557Z"
   },
   {
    "duration": 862,
    "start_time": "2022-08-23T14:43:57.571Z"
   },
   {
    "duration": 20,
    "start_time": "2022-08-23T14:43:58.434Z"
   },
   {
    "duration": 66,
    "start_time": "2022-08-23T14:43:58.455Z"
   },
   {
    "duration": 43,
    "start_time": "2022-08-23T14:43:58.522Z"
   },
   {
    "duration": 2222,
    "start_time": "2022-08-23T14:43:58.567Z"
   },
   {
    "duration": 96,
    "start_time": "2022-08-23T14:44:00.792Z"
   },
   {
    "duration": 2058,
    "start_time": "2022-08-23T14:44:00.890Z"
   },
   {
    "duration": 317,
    "start_time": "2022-08-23T14:44:02.950Z"
   },
   {
    "duration": 351,
    "start_time": "2022-08-23T14:44:03.269Z"
   },
   {
    "duration": 149,
    "start_time": "2022-08-23T14:44:03.622Z"
   },
   {
    "duration": 95,
    "start_time": "2022-08-23T14:44:03.773Z"
   },
   {
    "duration": 9,
    "start_time": "2022-08-23T14:44:36.942Z"
   },
   {
    "duration": 308,
    "start_time": "2022-08-23T14:46:05.261Z"
   },
   {
    "duration": 280,
    "start_time": "2022-08-23T14:46:13.526Z"
   },
   {
    "duration": 153,
    "start_time": "2022-08-23T14:46:22.086Z"
   },
   {
    "duration": 23,
    "start_time": "2022-08-23T14:46:49.697Z"
   },
   {
    "duration": 164,
    "start_time": "2022-08-23T14:47:13.484Z"
   },
   {
    "duration": 19,
    "start_time": "2022-08-23T14:47:33.095Z"
   },
   {
    "duration": 281,
    "start_time": "2022-08-23T14:50:10.675Z"
   },
   {
    "duration": 19,
    "start_time": "2022-08-23T14:50:11.797Z"
   },
   {
    "duration": 7,
    "start_time": "2022-08-23T14:50:42.251Z"
   },
   {
    "duration": 6,
    "start_time": "2022-08-23T14:50:49.016Z"
   },
   {
    "duration": 6,
    "start_time": "2022-08-23T14:50:51.137Z"
   },
   {
    "duration": 7,
    "start_time": "2022-08-23T14:50:53.893Z"
   },
   {
    "duration": 7,
    "start_time": "2022-08-23T14:50:59.957Z"
   },
   {
    "duration": 9,
    "start_time": "2022-08-23T14:56:21.876Z"
   },
   {
    "duration": 7,
    "start_time": "2022-08-23T14:56:28.287Z"
   },
   {
    "duration": 12,
    "start_time": "2022-08-23T14:56:37.047Z"
   },
   {
    "duration": 16,
    "start_time": "2022-08-23T14:57:50.024Z"
   },
   {
    "duration": 199,
    "start_time": "2022-08-23T14:57:53.852Z"
   },
   {
    "duration": 146,
    "start_time": "2022-08-23T14:58:01.779Z"
   },
   {
    "duration": 11,
    "start_time": "2022-08-23T14:59:43.265Z"
   },
   {
    "duration": 90,
    "start_time": "2022-08-23T14:59:56.958Z"
   },
   {
    "duration": 10,
    "start_time": "2022-08-23T15:00:03.137Z"
   },
   {
    "duration": 13,
    "start_time": "2022-08-23T15:00:10.733Z"
   },
   {
    "duration": 4,
    "start_time": "2022-08-23T15:00:28.146Z"
   },
   {
    "duration": 38,
    "start_time": "2022-08-23T15:00:33.117Z"
   },
   {
    "duration": 36,
    "start_time": "2022-08-23T15:00:42.349Z"
   },
   {
    "duration": 180,
    "start_time": "2022-08-23T15:02:19.989Z"
   },
   {
    "duration": 167,
    "start_time": "2022-08-23T15:02:24.877Z"
   },
   {
    "duration": 165,
    "start_time": "2022-08-23T15:02:30.684Z"
   },
   {
    "duration": 145,
    "start_time": "2022-08-23T15:02:33.957Z"
   },
   {
    "duration": 176,
    "start_time": "2022-08-23T15:02:37.817Z"
   },
   {
    "duration": 176,
    "start_time": "2022-08-23T15:03:37.040Z"
   },
   {
    "duration": 183,
    "start_time": "2022-08-23T15:03:43.265Z"
   },
   {
    "duration": 177,
    "start_time": "2022-08-23T15:05:26.275Z"
   },
   {
    "duration": 193,
    "start_time": "2022-08-23T15:05:35.366Z"
   },
   {
    "duration": 258,
    "start_time": "2022-08-23T15:06:09.413Z"
   },
   {
    "duration": 169,
    "start_time": "2022-08-23T15:06:15.119Z"
   },
   {
    "duration": 53,
    "start_time": "2022-08-23T15:07:44.723Z"
   },
   {
    "duration": 179,
    "start_time": "2022-08-23T15:10:07.374Z"
   },
   {
    "duration": 195,
    "start_time": "2022-08-23T15:10:27.097Z"
   },
   {
    "duration": 76,
    "start_time": "2022-08-23T15:26:21.920Z"
   },
   {
    "duration": 66,
    "start_time": "2022-08-23T15:26:24.351Z"
   },
   {
    "duration": 5,
    "start_time": "2022-08-23T17:23:33.263Z"
   },
   {
    "duration": 1265,
    "start_time": "2022-08-23T17:23:38.521Z"
   },
   {
    "duration": 3,
    "start_time": "2022-08-23T17:23:39.788Z"
   },
   {
    "duration": 697,
    "start_time": "2022-08-23T17:23:39.792Z"
   },
   {
    "duration": 21,
    "start_time": "2022-08-23T17:23:40.491Z"
   },
   {
    "duration": 950,
    "start_time": "2022-08-23T17:23:40.514Z"
   },
   {
    "duration": 29,
    "start_time": "2022-08-23T17:23:41.466Z"
   },
   {
    "duration": 42,
    "start_time": "2022-08-23T17:23:41.496Z"
   },
   {
    "duration": 62,
    "start_time": "2022-08-23T17:23:41.540Z"
   },
   {
    "duration": 2094,
    "start_time": "2022-08-23T17:23:41.603Z"
   },
   {
    "duration": 106,
    "start_time": "2022-08-23T17:23:43.698Z"
   },
   {
    "duration": 1854,
    "start_time": "2022-08-23T17:23:43.806Z"
   },
   {
    "duration": 12,
    "start_time": "2022-08-23T17:23:45.662Z"
   },
   {
    "duration": 44,
    "start_time": "2022-08-23T17:23:45.676Z"
   },
   {
    "duration": 12,
    "start_time": "2022-08-23T17:35:47.133Z"
   },
   {
    "duration": 283,
    "start_time": "2022-08-23T17:40:33.242Z"
   },
   {
    "duration": 53,
    "start_time": "2022-08-23T17:40:46.083Z"
   },
   {
    "duration": 271,
    "start_time": "2022-08-23T17:41:39.390Z"
   },
   {
    "duration": 7,
    "start_time": "2022-08-23T17:41:42.413Z"
   },
   {
    "duration": 12,
    "start_time": "2022-08-23T17:42:06.901Z"
   },
   {
    "duration": 61,
    "start_time": "2022-08-23T17:43:23.533Z"
   },
   {
    "duration": 46,
    "start_time": "2022-08-23T17:43:36.342Z"
   },
   {
    "duration": 34,
    "start_time": "2022-08-23T17:43:53.813Z"
   },
   {
    "duration": 76,
    "start_time": "2022-08-23T17:44:00.662Z"
   },
   {
    "duration": 66,
    "start_time": "2022-08-23T17:44:09.883Z"
   },
   {
    "duration": 32,
    "start_time": "2022-08-23T17:44:46.940Z"
   },
   {
    "duration": 63,
    "start_time": "2022-08-23T17:44:59.453Z"
   },
   {
    "duration": 69,
    "start_time": "2022-08-23T17:45:15.753Z"
   },
   {
    "duration": 337,
    "start_time": "2022-08-23T17:45:57.501Z"
   },
   {
    "duration": 50,
    "start_time": "2022-08-23T17:49:14.092Z"
   },
   {
    "duration": 59,
    "start_time": "2022-08-23T17:49:16.472Z"
   },
   {
    "duration": 54,
    "start_time": "2022-08-23T18:07:40.401Z"
   },
   {
    "duration": 50,
    "start_time": "2022-08-23T18:07:58.591Z"
   },
   {
    "duration": 57,
    "start_time": "2022-08-23T18:08:38.793Z"
   },
   {
    "duration": 7,
    "start_time": "2022-08-23T18:08:55.443Z"
   },
   {
    "duration": 104,
    "start_time": "2022-08-23T18:09:35.234Z"
   },
   {
    "duration": 129,
    "start_time": "2022-08-23T18:11:24.625Z"
   },
   {
    "duration": 114,
    "start_time": "2022-08-23T18:11:39.075Z"
   },
   {
    "duration": 8,
    "start_time": "2022-08-23T18:13:42.493Z"
   },
   {
    "duration": 4,
    "start_time": "2022-08-23T18:13:48.643Z"
   },
   {
    "duration": 11,
    "start_time": "2022-08-23T18:14:05.271Z"
   },
   {
    "duration": 10,
    "start_time": "2022-08-23T18:14:14.243Z"
   },
   {
    "duration": 45,
    "start_time": "2022-08-23T18:14:19.673Z"
   },
   {
    "duration": 10,
    "start_time": "2022-08-23T18:14:24.235Z"
   },
   {
    "duration": 121,
    "start_time": "2022-08-23T18:14:45.391Z"
   },
   {
    "duration": 151,
    "start_time": "2022-08-23T18:14:57.547Z"
   },
   {
    "duration": 9,
    "start_time": "2022-08-23T18:45:36.676Z"
   },
   {
    "duration": 8,
    "start_time": "2022-08-23T18:45:49.385Z"
   },
   {
    "duration": 11,
    "start_time": "2022-08-23T18:46:00.056Z"
   },
   {
    "duration": 11,
    "start_time": "2022-08-23T18:46:18.176Z"
   },
   {
    "duration": 8,
    "start_time": "2022-08-23T18:46:34.386Z"
   },
   {
    "duration": 10,
    "start_time": "2022-08-23T18:46:44.326Z"
   },
   {
    "duration": 28,
    "start_time": "2022-08-23T18:48:19.847Z"
   },
   {
    "duration": 176,
    "start_time": "2022-08-23T18:51:09.842Z"
   },
   {
    "duration": 1480,
    "start_time": "2022-08-23T19:01:46.014Z"
   },
   {
    "duration": 1043,
    "start_time": "2022-08-23T19:01:58.325Z"
   },
   {
    "duration": 5,
    "start_time": "2022-08-23T19:01:59.370Z"
   },
   {
    "duration": 1140,
    "start_time": "2022-08-23T19:01:59.377Z"
   },
   {
    "duration": 14,
    "start_time": "2022-08-23T19:02:00.519Z"
   },
   {
    "duration": 927,
    "start_time": "2022-08-23T19:02:00.536Z"
   },
   {
    "duration": 28,
    "start_time": "2022-08-23T19:02:01.465Z"
   },
   {
    "duration": 54,
    "start_time": "2022-08-23T19:02:01.495Z"
   },
   {
    "duration": 70,
    "start_time": "2022-08-23T19:02:01.550Z"
   },
   {
    "duration": 2157,
    "start_time": "2022-08-23T19:02:01.622Z"
   },
   {
    "duration": 108,
    "start_time": "2022-08-23T19:02:03.781Z"
   },
   {
    "duration": 1911,
    "start_time": "2022-08-23T19:02:03.890Z"
   },
   {
    "duration": 29,
    "start_time": "2022-08-23T19:02:05.803Z"
   },
   {
    "duration": 12,
    "start_time": "2022-08-23T19:02:05.834Z"
   },
   {
    "duration": 59,
    "start_time": "2022-08-23T19:02:05.848Z"
   },
   {
    "duration": 36,
    "start_time": "2022-08-23T19:02:15.375Z"
   },
   {
    "duration": 269,
    "start_time": "2022-08-23T19:02:16.664Z"
   },
   {
    "duration": 308,
    "start_time": "2022-08-23T19:02:18.608Z"
   },
   {
    "duration": 179,
    "start_time": "2022-08-23T19:02:24.915Z"
   },
   {
    "duration": 91,
    "start_time": "2022-08-23T19:02:44.915Z"
   },
   {
    "duration": 12,
    "start_time": "2022-08-23T19:03:02.407Z"
   },
   {
    "duration": 60,
    "start_time": "2022-08-23T19:05:09.275Z"
   },
   {
    "duration": 8,
    "start_time": "2022-08-23T19:05:55.484Z"
   },
   {
    "duration": 45,
    "start_time": "2022-08-23T19:06:09.957Z"
   },
   {
    "duration": 42,
    "start_time": "2022-08-23T19:22:33.786Z"
   },
   {
    "duration": 114,
    "start_time": "2022-08-23T19:29:38.750Z"
   },
   {
    "duration": 51,
    "start_time": "2022-08-23T19:33:23.769Z"
   },
   {
    "duration": 55,
    "start_time": "2022-08-23T19:33:33.288Z"
   },
   {
    "duration": 52,
    "start_time": "2022-08-23T19:46:27.729Z"
   },
   {
    "duration": 67,
    "start_time": "2022-08-23T19:46:53.068Z"
   },
   {
    "duration": 92,
    "start_time": "2022-08-23T19:48:06.249Z"
   },
   {
    "duration": 935,
    "start_time": "2022-08-23T19:48:20.908Z"
   },
   {
    "duration": 28555,
    "start_time": "2022-08-23T19:48:49.359Z"
   },
   {
    "duration": 9,
    "start_time": "2022-08-23T19:50:03.889Z"
   },
   {
    "duration": 202,
    "start_time": "2022-08-23T19:50:07.990Z"
   },
   {
    "duration": 27779,
    "start_time": "2022-08-23T19:51:17.657Z"
   },
   {
    "duration": 146248,
    "start_time": "2022-08-23T19:57:25.361Z"
   },
   {
    "duration": 27,
    "start_time": "2022-08-23T20:00:01.199Z"
   },
   {
    "duration": 47580,
    "start_time": "2022-08-23T20:00:05.269Z"
   },
   {
    "duration": 20,
    "start_time": "2022-08-23T20:05:30.050Z"
   },
   {
    "duration": 20,
    "start_time": "2022-08-23T20:05:41.257Z"
   },
   {
    "duration": 18,
    "start_time": "2022-08-23T20:06:01.199Z"
   },
   {
    "duration": 15,
    "start_time": "2022-08-23T20:06:21.255Z"
   },
   {
    "duration": 13,
    "start_time": "2022-08-23T20:07:27.491Z"
   },
   {
    "duration": 91,
    "start_time": "2022-08-23T20:07:52.659Z"
   },
   {
    "duration": 127,
    "start_time": "2022-08-23T20:08:08.848Z"
   },
   {
    "duration": 1055,
    "start_time": "2022-08-23T20:09:28.623Z"
   },
   {
    "duration": 3,
    "start_time": "2022-08-23T20:09:29.680Z"
   },
   {
    "duration": 1533,
    "start_time": "2022-08-23T20:09:29.684Z"
   },
   {
    "duration": 13,
    "start_time": "2022-08-23T20:09:31.219Z"
   },
   {
    "duration": 942,
    "start_time": "2022-08-23T20:09:31.234Z"
   },
   {
    "duration": 27,
    "start_time": "2022-08-23T20:09:32.178Z"
   },
   {
    "duration": 50,
    "start_time": "2022-08-23T20:09:32.206Z"
   },
   {
    "duration": 66,
    "start_time": "2022-08-23T20:09:32.258Z"
   },
   {
    "duration": 2054,
    "start_time": "2022-08-23T20:09:32.326Z"
   },
   {
    "duration": 105,
    "start_time": "2022-08-23T20:09:34.386Z"
   },
   {
    "duration": 1948,
    "start_time": "2022-08-23T20:09:34.493Z"
   },
   {
    "duration": 31,
    "start_time": "2022-08-23T20:09:36.443Z"
   },
   {
    "duration": 12,
    "start_time": "2022-08-23T20:09:36.489Z"
   },
   {
    "duration": 0,
    "start_time": "2022-08-23T20:10:39.871Z"
   },
   {
    "duration": 7,
    "start_time": "2022-08-23T20:10:59.586Z"
   },
   {
    "duration": 10,
    "start_time": "2022-08-23T20:11:44.084Z"
   },
   {
    "duration": 135,
    "start_time": "2022-08-23T20:11:54.118Z"
   },
   {
    "duration": 450,
    "start_time": "2022-08-23T20:12:16.937Z"
   },
   {
    "duration": 10,
    "start_time": "2022-08-23T20:13:30.709Z"
   },
   {
    "duration": 449,
    "start_time": "2022-08-23T20:13:55.356Z"
   },
   {
    "duration": 3319,
    "start_time": "2022-08-23T20:14:14.517Z"
   },
   {
    "duration": 3159,
    "start_time": "2022-08-23T20:14:22.818Z"
   },
   {
    "duration": 11,
    "start_time": "2022-08-23T20:14:33.705Z"
   },
   {
    "duration": 2220,
    "start_time": "2022-08-23T20:14:39.267Z"
   },
   {
    "duration": 3281,
    "start_time": "2022-08-23T20:14:54.634Z"
   },
   {
    "duration": 520,
    "start_time": "2022-08-23T20:15:05.618Z"
   },
   {
    "duration": 6,
    "start_time": "2022-08-23T20:16:49.535Z"
   },
   {
    "duration": 6,
    "start_time": "2022-08-23T20:17:18.145Z"
   },
   {
    "duration": 8,
    "start_time": "2022-08-23T20:23:34.421Z"
   },
   {
    "duration": 11,
    "start_time": "2022-08-23T20:23:38.732Z"
   },
   {
    "duration": 9,
    "start_time": "2022-08-23T20:23:42.055Z"
   },
   {
    "duration": 6,
    "start_time": "2022-08-23T20:27:55.436Z"
   },
   {
    "duration": 13,
    "start_time": "2022-08-23T20:28:04.257Z"
   },
   {
    "duration": 13,
    "start_time": "2022-08-23T20:28:29.653Z"
   },
   {
    "duration": 44,
    "start_time": "2022-08-23T20:47:28.856Z"
   },
   {
    "duration": 38,
    "start_time": "2022-08-23T20:47:37.987Z"
   },
   {
    "duration": 39,
    "start_time": "2022-08-23T20:47:50.174Z"
   },
   {
    "duration": 247,
    "start_time": "2022-08-23T20:48:36.149Z"
   },
   {
    "duration": 189,
    "start_time": "2022-08-23T20:48:45.338Z"
   },
   {
    "duration": 181,
    "start_time": "2022-08-23T20:48:48.663Z"
   },
   {
    "duration": 202,
    "start_time": "2022-08-23T20:48:52.086Z"
   },
   {
    "duration": 234,
    "start_time": "2022-08-23T20:48:59.866Z"
   },
   {
    "duration": 1448,
    "start_time": "2022-08-24T06:24:41.101Z"
   },
   {
    "duration": 5,
    "start_time": "2022-08-24T06:24:42.552Z"
   },
   {
    "duration": 1807,
    "start_time": "2022-08-24T06:24:42.558Z"
   },
   {
    "duration": 18,
    "start_time": "2022-08-24T06:24:44.367Z"
   },
   {
    "duration": 12,
    "start_time": "2022-08-24T06:24:44.388Z"
   },
   {
    "duration": 12,
    "start_time": "2022-08-24T06:24:44.402Z"
   },
   {
    "duration": 612,
    "start_time": "2022-08-24T06:24:44.417Z"
   },
   {
    "duration": 13,
    "start_time": "2022-08-24T06:24:45.032Z"
   },
   {
    "duration": 36,
    "start_time": "2022-08-24T06:24:45.048Z"
   },
   {
    "duration": 349,
    "start_time": "2022-08-24T06:24:45.086Z"
   },
   {
    "duration": 386,
    "start_time": "2022-08-24T06:24:45.437Z"
   },
   {
    "duration": 231,
    "start_time": "2022-08-24T06:24:45.824Z"
   },
   {
    "duration": 72,
    "start_time": "2022-08-24T06:24:46.057Z"
   },
   {
    "duration": 10,
    "start_time": "2022-08-24T06:24:46.131Z"
   },
   {
    "duration": 1338,
    "start_time": "2022-08-24T06:25:13.232Z"
   },
   {
    "duration": 7,
    "start_time": "2022-08-24T06:25:14.573Z"
   },
   {
    "duration": 1726,
    "start_time": "2022-08-24T06:25:14.582Z"
   },
   {
    "duration": 14,
    "start_time": "2022-08-24T06:25:16.310Z"
   },
   {
    "duration": 26,
    "start_time": "2022-08-24T06:25:16.327Z"
   },
   {
    "duration": 17,
    "start_time": "2022-08-24T06:25:16.355Z"
   },
   {
    "duration": 635,
    "start_time": "2022-08-24T06:25:16.374Z"
   },
   {
    "duration": 11,
    "start_time": "2022-08-24T06:25:17.011Z"
   },
   {
    "duration": 21,
    "start_time": "2022-08-24T06:25:17.024Z"
   },
   {
    "duration": 437,
    "start_time": "2022-08-24T06:25:17.046Z"
   },
   {
    "duration": 401,
    "start_time": "2022-08-24T06:25:17.485Z"
   },
   {
    "duration": 229,
    "start_time": "2022-08-24T06:25:17.887Z"
   },
   {
    "duration": 82,
    "start_time": "2022-08-24T06:25:18.118Z"
   },
   {
    "duration": 12,
    "start_time": "2022-08-24T06:25:18.204Z"
   },
   {
    "duration": 43,
    "start_time": "2022-08-24T06:25:44.233Z"
   },
   {
    "duration": 2714,
    "start_time": "2022-08-24T06:25:45.092Z"
   },
   {
    "duration": 120,
    "start_time": "2022-08-24T06:25:47.808Z"
   },
   {
    "duration": 2598,
    "start_time": "2022-08-24T06:26:07.873Z"
   },
   {
    "duration": 153,
    "start_time": "2022-08-24T06:26:26.432Z"
   },
   {
    "duration": 2676,
    "start_time": "2022-08-24T06:26:46.462Z"
   },
   {
    "duration": 2811,
    "start_time": "2022-08-24T06:26:51.792Z"
   },
   {
    "duration": 201,
    "start_time": "2022-08-24T06:27:39.173Z"
   },
   {
    "duration": 210,
    "start_time": "2022-08-24T06:27:47.973Z"
   },
   {
    "duration": 2505,
    "start_time": "2022-08-24T06:29:18.513Z"
   },
   {
    "duration": 949,
    "start_time": "2022-08-24T06:31:39.763Z"
   },
   {
    "duration": 101,
    "start_time": "2022-08-24T06:33:12.551Z"
   },
   {
    "duration": 10,
    "start_time": "2022-08-24T06:33:22.803Z"
   },
   {
    "duration": 41,
    "start_time": "2022-08-24T06:37:59.032Z"
   },
   {
    "duration": 6,
    "start_time": "2022-08-24T06:39:38.593Z"
   },
   {
    "duration": 41,
    "start_time": "2022-08-24T06:39:47.358Z"
   },
   {
    "duration": 52,
    "start_time": "2022-08-24T06:39:56.643Z"
   },
   {
    "duration": 9,
    "start_time": "2022-08-24T06:55:09.454Z"
   },
   {
    "duration": 6,
    "start_time": "2022-08-24T06:55:15.144Z"
   },
   {
    "duration": 77,
    "start_time": "2022-08-24T06:55:23.794Z"
   },
   {
    "duration": 37,
    "start_time": "2022-08-24T06:55:35.142Z"
   },
   {
    "duration": 61,
    "start_time": "2022-08-24T06:56:02.049Z"
   },
   {
    "duration": 57,
    "start_time": "2022-08-24T06:56:07.263Z"
   },
   {
    "duration": 54,
    "start_time": "2022-08-24T06:56:12.583Z"
   },
   {
    "duration": 55,
    "start_time": "2022-08-24T06:56:15.654Z"
   },
   {
    "duration": 3,
    "start_time": "2022-08-24T07:10:14.784Z"
   },
   {
    "duration": 48,
    "start_time": "2022-08-24T07:10:30.504Z"
   },
   {
    "duration": 1155,
    "start_time": "2022-08-24T07:10:41.222Z"
   },
   {
    "duration": 4,
    "start_time": "2022-08-24T07:10:42.380Z"
   },
   {
    "duration": 1950,
    "start_time": "2022-08-24T07:10:42.385Z"
   },
   {
    "duration": 13,
    "start_time": "2022-08-24T07:10:44.337Z"
   },
   {
    "duration": 20,
    "start_time": "2022-08-24T07:10:44.353Z"
   },
   {
    "duration": 21,
    "start_time": "2022-08-24T07:10:44.374Z"
   },
   {
    "duration": 528,
    "start_time": "2022-08-24T07:10:44.397Z"
   },
   {
    "duration": 10,
    "start_time": "2022-08-24T07:10:44.926Z"
   },
   {
    "duration": 38,
    "start_time": "2022-08-24T07:10:44.938Z"
   },
   {
    "duration": 338,
    "start_time": "2022-08-24T07:10:44.978Z"
   },
   {
    "duration": 397,
    "start_time": "2022-08-24T07:10:45.318Z"
   },
   {
    "duration": 218,
    "start_time": "2022-08-24T07:10:45.717Z"
   },
   {
    "duration": 70,
    "start_time": "2022-08-24T07:10:45.938Z"
   },
   {
    "duration": 11,
    "start_time": "2022-08-24T07:10:46.010Z"
   },
   {
    "duration": 55,
    "start_time": "2022-08-24T07:10:46.023Z"
   },
   {
    "duration": 10,
    "start_time": "2022-08-24T07:10:46.080Z"
   },
   {
    "duration": 2605,
    "start_time": "2022-08-24T07:10:46.091Z"
   },
   {
    "duration": 46,
    "start_time": "2022-08-24T07:10:48.698Z"
   },
   {
    "duration": 51,
    "start_time": "2022-08-24T07:10:48.746Z"
   },
   {
    "duration": 5,
    "start_time": "2022-08-24T07:16:06.031Z"
   },
   {
    "duration": 5,
    "start_time": "2022-08-24T07:16:22.178Z"
   },
   {
    "duration": 7,
    "start_time": "2022-08-24T07:16:35.581Z"
   },
   {
    "duration": 103,
    "start_time": "2022-08-24T07:16:55.371Z"
   },
   {
    "duration": 7,
    "start_time": "2022-08-24T07:17:00.204Z"
   },
   {
    "duration": 9,
    "start_time": "2022-08-24T07:17:27.490Z"
   },
   {
    "duration": 8,
    "start_time": "2022-08-24T07:17:32.431Z"
   },
   {
    "duration": 43,
    "start_time": "2022-08-24T07:17:40.050Z"
   },
   {
    "duration": 37,
    "start_time": "2022-08-24T07:17:44.961Z"
   },
   {
    "duration": 51,
    "start_time": "2022-08-24T07:18:02.041Z"
   },
   {
    "duration": 5,
    "start_time": "2022-08-24T07:18:20.720Z"
   },
   {
    "duration": 9,
    "start_time": "2022-08-24T07:19:17.512Z"
   },
   {
    "duration": 9,
    "start_time": "2022-08-24T07:19:23.091Z"
   },
   {
    "duration": 108,
    "start_time": "2022-08-24T07:19:31.442Z"
   },
   {
    "duration": 12,
    "start_time": "2022-08-24T07:22:43.720Z"
   },
   {
    "duration": 5,
    "start_time": "2022-08-24T07:22:43.981Z"
   },
   {
    "duration": 1196,
    "start_time": "2022-08-24T07:22:48.609Z"
   },
   {
    "duration": 77,
    "start_time": "2022-08-24T07:25:27.921Z"
   },
   {
    "duration": 11,
    "start_time": "2022-08-24T07:25:37.532Z"
   },
   {
    "duration": 1188,
    "start_time": "2022-08-24T07:26:19.686Z"
   },
   {
    "duration": 5,
    "start_time": "2022-08-24T07:26:20.876Z"
   },
   {
    "duration": 2052,
    "start_time": "2022-08-24T07:26:20.882Z"
   },
   {
    "duration": 17,
    "start_time": "2022-08-24T07:26:22.935Z"
   },
   {
    "duration": 11,
    "start_time": "2022-08-24T07:26:22.967Z"
   },
   {
    "duration": 12,
    "start_time": "2022-08-24T07:26:22.980Z"
   },
   {
    "duration": 532,
    "start_time": "2022-08-24T07:26:22.994Z"
   },
   {
    "duration": 11,
    "start_time": "2022-08-24T07:26:23.527Z"
   },
   {
    "duration": 32,
    "start_time": "2022-08-24T07:26:23.540Z"
   },
   {
    "duration": 374,
    "start_time": "2022-08-24T07:26:23.574Z"
   },
   {
    "duration": 421,
    "start_time": "2022-08-24T07:26:23.950Z"
   },
   {
    "duration": 214,
    "start_time": "2022-08-24T07:26:24.373Z"
   },
   {
    "duration": 64,
    "start_time": "2022-08-24T07:26:24.589Z"
   },
   {
    "duration": 12,
    "start_time": "2022-08-24T07:26:24.667Z"
   },
   {
    "duration": 80,
    "start_time": "2022-08-24T07:26:24.680Z"
   },
   {
    "duration": 29,
    "start_time": "2022-08-24T07:26:24.762Z"
   },
   {
    "duration": 2516,
    "start_time": "2022-08-24T07:26:24.792Z"
   },
   {
    "duration": 66,
    "start_time": "2022-08-24T07:26:27.310Z"
   },
   {
    "duration": 37,
    "start_time": "2022-08-24T07:26:27.378Z"
   },
   {
    "duration": 6,
    "start_time": "2022-08-24T07:26:28.178Z"
   },
   {
    "duration": 6,
    "start_time": "2022-08-24T07:26:28.870Z"
   },
   {
    "duration": 132,
    "start_time": "2022-08-24T07:26:29.840Z"
   },
   {
    "duration": 235,
    "start_time": "2022-08-24T07:27:32.780Z"
   },
   {
    "duration": 120,
    "start_time": "2022-08-24T07:56:53.022Z"
   },
   {
    "duration": 6,
    "start_time": "2022-08-24T07:56:53.510Z"
   },
   {
    "duration": 1253,
    "start_time": "2022-08-24T07:56:54.512Z"
   },
   {
    "duration": 0,
    "start_time": "2022-08-24T07:56:55.767Z"
   },
   {
    "duration": 259,
    "start_time": "2022-08-24T07:59:50.413Z"
   },
   {
    "duration": 283,
    "start_time": "2022-08-24T08:04:44.923Z"
   },
   {
    "duration": 243,
    "start_time": "2022-08-24T08:05:14.171Z"
   },
   {
    "duration": 84,
    "start_time": "2022-08-24T08:06:37.251Z"
   },
   {
    "duration": 1073,
    "start_time": "2022-08-24T08:29:54.022Z"
   },
   {
    "duration": 16,
    "start_time": "2022-08-24T08:44:28.982Z"
   },
   {
    "duration": 221,
    "start_time": "2022-08-24T08:45:00.355Z"
   },
   {
    "duration": 254,
    "start_time": "2022-08-24T08:45:19.934Z"
   },
   {
    "duration": 260,
    "start_time": "2022-08-24T08:45:39.876Z"
   },
   {
    "duration": 261,
    "start_time": "2022-08-24T08:45:59.443Z"
   },
   {
    "duration": 10,
    "start_time": "2022-08-24T09:30:10.534Z"
   },
   {
    "duration": 6,
    "start_time": "2022-08-24T09:30:18.215Z"
   },
   {
    "duration": 7,
    "start_time": "2022-08-24T09:30:30.085Z"
   },
   {
    "duration": 6,
    "start_time": "2022-08-24T09:30:57.592Z"
   },
   {
    "duration": 26,
    "start_time": "2022-08-24T09:31:47.282Z"
   },
   {
    "duration": 8,
    "start_time": "2022-08-24T09:33:18.652Z"
   },
   {
    "duration": 92,
    "start_time": "2022-08-24T09:33:27.943Z"
   },
   {
    "duration": 21,
    "start_time": "2022-08-24T09:33:39.033Z"
   },
   {
    "duration": 26,
    "start_time": "2022-08-24T09:33:52.642Z"
   },
   {
    "duration": 104,
    "start_time": "2022-08-24T09:34:50.802Z"
   },
   {
    "duration": 159,
    "start_time": "2022-08-24T09:39:19.614Z"
   },
   {
    "duration": 84,
    "start_time": "2022-08-24T09:39:23.502Z"
   },
   {
    "duration": 46,
    "start_time": "2022-08-24T09:39:26.726Z"
   },
   {
    "duration": 47,
    "start_time": "2022-08-24T09:41:55.254Z"
   },
   {
    "duration": 36,
    "start_time": "2022-08-24T09:42:10.441Z"
   },
   {
    "duration": 28,
    "start_time": "2022-08-24T09:42:51.002Z"
   },
   {
    "duration": 108,
    "start_time": "2022-08-24T09:43:32.983Z"
   },
   {
    "duration": 97,
    "start_time": "2022-08-24T09:48:35.812Z"
   },
   {
    "duration": 171,
    "start_time": "2022-08-24T09:49:10.901Z"
   },
   {
    "duration": 169,
    "start_time": "2022-08-24T09:49:23.632Z"
   },
   {
    "duration": 144,
    "start_time": "2022-08-24T09:49:38.452Z"
   },
   {
    "duration": 149,
    "start_time": "2022-08-24T09:49:51.220Z"
   },
   {
    "duration": 148,
    "start_time": "2022-08-24T09:50:28.482Z"
   },
   {
    "duration": 161,
    "start_time": "2022-08-24T09:50:34.953Z"
   },
   {
    "duration": 184,
    "start_time": "2022-08-24T09:50:49.114Z"
   },
   {
    "duration": 152,
    "start_time": "2022-08-24T09:51:16.283Z"
   },
   {
    "duration": 189,
    "start_time": "2022-08-24T09:51:53.683Z"
   },
   {
    "duration": 179,
    "start_time": "2022-08-24T09:51:58.408Z"
   },
   {
    "duration": 209,
    "start_time": "2022-08-24T09:52:04.015Z"
   },
   {
    "duration": 199,
    "start_time": "2022-08-24T09:52:10.912Z"
   },
   {
    "duration": 189,
    "start_time": "2022-08-24T09:52:15.552Z"
   },
   {
    "duration": 172,
    "start_time": "2022-08-24T09:52:38.441Z"
   },
   {
    "duration": 154,
    "start_time": "2022-08-24T09:52:53.353Z"
   },
   {
    "duration": 162,
    "start_time": "2022-08-24T09:58:14.987Z"
   },
   {
    "duration": 167,
    "start_time": "2022-08-24T09:58:35.633Z"
   },
   {
    "duration": 75,
    "start_time": "2022-08-24T10:09:58.282Z"
   },
   {
    "duration": 288,
    "start_time": "2022-08-24T10:10:47.311Z"
   },
   {
    "duration": 274,
    "start_time": "2022-08-24T10:11:11.160Z"
   },
   {
    "duration": 99,
    "start_time": "2022-08-24T10:11:12.379Z"
   },
   {
    "duration": 243,
    "start_time": "2022-08-24T10:11:12.911Z"
   },
   {
    "duration": 246,
    "start_time": "2022-08-24T10:11:29.800Z"
   },
   {
    "duration": 256,
    "start_time": "2022-08-24T10:12:37.200Z"
   },
   {
    "duration": 375,
    "start_time": "2022-08-24T10:13:46.763Z"
   },
   {
    "duration": 87,
    "start_time": "2022-08-24T10:13:48.310Z"
   },
   {
    "duration": 364,
    "start_time": "2022-08-24T10:13:49.430Z"
   },
   {
    "duration": 253,
    "start_time": "2022-08-24T10:14:31.000Z"
   },
   {
    "duration": 95,
    "start_time": "2022-08-24T10:15:23.261Z"
   },
   {
    "duration": 314,
    "start_time": "2022-08-24T10:15:26.724Z"
   },
   {
    "duration": 30,
    "start_time": "2022-08-24T10:19:29.549Z"
   },
   {
    "duration": 15,
    "start_time": "2022-08-24T11:03:14.899Z"
   },
   {
    "duration": 18,
    "start_time": "2022-08-24T11:04:53.999Z"
   },
   {
    "duration": 17,
    "start_time": "2022-08-24T11:05:02.019Z"
   },
   {
    "duration": 16,
    "start_time": "2022-08-24T11:05:08.200Z"
   },
   {
    "duration": 93,
    "start_time": "2022-08-24T11:07:13.410Z"
   },
   {
    "duration": 97,
    "start_time": "2022-08-24T11:08:04.829Z"
   },
   {
    "duration": 112,
    "start_time": "2022-08-24T11:08:15.680Z"
   },
   {
    "duration": 107,
    "start_time": "2022-08-24T11:08:19.409Z"
   },
   {
    "duration": 137,
    "start_time": "2022-08-24T11:08:50.831Z"
   },
   {
    "duration": 104,
    "start_time": "2022-08-24T11:08:55.450Z"
   },
   {
    "duration": 108,
    "start_time": "2022-08-24T11:09:13.279Z"
   },
   {
    "duration": 116,
    "start_time": "2022-08-24T11:09:32.593Z"
   },
   {
    "duration": 98,
    "start_time": "2022-08-24T11:09:59.029Z"
   },
   {
    "duration": 24,
    "start_time": "2022-08-24T11:10:27.148Z"
   },
   {
    "duration": 91,
    "start_time": "2022-08-24T11:12:22.452Z"
   },
   {
    "duration": 94,
    "start_time": "2022-08-24T11:12:27.089Z"
   },
   {
    "duration": 96,
    "start_time": "2022-08-24T11:12:31.134Z"
   },
   {
    "duration": 102,
    "start_time": "2022-08-24T11:14:31.241Z"
   },
   {
    "duration": 109,
    "start_time": "2022-08-24T11:14:52.117Z"
   },
   {
    "duration": 107,
    "start_time": "2022-08-24T11:15:17.387Z"
   },
   {
    "duration": 100,
    "start_time": "2022-08-24T11:15:44.977Z"
   },
   {
    "duration": 1317,
    "start_time": "2022-08-26T14:48:28.309Z"
   },
   {
    "duration": 3,
    "start_time": "2022-08-26T14:48:29.628Z"
   },
   {
    "duration": 1407,
    "start_time": "2022-08-26T14:48:29.637Z"
   },
   {
    "duration": 16,
    "start_time": "2022-08-26T14:48:31.047Z"
   },
   {
    "duration": 23,
    "start_time": "2022-08-26T14:48:31.065Z"
   },
   {
    "duration": 27,
    "start_time": "2022-08-26T14:48:31.090Z"
   },
   {
    "duration": 557,
    "start_time": "2022-08-26T14:48:31.119Z"
   },
   {
    "duration": 12,
    "start_time": "2022-08-26T14:48:31.678Z"
   },
   {
    "duration": 18,
    "start_time": "2022-08-26T14:48:31.691Z"
   },
   {
    "duration": 304,
    "start_time": "2022-08-26T14:48:31.711Z"
   },
   {
    "duration": 338,
    "start_time": "2022-08-26T14:48:32.017Z"
   },
   {
    "duration": 192,
    "start_time": "2022-08-26T14:48:32.356Z"
   },
   {
    "duration": 56,
    "start_time": "2022-08-26T14:48:32.550Z"
   },
   {
    "duration": 76,
    "start_time": "2022-08-26T14:49:52.750Z"
   },
   {
    "duration": 155,
    "start_time": "2022-08-26T14:49:56.036Z"
   },
   {
    "duration": 86,
    "start_time": "2022-08-26T14:50:31.059Z"
   },
   {
    "duration": 88,
    "start_time": "2022-08-26T14:50:45.354Z"
   },
   {
    "duration": 356,
    "start_time": "2022-08-26T14:51:17.250Z"
   },
   {
    "duration": 1359,
    "start_time": "2022-08-26T18:27:10.080Z"
   },
   {
    "duration": 4,
    "start_time": "2022-08-26T18:27:11.441Z"
   },
   {
    "duration": 1663,
    "start_time": "2022-08-26T18:27:11.447Z"
   },
   {
    "duration": 16,
    "start_time": "2022-08-26T18:27:13.113Z"
   },
   {
    "duration": 19,
    "start_time": "2022-08-26T18:27:13.131Z"
   },
   {
    "duration": 9,
    "start_time": "2022-08-26T18:27:13.152Z"
   },
   {
    "duration": 516,
    "start_time": "2022-08-26T18:27:13.163Z"
   },
   {
    "duration": 11,
    "start_time": "2022-08-26T18:27:13.681Z"
   },
   {
    "duration": 28,
    "start_time": "2022-08-26T18:27:13.694Z"
   },
   {
    "duration": 339,
    "start_time": "2022-08-26T18:27:13.725Z"
   },
   {
    "duration": 412,
    "start_time": "2022-08-26T18:27:14.065Z"
   },
   {
    "duration": 199,
    "start_time": "2022-08-26T18:27:14.478Z"
   },
   {
    "duration": 76,
    "start_time": "2022-08-26T18:27:14.679Z"
   },
   {
    "duration": 5,
    "start_time": "2022-08-26T18:27:14.758Z"
   },
   {
    "duration": 28,
    "start_time": "2022-08-26T18:27:14.765Z"
   },
   {
    "duration": 107,
    "start_time": "2022-08-26T18:27:14.795Z"
   },
   {
    "duration": 125,
    "start_time": "2022-08-26T18:27:14.904Z"
   },
   {
    "duration": 11,
    "start_time": "2022-08-26T18:27:15.039Z"
   },
   {
    "duration": 50,
    "start_time": "2022-08-26T18:27:15.052Z"
   },
   {
    "duration": 9,
    "start_time": "2022-08-26T18:27:15.104Z"
   },
   {
    "duration": 2129,
    "start_time": "2022-08-26T18:27:15.115Z"
   },
   {
    "duration": 46,
    "start_time": "2022-08-26T18:27:17.245Z"
   },
   {
    "duration": 52,
    "start_time": "2022-08-26T18:27:17.293Z"
   },
   {
    "duration": 5,
    "start_time": "2022-08-26T18:27:17.347Z"
   },
   {
    "duration": 7,
    "start_time": "2022-08-26T18:27:17.354Z"
   },
   {
    "duration": 54,
    "start_time": "2022-08-26T18:27:17.362Z"
   },
   {
    "duration": 99,
    "start_time": "2022-08-26T18:27:17.439Z"
   },
   {
    "duration": 246,
    "start_time": "2022-08-26T18:27:17.541Z"
   },
   {
    "duration": 1111,
    "start_time": "2022-08-26T18:37:42.650Z"
   },
   {
    "duration": 3,
    "start_time": "2022-08-26T18:37:43.763Z"
   },
   {
    "duration": 1435,
    "start_time": "2022-08-26T18:37:43.768Z"
   },
   {
    "duration": 13,
    "start_time": "2022-08-26T18:37:45.206Z"
   },
   {
    "duration": 23,
    "start_time": "2022-08-26T18:37:45.221Z"
   },
   {
    "duration": 9,
    "start_time": "2022-08-26T18:37:45.245Z"
   },
   {
    "duration": 552,
    "start_time": "2022-08-26T18:37:45.256Z"
   },
   {
    "duration": 9,
    "start_time": "2022-08-26T18:37:45.809Z"
   },
   {
    "duration": 35,
    "start_time": "2022-08-26T18:37:45.820Z"
   },
   {
    "duration": 357,
    "start_time": "2022-08-26T18:37:45.858Z"
   },
   {
    "duration": 377,
    "start_time": "2022-08-26T18:37:46.217Z"
   },
   {
    "duration": 201,
    "start_time": "2022-08-26T18:37:46.595Z"
   },
   {
    "duration": 76,
    "start_time": "2022-08-26T18:37:46.798Z"
   },
   {
    "duration": 5,
    "start_time": "2022-08-26T18:37:46.875Z"
   },
   {
    "duration": 26,
    "start_time": "2022-08-26T18:37:46.882Z"
   },
   {
    "duration": 107,
    "start_time": "2022-08-26T18:37:46.910Z"
   },
   {
    "duration": 127,
    "start_time": "2022-08-26T18:37:47.019Z"
   },
   {
    "duration": 10,
    "start_time": "2022-08-26T18:37:47.148Z"
   },
   {
    "duration": 45,
    "start_time": "2022-08-26T18:37:47.159Z"
   },
   {
    "duration": 34,
    "start_time": "2022-08-26T18:37:47.206Z"
   },
   {
    "duration": 2268,
    "start_time": "2022-08-26T18:37:47.241Z"
   },
   {
    "duration": 56,
    "start_time": "2022-08-26T18:37:49.511Z"
   },
   {
    "duration": 39,
    "start_time": "2022-08-26T18:37:49.569Z"
   },
   {
    "duration": 6,
    "start_time": "2022-08-26T18:37:49.609Z"
   },
   {
    "duration": 21,
    "start_time": "2022-08-26T18:37:49.621Z"
   },
   {
    "duration": 57,
    "start_time": "2022-08-26T18:37:49.644Z"
   },
   {
    "duration": 111,
    "start_time": "2022-08-26T18:37:49.703Z"
   },
   {
    "duration": 248,
    "start_time": "2022-08-26T18:37:49.817Z"
   },
   {
    "duration": 233,
    "start_time": "2022-08-26T18:37:52.437Z"
   },
   {
    "duration": 421,
    "start_time": "2022-08-26T18:37:59.898Z"
   },
   {
    "duration": 499,
    "start_time": "2022-08-26T18:38:01.119Z"
   },
   {
    "duration": 187,
    "start_time": "2022-08-26T18:38:02.732Z"
   },
   {
    "duration": 61,
    "start_time": "2022-08-26T18:38:03.866Z"
   },
   {
    "duration": 45,
    "start_time": "2022-08-26T18:38:33.332Z"
   },
   {
    "duration": 146,
    "start_time": "2022-08-26T18:38:59.541Z"
   },
   {
    "duration": 562,
    "start_time": "2022-08-26T18:39:18.427Z"
   },
   {
    "duration": 516,
    "start_time": "2022-08-26T18:40:17.902Z"
   },
   {
    "duration": 100,
    "start_time": "2022-08-26T18:41:41.193Z"
   },
   {
    "duration": 88,
    "start_time": "2022-08-26T18:41:59.060Z"
   },
   {
    "duration": 395,
    "start_time": "2022-08-26T18:42:06.632Z"
   },
   {
    "duration": 93,
    "start_time": "2022-08-26T18:44:21.427Z"
   },
   {
    "duration": 383,
    "start_time": "2022-08-26T18:45:10.364Z"
   },
   {
    "duration": 1411,
    "start_time": "2022-08-29T05:59:59.314Z"
   },
   {
    "duration": 5,
    "start_time": "2022-08-29T06:00:00.727Z"
   },
   {
    "duration": 2079,
    "start_time": "2022-08-29T06:00:00.734Z"
   },
   {
    "duration": 16,
    "start_time": "2022-08-29T06:00:02.815Z"
   },
   {
    "duration": 251,
    "start_time": "2022-08-29T06:00:02.833Z"
   },
   {
    "duration": 27,
    "start_time": "2022-08-29T06:00:03.086Z"
   },
   {
    "duration": 586,
    "start_time": "2022-08-29T06:00:03.115Z"
   },
   {
    "duration": 11,
    "start_time": "2022-08-29T06:00:03.702Z"
   },
   {
    "duration": 45,
    "start_time": "2022-08-29T06:00:03.715Z"
   },
   {
    "duration": 474,
    "start_time": "2022-08-29T06:00:03.763Z"
   },
   {
    "duration": 494,
    "start_time": "2022-08-29T06:00:04.238Z"
   },
   {
    "duration": 267,
    "start_time": "2022-08-29T06:00:04.734Z"
   },
   {
    "duration": 89,
    "start_time": "2022-08-29T06:00:05.003Z"
   },
   {
    "duration": 1159,
    "start_time": "2022-08-29T06:01:17.826Z"
   },
   {
    "duration": 4,
    "start_time": "2022-08-29T06:01:18.988Z"
   },
   {
    "duration": 1439,
    "start_time": "2022-08-29T06:01:18.996Z"
   },
   {
    "duration": 17,
    "start_time": "2022-08-29T06:01:20.437Z"
   },
   {
    "duration": 14,
    "start_time": "2022-08-29T06:01:20.456Z"
   },
   {
    "duration": 24,
    "start_time": "2022-08-29T06:01:20.471Z"
   },
   {
    "duration": 541,
    "start_time": "2022-08-29T06:01:20.497Z"
   },
   {
    "duration": 14,
    "start_time": "2022-08-29T06:01:21.040Z"
   },
   {
    "duration": 26,
    "start_time": "2022-08-29T06:01:21.056Z"
   },
   {
    "duration": 370,
    "start_time": "2022-08-29T06:01:21.093Z"
   },
   {
    "duration": 432,
    "start_time": "2022-08-29T06:01:21.465Z"
   },
   {
    "duration": 226,
    "start_time": "2022-08-29T06:01:21.899Z"
   },
   {
    "duration": 77,
    "start_time": "2022-08-29T06:01:22.128Z"
   },
   {
    "duration": 1288,
    "start_time": "2022-08-29T07:15:04.976Z"
   },
   {
    "duration": 4,
    "start_time": "2022-08-29T07:15:06.266Z"
   },
   {
    "duration": 1684,
    "start_time": "2022-08-29T07:15:06.272Z"
   },
   {
    "duration": 48,
    "start_time": "2022-08-29T07:15:07.960Z"
   },
   {
    "duration": 15,
    "start_time": "2022-08-29T07:15:08.012Z"
   },
   {
    "duration": 42,
    "start_time": "2022-08-29T07:15:08.030Z"
   },
   {
    "duration": 600,
    "start_time": "2022-08-29T07:15:08.075Z"
   },
   {
    "duration": 31,
    "start_time": "2022-08-29T07:15:08.677Z"
   },
   {
    "duration": 20,
    "start_time": "2022-08-29T07:15:08.713Z"
   },
   {
    "duration": 385,
    "start_time": "2022-08-29T07:15:08.737Z"
   },
   {
    "duration": 481,
    "start_time": "2022-08-29T07:15:09.124Z"
   },
   {
    "duration": 229,
    "start_time": "2022-08-29T07:15:09.607Z"
   },
   {
    "duration": 81,
    "start_time": "2022-08-29T07:15:09.838Z"
   },
   {
    "duration": 1341,
    "start_time": "2022-08-29T07:43:42.882Z"
   },
   {
    "duration": 5,
    "start_time": "2022-08-29T07:43:44.226Z"
   },
   {
    "duration": 2727,
    "start_time": "2022-08-29T07:43:44.233Z"
   },
   {
    "duration": 18,
    "start_time": "2022-08-29T07:43:46.963Z"
   },
   {
    "duration": 26,
    "start_time": "2022-08-29T07:43:46.993Z"
   },
   {
    "duration": 10,
    "start_time": "2022-08-29T07:43:47.021Z"
   },
   {
    "duration": 530,
    "start_time": "2022-08-29T07:43:47.033Z"
   },
   {
    "duration": 10,
    "start_time": "2022-08-29T07:43:47.565Z"
   },
   {
    "duration": 35,
    "start_time": "2022-08-29T07:43:47.577Z"
   },
   {
    "duration": 421,
    "start_time": "2022-08-29T07:43:47.614Z"
   },
   {
    "duration": 473,
    "start_time": "2022-08-29T07:43:48.037Z"
   },
   {
    "duration": 254,
    "start_time": "2022-08-29T07:43:48.512Z"
   },
   {
    "duration": 121,
    "start_time": "2022-08-29T07:43:48.769Z"
   },
   {
    "duration": 1362,
    "start_time": "2022-09-11T20:55:42.212Z"
   },
   {
    "duration": 3,
    "start_time": "2022-09-11T20:55:43.576Z"
   },
   {
    "duration": 1780,
    "start_time": "2022-09-11T20:55:43.581Z"
   },
   {
    "duration": 23,
    "start_time": "2022-09-11T20:55:45.364Z"
   },
   {
    "duration": 12,
    "start_time": "2022-09-11T20:55:45.389Z"
   },
   {
    "duration": 11,
    "start_time": "2022-09-11T20:55:45.403Z"
   },
   {
    "duration": 605,
    "start_time": "2022-09-11T20:55:45.416Z"
   },
   {
    "duration": 12,
    "start_time": "2022-09-11T20:55:46.022Z"
   },
   {
    "duration": 21,
    "start_time": "2022-09-11T20:55:46.036Z"
   },
   {
    "duration": 393,
    "start_time": "2022-09-11T20:55:46.060Z"
   },
   {
    "duration": 422,
    "start_time": "2022-09-11T20:55:46.455Z"
   },
   {
    "duration": 207,
    "start_time": "2022-09-11T20:55:46.879Z"
   },
   {
    "duration": 63,
    "start_time": "2022-09-11T20:55:47.088Z"
   },
   {
    "duration": 1241,
    "start_time": "2022-09-11T20:57:09.447Z"
   },
   {
    "duration": 4,
    "start_time": "2022-09-11T20:57:10.689Z"
   },
   {
    "duration": 1562,
    "start_time": "2022-09-11T20:57:10.694Z"
   },
   {
    "duration": 20,
    "start_time": "2022-09-11T20:57:12.259Z"
   },
   {
    "duration": 18,
    "start_time": "2022-09-11T20:57:12.281Z"
   },
   {
    "duration": 12,
    "start_time": "2022-09-11T20:57:12.301Z"
   },
   {
    "duration": 494,
    "start_time": "2022-09-11T20:57:12.314Z"
   },
   {
    "duration": 9,
    "start_time": "2022-09-11T20:57:12.809Z"
   },
   {
    "duration": 19,
    "start_time": "2022-09-11T20:57:12.819Z"
   },
   {
    "duration": 3,
    "start_time": "2022-09-11T20:58:11.003Z"
   },
   {
    "duration": 42,
    "start_time": "2022-09-11T20:58:11.007Z"
   },
   {
    "duration": 1262,
    "start_time": "2022-09-11T20:58:11.051Z"
   },
   {
    "duration": 12,
    "start_time": "2022-09-11T20:58:12.314Z"
   },
   {
    "duration": 19,
    "start_time": "2022-09-11T20:58:12.328Z"
   },
   {
    "duration": 8,
    "start_time": "2022-09-11T20:58:12.349Z"
   },
   {
    "duration": 535,
    "start_time": "2022-09-11T20:58:12.358Z"
   },
   {
    "duration": 10,
    "start_time": "2022-09-11T20:58:12.895Z"
   },
   {
    "duration": 17,
    "start_time": "2022-09-11T20:58:12.906Z"
   },
   {
    "duration": 412,
    "start_time": "2022-09-11T20:58:12.925Z"
   },
   {
    "duration": 407,
    "start_time": "2022-09-11T20:58:13.339Z"
   },
   {
    "duration": 229,
    "start_time": "2022-09-11T20:58:13.749Z"
   },
   {
    "duration": 68,
    "start_time": "2022-09-11T20:58:13.980Z"
   }
  ],
  "kernelspec": {
   "display_name": "Python 3 (ipykernel)",
   "language": "python",
   "name": "python3"
  },
  "language_info": {
   "codemirror_mode": {
    "name": "ipython",
    "version": 3
   },
   "file_extension": ".py",
   "mimetype": "text/x-python",
   "name": "python",
   "nbconvert_exporter": "python",
   "pygments_lexer": "ipython3",
   "version": "3.9.5"
  },
  "toc": {
   "base_numbering": 1,
   "nav_menu": {},
   "number_sections": true,
   "sideBar": true,
   "skip_h1_title": true,
   "title_cell": "Table of Contents",
   "title_sidebar": "Contents",
   "toc_cell": false,
   "toc_position": {
    "height": "calc(100% - 180px)",
    "left": "10px",
    "top": "150px",
    "width": "311.042px"
   },
   "toc_section_display": true,
   "toc_window_display": true
  }
 },
 "nbformat": 4,
 "nbformat_minor": 5
}
